{
 "cells": [
  {
   "cell_type": "markdown",
   "metadata": {},
   "source": [
    "# Previous "
   ]
  },
  {
   "cell_type": "code",
   "execution_count": 2,
   "metadata": {},
   "outputs": [],
   "source": [
    "import pandas as pd\n",
    "import numpy as np\n",
    "import seaborn as sns\n",
    "import matplotlib.pyplot as plt\n",
    "%matplotlib inline"
   ]
  },
  {
   "cell_type": "code",
   "execution_count": 109,
   "metadata": {},
   "outputs": [
    {
     "data": {
      "text/plain": [
       "array([5, 3, 1])"
      ]
     },
     "execution_count": 109,
     "metadata": {},
     "output_type": "execute_result"
    }
   ],
   "source": [
    "die_vals = np.array([1,2,3,4,5,6])\n",
    "#np.random.choice(die_vals,size=20)\n",
    "np.random.choice(die_vals, replace=False, size=3) #size should be less than 20"
   ]
  },
  {
   "cell_type": "code",
   "execution_count": 6,
   "metadata": {},
   "outputs": [
    {
     "data": {
      "text/html": [
       "<div>\n",
       "<style scoped>\n",
       "    .dataframe tbody tr th:only-of-type {\n",
       "        vertical-align: middle;\n",
       "    }\n",
       "\n",
       "    .dataframe tbody tr th {\n",
       "        vertical-align: top;\n",
       "    }\n",
       "\n",
       "    .dataframe thead th {\n",
       "        text-align: right;\n",
       "    }\n",
       "</style>\n",
       "<table border=\"1\" class=\"dataframe\">\n",
       "  <thead>\n",
       "    <tr style=\"text-align: right;\">\n",
       "      <th></th>\n",
       "      <th>id</th>\n",
       "      <th>diagnosis</th>\n",
       "      <th>radius</th>\n",
       "    </tr>\n",
       "  </thead>\n",
       "  <tbody>\n",
       "    <tr>\n",
       "      <td>0</td>\n",
       "      <td>842302</td>\n",
       "      <td>M</td>\n",
       "      <td>17.99</td>\n",
       "    </tr>\n",
       "    <tr>\n",
       "      <td>1</td>\n",
       "      <td>842517</td>\n",
       "      <td>M</td>\n",
       "      <td>20.57</td>\n",
       "    </tr>\n",
       "    <tr>\n",
       "      <td>2</td>\n",
       "      <td>84300903</td>\n",
       "      <td>M</td>\n",
       "      <td>19.69</td>\n",
       "    </tr>\n",
       "    <tr>\n",
       "      <td>3</td>\n",
       "      <td>84348301</td>\n",
       "      <td>M</td>\n",
       "      <td>11.42</td>\n",
       "    </tr>\n",
       "    <tr>\n",
       "      <td>4</td>\n",
       "      <td>84358402</td>\n",
       "      <td>M</td>\n",
       "      <td>20.29</td>\n",
       "    </tr>\n",
       "  </tbody>\n",
       "</table>\n",
       "</div>"
      ],
      "text/plain": [
       "         id diagnosis  radius\n",
       "0    842302         M   17.99\n",
       "1    842517         M   20.57\n",
       "2  84300903         M   19.69\n",
       "3  84348301         M   11.42\n",
       "4  84358402         M   20.29"
      ]
     },
     "execution_count": 6,
     "metadata": {},
     "output_type": "execute_result"
    }
   ],
   "source": [
    "cancer_df = pd.read_csv('../data/cancer_data_edited.csv',usecols=['id','diagnosis','radius'])\n",
    "cancer_df.head()"
   ]
  },
  {
   "cell_type": "code",
   "execution_count": 4,
   "metadata": {},
   "outputs": [
    {
     "data": {
      "text/plain": [
       "B    357\n",
       "M    212\n",
       "Name: diagnosis, dtype: int64"
      ]
     },
     "execution_count": 4,
     "metadata": {},
     "output_type": "execute_result"
    }
   ],
   "source": [
    "cancer_df['diagnosis'].value_counts()"
   ]
  },
  {
   "cell_type": "code",
   "execution_count": 117,
   "metadata": {},
   "outputs": [],
   "source": [
    "cancer_df_samp = cancer_df.sample(80)"
   ]
  },
  {
   "cell_type": "code",
   "execution_count": 118,
   "metadata": {},
   "outputs": [
    {
     "data": {
      "text/plain": [
       "(569, 3)"
      ]
     },
     "execution_count": 118,
     "metadata": {},
     "output_type": "execute_result"
    }
   ],
   "source": [
    "cancer_df.shape"
   ]
  },
  {
   "cell_type": "code",
   "execution_count": 119,
   "metadata": {},
   "outputs": [
    {
     "data": {
      "text/plain": [
       "(80, 3)"
      ]
     },
     "execution_count": 119,
     "metadata": {},
     "output_type": "execute_result"
    }
   ],
   "source": [
    "cancer_df_samp.shape"
   ]
  },
  {
   "cell_type": "code",
   "execution_count": 120,
   "metadata": {},
   "outputs": [
    {
     "data": {
      "text/plain": [
       "14.1850125"
      ]
     },
     "execution_count": 120,
     "metadata": {},
     "output_type": "execute_result"
    }
   ],
   "source": [
    "cancer_df_samp['radius'].mean()"
   ]
  },
  {
   "cell_type": "code",
   "execution_count": 156,
   "metadata": {},
   "outputs": [
    {
     "data": {
      "text/plain": [
       "11.881857142857141"
      ]
     },
     "execution_count": 156,
     "metadata": {},
     "output_type": "execute_result"
    }
   ],
   "source": [
    "cancer_df_samp[(cancer_df_samp['diagnosis']=='B')].mean()\n",
    "cancer_df_samp[(cancer_df_samp['diagnosis']=='B')].mean()['radius']"
   ]
  },
  {
   "cell_type": "code",
   "execution_count": 19,
   "metadata": {},
   "outputs": [
    {
     "data": {
      "text/plain": [
       "12.057342530700979"
      ]
     },
     "execution_count": 19,
     "metadata": {},
     "output_type": "execute_result"
    }
   ],
   "source": [
    "sample_df = cancer_df.sample(80)\n",
    "boot_sample_df = sample_df.sample(80,replace=True)\n",
    "boot_means = []\n",
    "for i in range(1000):\n",
    "    boot_sample_df = sample_df.sample(80,replace=True)\n",
    "    boot_means.append(boot_sample_df[boot_sample_df['diagnosis']=='B'].mean()['radius'])\n",
    "\n",
    "np.mean(boot_means) # sample mean"
   ]
  },
  {
   "cell_type": "code",
   "execution_count": 16,
   "metadata": {
    "collapsed": true
   },
   "outputs": [
    {
     "data": {
      "text/plain": [
       "(array([  6.,  12.,  46., 111., 225., 234., 193., 115.,  43.,  15.]),\n",
       " array([11.26996   , 11.41258483, 11.55520967, 11.6978345 , 11.84045933,\n",
       "        11.98308417, 12.125709  , 12.26833383, 12.41095867, 12.5535835 ,\n",
       "        12.69620833]),\n",
       " <a list of 10 Patch objects>)"
      ]
     },
     "execution_count": 16,
     "metadata": {},
     "output_type": "execute_result"
    },
    {
     "data": {
      "image/png": "[encoded data removed]",
      "text/plain": [
       "<Figure size 432x288 with 1 Axes>"
      ]
     },
     "metadata": {
      "needs_background": "light"
     },
     "output_type": "display_data"
    }
   ],
   "source": [
    "plt.hist(boot_means)"
   ]
  },
  {
   "cell_type": "code",
   "execution_count": 17,
   "metadata": {},
   "outputs": [
    {
     "data": {
      "text/plain": [
       "(11.586190476190474, 12.48724843937575)"
      ]
     },
     "execution_count": 17,
     "metadata": {},
     "output_type": "execute_result"
    }
   ],
   "source": [
    "np.percentile(boot_means,2.5), np.percentile(boot_means,97.5) #confidence interval 95%"
   ]
  },
  {
   "cell_type": "code",
   "execution_count": 154,
   "metadata": {},
   "outputs": [
    {
     "data": {
      "text/plain": [
       "12.14652380952381"
      ]
     },
     "execution_count": 154,
     "metadata": {},
     "output_type": "execute_result"
    }
   ],
   "source": [
    "cancer_df[cancer_df['diagnosis']=='B'].mean()['radius']\n",
    "#compare with this - pop mean is in the conf interval described above"
   ]
  },
  {
   "cell_type": "code",
   "execution_count": 9,
   "metadata": {},
   "outputs": [
    {
     "data": {
      "text/plain": [
       "6.095981068289383"
      ]
     },
     "execution_count": 9,
     "metadata": {},
     "output_type": "execute_result"
    }
   ],
   "source": [
    "sample = cancer_df.sample(80,replace=True)\n",
    "mean_B = sample[sample['diagnosis']=='B'].mean()['radius']\n",
    "mean_M = sample[sample['diagnosis']=='M'].mean()['radius']\n",
    "mean_M-mean_B"
   ]
  },
  {
   "cell_type": "code",
   "execution_count": 20,
   "metadata": {},
   "outputs": [
    {
     "name": "stdout",
     "output_type": "stream",
     "text": [
      "5.645423603772233\n"
     ]
    }
   ],
   "source": [
    "sample_df = cancer_df.sample(200)\n",
    "boot_sample_df = sample_df.sample(200,replace=True)\n",
    "boot_means = []\n",
    "for i in range(1000):\n",
    "    boot_sample_df = sample_df.sample(200,replace=True)\n",
    "    mean_B = boot_sample_df[boot_sample_df['diagnosis']=='B'].mean()['radius']\n",
    "    mean_M = boot_sample_df[boot_sample_df['diagnosis']=='M'].mean()['radius']\n",
    "    boot_means.append(mean_M-mean_B)\n",
    "\n",
    "print(np.mean(boot_means)) # sample difference mean"
   ]
  },
  {
   "cell_type": "code",
   "execution_count": 14,
   "metadata": {},
   "outputs": [
    {
     "name": "stdout",
     "output_type": "stream",
     "text": [
      "4.592699384723558 , 6.134109302044077\n"
     ]
    }
   ],
   "source": [
    "low, high = np.percentile(boot_means,2.5), np.percentile(boot_means,97.5)\n",
    "print(low,',',high)"
   ]
  },
  {
   "cell_type": "code",
   "execution_count": 13,
   "metadata": {},
   "outputs": [
    {
     "data": {
      "text/plain": [
       "<matplotlib.lines.Line2D at 0x11f1f2e50>"
      ]
     },
     "execution_count": 13,
     "metadata": {},
     "output_type": "execute_result"
    },
    {
     "data": {
      "image/png": "[encoded data removed]",
      "text/plain": [
       "<Figure size 432x288 with 1 Axes>"
      ]
     },
     "metadata": {
      "needs_background": "light"
     },
     "output_type": "display_data"
    }
   ],
   "source": [
    "plt.hist(boot_means)\n",
    "plt.axvline(low, color='r',alpha=0.5)\n",
    "plt.axvline(high, color='r',alpha=0.5)"
   ]
  },
  {
   "cell_type": "code",
   "execution_count": 35,
   "metadata": {},
   "outputs": [
    {
     "data": {
      "text/plain": [
       "(1.2373134488424444, 1.3325871995604714)"
      ]
     },
     "execution_count": 35,
     "metadata": {},
     "output_type": "execute_result"
    }
   ],
   "source": [
    "#Margin of error\n",
    "np.mean(boot_means)-np.percentile(boot_means,2.5), np.percentile(boot_means,97.5)-np.mean(boot_means)"
   ]
  },
  {
   "cell_type": "code",
   "execution_count": 33,
   "metadata": {},
   "outputs": [
    {
     "name": "stdout",
     "output_type": "stream",
     "text": [
      "(4.845165154122917, 5.787447604187953)\n"
     ]
    }
   ],
   "source": [
    "# confidence interval for t-test\n",
    "# compares mean\n",
    "import statsmodels.stats.api as sms\n",
    "\n",
    "X1 = cancer_df[cancer_df['diagnosis']=='B']['radius']\n",
    "X2 = cancer_df[cancer_df['diagnosis']=='M']['radius']\n",
    "\n",
    "cm = sms.CompareMeans(sms.DescrStatsW(X2), sms.DescrStatsW(X1))\n",
    "print(cm.tconfint_diff(usevar='unequal'))"
   ]
  },
  {
   "cell_type": "code",
   "execution_count": 16,
   "metadata": {},
   "outputs": [
    {
     "data": {
      "text/plain": [
       "12.14652380952381"
      ]
     },
     "execution_count": 16,
     "metadata": {},
     "output_type": "execute_result"
    }
   ],
   "source": [
    "cancer_df[cancer_df['diagnosis']=='B'].mean()['radius']"
   ]
  },
  {
   "cell_type": "code",
   "execution_count": 17,
   "metadata": {},
   "outputs": [
    {
     "data": {
      "text/plain": [
       "17.46283018867925"
      ]
     },
     "execution_count": 17,
     "metadata": {},
     "output_type": "execute_result"
    }
   ],
   "source": [
    "cancer_df[cancer_df['diagnosis']=='M'].mean()['radius']"
   ]
  },
  {
   "cell_type": "code",
   "execution_count": 22,
   "metadata": {},
   "outputs": [
    {
     "data": {
      "text/plain": [
       "12.14652380952381"
      ]
     },
     "execution_count": 22,
     "metadata": {},
     "output_type": "execute_result"
    }
   ],
   "source": [
    "X1\n",
    "# sms.DescrStatsW(X1)"
   ]
  },
  {
   "cell_type": "code",
   "execution_count": 34,
   "metadata": {},
   "outputs": [],
   "source": [
    "# Large sample => narrow interval"
   ]
  },
  {
   "cell_type": "code",
   "execution_count": 2,
   "metadata": {},
   "outputs": [
    {
     "data": {
      "text/html": [
       "<div>\n",
       "<style scoped>\n",
       "    .dataframe tbody tr th:only-of-type {\n",
       "        vertical-align: middle;\n",
       "    }\n",
       "\n",
       "    .dataframe tbody tr th {\n",
       "        vertical-align: top;\n",
       "    }\n",
       "\n",
       "    .dataframe thead th {\n",
       "        text-align: right;\n",
       "    }\n",
       "</style>\n",
       "<table border=\"1\" class=\"dataframe\">\n",
       "  <thead>\n",
       "    <tr style=\"text-align: right;\">\n",
       "      <th></th>\n",
       "      <th>user_id</th>\n",
       "      <th>age</th>\n",
       "      <th>drinks_coffee</th>\n",
       "      <th>height</th>\n",
       "    </tr>\n",
       "  </thead>\n",
       "  <tbody>\n",
       "    <tr>\n",
       "      <td>0</td>\n",
       "      <td>4509</td>\n",
       "      <td>&lt;21</td>\n",
       "      <td>False</td>\n",
       "      <td>64.538179</td>\n",
       "    </tr>\n",
       "    <tr>\n",
       "      <td>1</td>\n",
       "      <td>1864</td>\n",
       "      <td>&gt;=21</td>\n",
       "      <td>True</td>\n",
       "      <td>65.824249</td>\n",
       "    </tr>\n",
       "    <tr>\n",
       "      <td>2</td>\n",
       "      <td>2060</td>\n",
       "      <td>&lt;21</td>\n",
       "      <td>False</td>\n",
       "      <td>71.319854</td>\n",
       "    </tr>\n",
       "    <tr>\n",
       "      <td>3</td>\n",
       "      <td>7875</td>\n",
       "      <td>&gt;=21</td>\n",
       "      <td>True</td>\n",
       "      <td>68.569404</td>\n",
       "    </tr>\n",
       "    <tr>\n",
       "      <td>4</td>\n",
       "      <td>6254</td>\n",
       "      <td>&lt;21</td>\n",
       "      <td>True</td>\n",
       "      <td>64.020226</td>\n",
       "    </tr>\n",
       "  </tbody>\n",
       "</table>\n",
       "</div>"
      ],
      "text/plain": [
       "   user_id   age  drinks_coffee     height\n",
       "0     4509   <21          False  64.538179\n",
       "1     1864  >=21           True  65.824249\n",
       "2     2060   <21          False  71.319854\n",
       "3     7875  >=21           True  68.569404\n",
       "4     6254   <21           True  64.020226"
      ]
     },
     "execution_count": 2,
     "metadata": {},
     "output_type": "execute_result"
    }
   ],
   "source": [
    "coffee_df = pd.read_csv('../data/coffee_dataset.csv')\n",
    "coffee_df.head()"
   ]
  },
  {
   "cell_type": "code",
   "execution_count": 43,
   "metadata": {},
   "outputs": [
    {
     "data": {
      "text/plain": [
       "67.5542931163167"
      ]
     },
     "execution_count": 43,
     "metadata": {},
     "output_type": "execute_result"
    }
   ],
   "source": [
    "# Hypothesis Testing\n",
    "# question : Is average height of all population(both coffee drinkers and non-coffee drinkers) greater than 70 inches? µ=mean height\n",
    "# H0 : µ <= 70\n",
    "# H1 : µ > 70\n",
    "\n",
    "sample_df = coffee_df.sample(200)\n",
    "#boot_sample_df = sample_df.sample(200,replace=True)\n",
    "coffee_df_sample_means = []\n",
    "for i in range(10000):\n",
    "    boot_sample_df = sample_df.sample(200,replace=True)\n",
    "    coffee_df_sample_means.append(boot_sample_df['height'].mean())\n",
    "\n",
    "np.mean(coffee_df_sample_means)"
   ]
  },
  {
   "cell_type": "code",
   "execution_count": 44,
   "metadata": {},
   "outputs": [
    {
     "name": "stdout",
     "output_type": "stream",
     "text": [
      "67.1 , 68.0\n"
     ]
    }
   ],
   "source": [
    "# confidence interval = 95%\n",
    "low,high = np.percentile(coffee_df_sample_means,2.5), np.percentile(coffee_df_sample_means,97.5)\n",
    "print(low.round(2),',',high.round(2))"
   ]
  },
  {
   "cell_type": "code",
   "execution_count": 45,
   "metadata": {},
   "outputs": [
    {
     "data": {
      "text/plain": [
       "<matplotlib.lines.Line2D at 0x11ff7c650>"
      ]
     },
     "execution_count": 45,
     "metadata": {},
     "output_type": "execute_result"
    },
    {
     "data": {
      "image/png": "[encoded data removed]",
      "text/plain": [
       "<Figure size 432x288 with 1 Axes>"
      ]
     },
     "metadata": {
      "needs_background": "light"
     },
     "output_type": "display_data"
    }
   ],
   "source": [
    "plt.hist(coffee_df_sample_means,bins=30,alpha=0.5)\n",
    "plt.axvline(low,color='orange')\n",
    "plt.axvline(high,color='orange')"
   ]
  },
  {
   "cell_type": "code",
   "execution_count": 30,
   "metadata": {},
   "outputs": [],
   "source": [
    "# Using your confidence interval, you can simply look at if the interval falls in the null hypothesis space \n",
    "# or in the alternative hypothesis space to choose which hypothesis you believe to be true.\n",
    "# Our case its H0<=70 as (67.36 , 68.24)<=70\n",
    "# In the above case, our interval was entirely below 70, which would suggest the null (the population mean is \n",
    "#                                                                                      less than 70) is actually true."
   ]
  },
  {
   "cell_type": "markdown",
   "metadata": {},
   "source": [
    "**Is average height for coffee drinkers is the same as for non-coffee drinkers?**\n",
    "**Since there is no directional component associated with this statement, a not equal to seems most reasonable.**\n",
    "\n",
    "$$H_0: \\mu_{coff} - \\mu_{no} = 0$$\n",
    "\n",
    "\n",
    "$$H_1: \\mu_{coff} - \\mu_{no} \\neq 0$$\n",
    "\n",
    "\n",
    "**$\\mu_{coff}$ and $\\mu_{no}$ are the population mean values for coffee drinkers and non-coffee drinkers, respectivley.**\n",
    "\n",
    "**Is the the average height for coffee drinkers is less than non-coffee drinkers?**\n",
    "\n",
    "$$H_0: \\mu_{coff} - \\mu_{no} \\geq 0$$\n",
    "\n",
    "\n",
    "$$H_1: \\mu_{coff} - \\mu_{no} < 0$$\n",
    "\n",
    "\n",
    "**$\\mu_{coff}$ and $\\mu_{no}$ are the population mean values for coffee drinkers and non-coffee drinkers, respectivley.**"
   ]
  },
  {
   "cell_type": "code",
   "execution_count": 3,
   "metadata": {},
   "outputs": [
    {
     "name": "stdout",
     "output_type": "stream",
     "text": [
      "0.22492291215448157\n",
      "0.39779872310472913\n",
      "0.45571787624118226\n"
     ]
    }
   ],
   "source": [
    "sample_df = coffee_df.sample(200)\n",
    "height_coffee_df_sample_means = []\n",
    "height_drink_df_sample_means = []\n",
    "height_not_drink_df_sample_means = []\n",
    "for i in range(10000):\n",
    "    boot_means = sample_df.sample(200, replace=True)\n",
    "    X1 = boot_means[boot_means['drinks_coffee']==True].mean()['height']\n",
    "    X2 = boot_means[boot_means['drinks_coffee']==False].mean()['height']\n",
    "    height_drink_df_sample_means.append(X1)\n",
    "    height_not_drink_df_sample_means.append(X2)\n",
    "    height_coffee_df_sample_means.append(X1-X2)\n",
    "\n",
    "print(np.std(height_drink_df_sample_means))\n",
    "print(np.std(height_not_drink_df_sample_means))\n",
    "print(np.std(height_coffee_df_sample_means))"
   ]
  },
  {
   "cell_type": "code",
   "execution_count": 4,
   "metadata": {},
   "outputs": [
    {
     "name": "stdout",
     "output_type": "stream",
     "text": [
      "68.4446847726306\n",
      "66.87560646846407\n",
      "1.569078304166512\n"
     ]
    }
   ],
   "source": [
    "print(np.mean(height_drink_df_sample_means))\n",
    "print(np.mean(height_not_drink_df_sample_means))\n",
    "print(np.mean(height_coffee_df_sample_means))"
   ]
  },
  {
   "cell_type": "code",
   "execution_count": 5,
   "metadata": {},
   "outputs": [
    {
     "name": "stdout",
     "output_type": "stream",
     "text": [
      "68.0 , 68.89\n",
      "66.1 , 67.66\n",
      "0.66 , 2.44\n"
     ]
    }
   ],
   "source": [
    "# confidence interval = 95%\n",
    "low,high = np.percentile(height_drink_df_sample_means,2.5), np.percentile(height_drink_df_sample_means,97.5)\n",
    "print(low.round(2),',',high.round(2))\n",
    "# confidence interval = 95%\n",
    "low,high = np.percentile(height_not_drink_df_sample_means,2.5), np.percentile(height_not_drink_df_sample_means,97.5)\n",
    "print(low.round(2),',',high.round(2))\n",
    "# confidence interval = 95%\n",
    "low,high = np.percentile(height_coffee_df_sample_means,2.5), np.percentile(height_coffee_df_sample_means,97.5)\n",
    "print(low.round(2),',',high.round(2))"
   ]
  },
  {
   "cell_type": "code",
   "execution_count": 6,
   "metadata": {
    "scrolled": true
   },
   "outputs": [
    {
     "data": {
      "image/png": "[encoded data removed]",
      "text/plain": [
       "<Figure size 432x288 with 1 Axes>"
      ]
     },
     "metadata": {
      "needs_background": "light"
     },
     "output_type": "display_data"
    }
   ],
   "source": [
    "plt.hist(height_drink_df_sample_means,alpha=0.5,bins=30);\n",
    "plt.hist(height_not_drink_df_sample_means,alpha=0.5,bins=30);"
   ]
  },
  {
   "cell_type": "code",
   "execution_count": 7,
   "metadata": {},
   "outputs": [
    {
     "data": {
      "image/png": "[encoded data removed]",
      "text/plain": [
       "<Figure size 432x288 with 1 Axes>"
      ]
     },
     "metadata": {
      "needs_background": "light"
     },
     "output_type": "display_data"
    }
   ],
   "source": [
    "plt.hist(height_coffee_df_sample_means,alpha=0.5,bins=30);"
   ]
  },
  {
   "cell_type": "markdown",
   "metadata": {},
   "source": [
    "use your sampling distribution for the difference in means and [the docs](https://docs.scipy.org/doc/numpy-1.13.0/reference/generated/numpy.random.normal.html) to simulate what you would expect if your sampling distribution were centered on zero.  Also, calculate the observed sample mean difference in `sample_data`. Use your solutions to answer the last questions in the quiz below.\n",
    "\n",
    "**We would expect the sampling distribution to be normal by the Central Limit Theorem, and we know the standard deviation of the sampling distribution of the difference in means from the previous question, so we can use this to simulate draws from the sampling distribution under the null hypothesis.  If there is truly no difference, then the difference between the means should be zero.**"
   ]
  },
  {
   "cell_type": "code",
   "execution_count": 8,
   "metadata": {},
   "outputs": [
    {
     "name": "stdout",
     "output_type": "stream",
     "text": [
      "-0.92 , 0.88\n"
     ]
    },
    {
     "data": {
      "text/plain": [
       "<matplotlib.lines.Line2D at 0x11fc1c550>"
      ]
     },
     "execution_count": 8,
     "metadata": {},
     "output_type": "execute_result"
    },
    {
     "data": {
      "image/png": "[encoded data removed]",
      "text/plain": [
       "<Figure size 432x288 with 1 Axes>"
      ]
     },
     "metadata": {
      "needs_background": "light"
     },
     "output_type": "display_data"
    }
   ],
   "source": [
    "h0 = np.random.normal(0, np.std(height_coffee_df_sample_means), 10000) # Here are 10000 draws from the sampling distribution under the null hypo\n",
    "low,high = np.percentile(h0,2.5), np.percentile(h0,97.5)\n",
    "print(low.round(2),',',high.round(2))\n",
    "plt.hist(h0,bins=30);\n",
    "plt.axvline(low,color='orange')\n",
    "plt.axvline(high,color='orange')"
   ]
  },
  {
   "cell_type": "code",
   "execution_count": 15,
   "metadata": {},
   "outputs": [
    {
     "data": {
      "text/plain": [
       "1.0"
      ]
     },
     "execution_count": 15,
     "metadata": {},
     "output_type": "execute_result"
    }
   ],
   "source": [
    "# H0 : µ <= 70\n",
    "# H1 : µ > 70\n",
    "sample_mean = sample_df['height'].mean()\n",
    "h0 = np.random.normal(70, np.std(height_coffee_df_sample_means), 10000)\n",
    "(h0>sample_mean).mean() # p-value : proprotion of the simulated draws that are larger than our sample mean\n",
    "# calculated h0 values which are greater than our sample mean\n",
    "# p-value is very large so we should consider h0\n",
    "# we should stay at mean being less than 70"
   ]
  },
  {
   "cell_type": "code",
   "execution_count": 19,
   "metadata": {},
   "outputs": [
    {
     "data": {
      "image/png": "[encoded data removed]",
      "text/plain": [
       "<Figure size 432x288 with 1 Axes>"
      ]
     },
     "metadata": {
      "needs_background": "light"
     },
     "output_type": "display_data"
    }
   ],
   "source": [
    "# sample_mean\n",
    "#h0>sample_mean\n",
    "#(h0>sample_mean).mean()\n",
    "plt.hist(h0);"
   ]
  },
  {
   "cell_type": "code",
   "execution_count": 22,
   "metadata": {},
   "outputs": [
    {
     "data": {
      "text/plain": [
       "0.0"
      ]
     },
     "execution_count": 22,
     "metadata": {},
     "output_type": "execute_result"
    }
   ],
   "source": [
    "# H0 : µ >= 70\n",
    "# H1 : µ < 70\n",
    "(h0<sample_mean).mean() # is 0, so we reject h0 and consider h1 suggesting that our pop mean is less than 70"
   ]
  },
  {
   "cell_type": "code",
   "execution_count": 23,
   "metadata": {},
   "outputs": [
    {
     "data": {
      "text/plain": [
       "0.0"
      ]
     },
     "execution_count": 23,
     "metadata": {},
     "output_type": "execute_result"
    }
   ],
   "source": [
    "(h0<sample_mean).mean() + (h0>70 + (70-sample_mean)).mean()"
   ]
  },
  {
   "cell_type": "code",
   "execution_count": 24,
   "metadata": {},
   "outputs": [
    {
     "data": {
      "text/plain": [
       "<matplotlib.lines.Line2D at 0x120f47810>"
      ]
     },
     "execution_count": 24,
     "metadata": {},
     "output_type": "execute_result"
    },
    {
     "data": {
      "image/png": "[encoded data removed]",
      "text/plain": [
       "<Figure size 432x288 with 1 Axes>"
      ]
     },
     "metadata": {
      "needs_background": "light"
     },
     "output_type": "display_data"
    }
   ],
   "source": [
    "low = sample_mean\n",
    "high = 70 + (70-sample_mean)\n",
    "\n",
    "plt.hist(h0)\n",
    "plt.axvline(low,color='orange')\n",
    "plt.axvline(high,color='orange')"
   ]
  },
  {
   "cell_type": "markdown",
   "metadata": {},
   "source": [
    "# New"
   ]
  },
  {
   "cell_type": "markdown",
   "metadata": {},
   "source": [
    "- We can use bootstrapping and sampling distributions to build confidence intervals for our parameters of interest.\n",
    "\n",
    "- By finding the statistic that best estimates our parameter(s) of interest (say the sample mean to estimate the \n",
    "  population mean or the difference in sample means to estimate the difference in population means), \n",
    "  we can easily build confidence intervals for the parameter of interest.\n",
    "\n",
    "- We generally dont have all the data, so we pick a bootstrap sample and work in it and find CI(using bootstrapping)"
   ]
  },
  {
   "cell_type": "markdown",
   "metadata": {},
   "source": [
    "#Confidence Interval: Where our parameters would be with some level of confidence\n",
    "- Use sampling distribution to find an estimate for the mean of the population with 95% confidence\n",
    "- We are 95% confident, the population mean falls between the bounds that you find"
   ]
  },
  {
   "cell_type": "markdown",
   "metadata": {},
   "source": [
    "### - Confidence Interval with Bootstrapping for a single Parameter"
   ]
  },
  {
   "cell_type": "code",
   "execution_count": 3,
   "metadata": {},
   "outputs": [
    {
     "data": {
      "text/html": [
       "<div>\n",
       "<style scoped>\n",
       "    .dataframe tbody tr th:only-of-type {\n",
       "        vertical-align: middle;\n",
       "    }\n",
       "\n",
       "    .dataframe tbody tr th {\n",
       "        vertical-align: top;\n",
       "    }\n",
       "\n",
       "    .dataframe thead th {\n",
       "        text-align: right;\n",
       "    }\n",
       "</style>\n",
       "<table border=\"1\" class=\"dataframe\">\n",
       "  <thead>\n",
       "    <tr style=\"text-align: right;\">\n",
       "      <th></th>\n",
       "      <th>user_id</th>\n",
       "      <th>age</th>\n",
       "      <th>drinks_coffee</th>\n",
       "      <th>height</th>\n",
       "    </tr>\n",
       "  </thead>\n",
       "  <tbody>\n",
       "    <tr>\n",
       "      <td>0</td>\n",
       "      <td>4509</td>\n",
       "      <td>&lt;21</td>\n",
       "      <td>False</td>\n",
       "      <td>64.538179</td>\n",
       "    </tr>\n",
       "    <tr>\n",
       "      <td>1</td>\n",
       "      <td>1864</td>\n",
       "      <td>&gt;=21</td>\n",
       "      <td>True</td>\n",
       "      <td>65.824249</td>\n",
       "    </tr>\n",
       "    <tr>\n",
       "      <td>2</td>\n",
       "      <td>2060</td>\n",
       "      <td>&lt;21</td>\n",
       "      <td>False</td>\n",
       "      <td>71.319854</td>\n",
       "    </tr>\n",
       "    <tr>\n",
       "      <td>3</td>\n",
       "      <td>7875</td>\n",
       "      <td>&gt;=21</td>\n",
       "      <td>True</td>\n",
       "      <td>68.569404</td>\n",
       "    </tr>\n",
       "    <tr>\n",
       "      <td>4</td>\n",
       "      <td>6254</td>\n",
       "      <td>&lt;21</td>\n",
       "      <td>True</td>\n",
       "      <td>64.020226</td>\n",
       "    </tr>\n",
       "  </tbody>\n",
       "</table>\n",
       "</div>"
      ],
      "text/plain": [
       "   user_id   age  drinks_coffee     height\n",
       "0     4509   <21          False  64.538179\n",
       "1     1864  >=21           True  65.824249\n",
       "2     2060   <21          False  71.319854\n",
       "3     7875  >=21           True  68.569404\n",
       "4     6254   <21           True  64.020226"
      ]
     },
     "execution_count": 3,
     "metadata": {},
     "output_type": "execute_result"
    }
   ],
   "source": [
    "coffee_df = pd.read_csv('../data/coffee_dataset.csv')\n",
    "coffee_df.head()"
   ]
  },
  {
   "cell_type": "code",
   "execution_count": 4,
   "metadata": {},
   "outputs": [
    {
     "data": {
      "text/plain": [
       "(200, 4)"
      ]
     },
     "execution_count": 4,
     "metadata": {},
     "output_type": "execute_result"
    }
   ],
   "source": [
    "# Working with a sample \n",
    "coffee_df_sample = coffee_df.sample(200)\n",
    "coffee_df_sample.shape"
   ]
  },
  {
   "cell_type": "code",
   "execution_count": 7,
   "metadata": {},
   "outputs": [
    {
     "data": {
      "text/plain": [
       "0.605"
      ]
     },
     "execution_count": 7,
     "metadata": {},
     "output_type": "execute_result"
    }
   ],
   "source": [
    "# Sample\n",
    "coffee_df_sample['drinks_coffee'].mean() "
   ]
  },
  {
   "cell_type": "code",
   "execution_count": 23,
   "metadata": {},
   "outputs": [],
   "source": [
    "# Bootstrap Sample Means\n",
    "coffee_df_sample_boot_mean = []\n",
    "for i in range(1000):\n",
    "    boot_sample_each = coffee_df_sample.sample(200,replace=True)\n",
    "    coffee_df_sample_boot_mean.append(boot_sample_each[boot_sample_each['drinks_coffee']==True].mean()['height'])\n",
    "    \n",
    "# Confidence Interval\n",
    "low,high = np.percentile(coffee_df_sample_boot_mean,2.5), np.percentile(coffee_df_sample_boot_mean,97.5)"
   ]
  },
  {
   "cell_type": "code",
   "execution_count": 54,
   "metadata": {},
   "outputs": [
    {
     "data": {
      "text/plain": [
       "<matplotlib.legend.Legend at 0x1a213c7b90>"
      ]
     },
     "execution_count": 54,
     "metadata": {},
     "output_type": "execute_result"
    },
    {
     "data": {
      "image/png": "[encoded data removed]",
      "text/plain": [
       "<Figure size 432x288 with 1 Axes>"
      ]
     },
     "metadata": {
      "needs_background": "light"
     },
     "output_type": "display_data"
    }
   ],
   "source": [
    "plt.hist(coffee_df_sample_boot_mean,alpha=0.5,bins=30, label='Sample Means')\n",
    "plt.axvline(low,color='b',label='Conf Intrvl')\n",
    "plt.axvline(high,color='b')\n",
    "plt.axvline(np.mean(coffee_df_sample_boot_mean),color='orange',label='Boot Sample Mean')\n",
    "plt.axvline(coffee_df[coffee_df['drinks_coffee']==True]['height'].mean(),color='r',label='Pop Mean')\n",
    "plt.legend(loc='upper right')"
   ]
  },
  {
   "cell_type": "code",
   "execution_count": 36,
   "metadata": {},
   "outputs": [
    {
     "name": "stdout",
     "output_type": "stream",
     "text": [
      "67.86279036669663 68.75302639221843\n",
      "68.28746769447356\n"
     ]
    }
   ],
   "source": [
    "# With 95% confidence, we can say that the mean height of coffee drinkers in the population is between\n",
    "# 67.86279036669663 and 68.75302639221843\n",
    "print(low,high)\n",
    "print(np.mean(coffee_df_sample_boot_mean))"
   ]
  },
  {
   "cell_type": "code",
   "execution_count": 55,
   "metadata": {},
   "outputs": [
    {
     "name": "stdout",
     "output_type": "stream",
     "text": [
      "0.605\n"
     ]
    }
   ],
   "source": [
    "# What is the proportion of coffee drinkers in the sample? \n",
    "# What is the proportion of individuals that don't drink coffee?\n",
    "print(coffee_df_sample['drinks_coffee'].mean()) \n",
    "#print(1-coffee_df_sample['drinks_coffee'].mean())"
   ]
  },
  {
   "cell_type": "code",
   "execution_count": 56,
   "metadata": {},
   "outputs": [
    {
     "name": "stdout",
     "output_type": "stream",
     "text": [
      "68.28365656624092\n"
     ]
    }
   ],
   "source": [
    "# Of the individuals who drink coffee, what is the average height? \n",
    "# Of the individuals who do not drink coffee, what is the average height?\n",
    "print(coffee_df_sample[coffee_df_sample['drinks_coffee']==True]['height'].mean())\n",
    "#print(coffee_df_sample[coffee_df_sample['drinks_coffee']==False]['height'].mean())"
   ]
  },
  {
   "cell_type": "code",
   "execution_count": 41,
   "metadata": {},
   "outputs": [
    {
     "data": {
      "text/plain": [
       "68.40021025548401"
      ]
     },
     "execution_count": 41,
     "metadata": {},
     "output_type": "execute_result"
    }
   ],
   "source": [
    "# Population paramter\n",
    "coffee_df[coffee_df['drinks_coffee']==True]['height'].mean()"
   ]
  },
  {
   "cell_type": "code",
   "execution_count": 42,
   "metadata": {},
   "outputs": [],
   "source": [
    "# The population mean falls between the confidence intervals found by us from the sample\n",
    "# 67.86279036669663<68.40021025548401<68.75302639221843"
   ]
  },
  {
   "cell_type": "markdown",
   "metadata": {},
   "source": [
    "###  - Confidence Interval with Bootstrapping for a difference of two Parameters"
   ]
  },
  {
   "cell_type": "code",
   "execution_count": 58,
   "metadata": {},
   "outputs": [],
   "source": [
    "# confidence interval for the difference of the average heights for coffee drinkers and non-coffee drinkers"
   ]
  },
  {
   "cell_type": "code",
   "execution_count": 64,
   "metadata": {},
   "outputs": [
    {
     "name": "stdout",
     "output_type": "stream",
     "text": [
      "1.0664431352730417 2.7378423306438733\n",
      "1.8955909772315986\n"
     ]
    },
    {
     "data": {
      "image/png": "[encoded data removed]",
      "text/plain": [
       "<Figure size 432x288 with 1 Axes>"
      ]
     },
     "metadata": {
      "needs_background": "light"
     },
     "output_type": "display_data"
    }
   ],
   "source": [
    "coffee_df_sample = coffee_df.sample(200)\n",
    "\n",
    "coffee_df_sample_boot_mean = []\n",
    "for i in range(10000):\n",
    "    boot_sample_each = coffee_df_sample.sample(200,replace=True)\n",
    "    mean_coff = boot_sample_each[boot_sample_each['drinks_coffee']==True].mean()['height']\n",
    "    mean_non_coff = boot_sample_each[boot_sample_each['drinks_coffee']==False].mean()['height']\n",
    "    coffee_df_sample_boot_mean.append((mean_coff-mean_non_coff))\n",
    "\n",
    "# Confidence Interval\n",
    "low,high = np.percentile(coffee_df_sample_boot_mean,2.5), np.percentile(coffee_df_sample_boot_mean,97.5)\n",
    "\n",
    "diff_pop_mean_height = coffee_df[coffee_df['drinks_coffee']==True]['height'].mean() - \\\n",
    "                       coffee_df[coffee_df['drinks_coffee']==False]['height'].mean()\n",
    "\n",
    "plt.hist(coffee_df_sample_boot_mean,alpha=0.5,bins=30, label='Sample Means')\n",
    "plt.axvline(low,color='b',label='Conf Intrvl')\n",
    "plt.axvline(high,color='b')\n",
    "plt.axvline(np.mean(coffee_df_sample_boot_mean),color='orange',label='Diff Boot Sample Mean')\n",
    "plt.axvline(diff_pop_mean_height,color='r',label='Diff Pop Mean')\n",
    "plt.legend(loc='upper right')\n",
    "\n",
    "print(low,high)\n",
    "print(np.mean(coffee_df_sample_boot_mean))\n",
    "\n",
    "# We can deduce with 95% confidence that the height of coffee drinkers is more that non-coffee drinkers"
   ]
  },
  {
   "cell_type": "markdown",
   "metadata": {},
   "source": [
    "# To be done\n",
    "\n",
    "1. For 10,000 iterations, bootstrap sample your sample data, compute the difference in the average heights \n",
    "   for those older than 21 and those younger than 21. Build a 99% confidence interval using your sampling \n",
    "   distribution. Use your interval to finish answering the first quiz question below.\n",
    "2. For 10,000 iterations bootstrap your sample data, compute the difference in the average height for coffee \n",
    "   drinkers and the average height for non-coffee drinkers for individuals under 21 years old. Using your \n",
    "   sampling distribution, build a 95% confidence interval. Use your interval to start answering question 2 below.\n",
    "3. For 10,000 iterations bootstrap your sample data, compute the difference in the average height for coffee \n",
    "   drinkers and the average height for non-coffee drinkers for individuals over 21 years old. Using your sampling \n",
    "   distribution, build a 95% confidence interval. Use your interval to finish answering the second quiz question \n",
    "   below. As well as the following questions."
   ]
  },
  {
   "cell_type": "code",
   "execution_count": 67,
   "metadata": {},
   "outputs": [],
   "source": [
    "# Applications : compare some parameters between two groups\n",
    "\n",
    "# A/B testing is one of the most important to businesses around the world. In this technique, \n",
    "# you are changing something about your web layout to understand how it impacts users. \n",
    "# You ideally want to provide a page that leads to more clicks, higher revenue, and/or higher customer satisfaction."
   ]
  },
  {
   "cell_type": "markdown",
   "metadata": {},
   "source": [
    "- Using confidence intervals and hypothesis testing, you are able to provide statistical significance in making decisions. \n",
    "\n",
    "- However, it is also important to take into consideration practical significance in making decisions. Practical significance takes into consideration other factors of your situation that might not be considered directly in the results of your hypothesis test or confidence interval. Constraints like space, time, or money are important in business decisions. However, they might not be accounted for directly in a statistical test.\n",
    "\n",
    "#### Bootstrap confidence Intervals we built above vs traditional hypothesis tests\n",
    "- Bootstrap confidence Intervals can be used anywhere inplace of traditional hypthesis tests\n",
    "- below is a comparison of the traditional method for calculating a difference of means using a python built in to     the bootstrapping method we have been using throughout this lesson.\n",
    "- With large sample sizes, these end up looking very similar. With smaller sample sizes, using a traditional methods   likely has assumptions that are not true of our interval. Small sample sizes are not ideal for bootstrapping         methods though either, as they can lead to misleading results simply due to not accurately representing our entire   population well.\n",
    "- Increasing our sample size will decrease the width of our confidence interval.Increasing our confidence level         (say 95% to 99%) will increase the width of our confidence interval.\n",
    "- The confidence interval width as the difference between your upper and lower bounds of your confidence interval.\n",
    "  The margin of error is half the confidence interval width, and the value that you add and subtract from your sample   estimate to achieve your confidence interval final results.\n",
    " \n",
    "####  machine learning techniques take an individual approach towards making conclusions, as they attempt to predict an outcome for each specific data point. Alternatively, CI talks about a population and not individual observations"
   ]
  },
  {
   "cell_type": "code",
   "execution_count": 76,
   "metadata": {},
   "outputs": [
    {
     "name": "stdout",
     "output_type": "stream",
     "text": [
      "(1.729787583879242, 2.183817402794348)\n"
     ]
    }
   ],
   "source": [
    "# confidence interval for t-test hypothesis\n",
    "\n",
    "import statsmodels.stats.api as sms\n",
    "\n",
    "X2 = coffee_df[coffee_df['drinks_coffee']==True]['height']\n",
    "X1 = coffee_df[coffee_df['drinks_coffee']==False]['height']\n",
    "\n",
    "cm = sms.CompareMeans(sms.DescrStatsW(X2), sms.DescrStatsW(X1))\n",
    "print(cm.tconfint_diff(usevar='unequal')) # almost same as Bootstrap CI we coded above\n",
    "# 1.0664431352730417 2.7378423306438733 using Bootstrap CI"
   ]
  },
  {
   "cell_type": "markdown",
   "metadata": {},
   "source": [
    "# https://stattrek.com/hypothesis-test/hypothesis-testing.aspx"
   ]
  },
  {
   "cell_type": "code",
   "execution_count": null,
   "metadata": {},
   "outputs": [],
   "source": []
  }
 ],
 "metadata": {
  "kernelspec": {
   "display_name": "Python 3",
   "language": "python",
   "name": "python3"
  },
  "language_info": {
   "codemirror_mode": {
    "name": "ipython",
    "version": 3
   },
   "file_extension": ".py",
   "mimetype": "text/x-python",
   "name": "python",
   "nbconvert_exporter": "python",
   "pygments_lexer": "ipython3",
   "version": "3.7.4"
  }
 },
 "nbformat": 4,
 "nbformat_minor": 2
}

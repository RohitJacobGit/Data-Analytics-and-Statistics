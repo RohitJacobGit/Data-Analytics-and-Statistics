{
 "cells": [
  {
   "cell_type": "markdown",
   "metadata": {},
   "source": [
    "https://stattrek.com/hypothesis-test/hypothesis-testing.aspx"
   ]
  },
  {
   "cell_type": "code",
   "execution_count": 1,
   "metadata": {},
   "outputs": [],
   "source": [
    "import pandas as pd\n",
    "import numpy as np\n",
    "import matplotlib.pyplot as plt\n",
    "%matplotlib inline"
   ]
  },
  {
   "cell_type": "code",
   "execution_count": 23,
   "metadata": {},
   "outputs": [
    {
     "data": {
      "text/plain": [
       "0.5014"
      ]
     },
     "execution_count": 23,
     "metadata": {},
     "output_type": "execute_result"
    }
   ],
   "source": [
    "np.random.randint(0,2,size=10000).mean() #flip a coin 10000 times\n",
    "# or\n",
    "# np.random.choice([0,1],size=10000).mean()\n",
    "# choice for specifying probability(or biasness)"
   ]
  },
  {
   "cell_type": "code",
   "execution_count": 19,
   "metadata": {},
   "outputs": [
    {
     "data": {
      "text/plain": [
       "array([1, 1, 0, 0, 1, 1, 1, 0, 0, 1])"
      ]
     },
     "execution_count": 19,
     "metadata": {},
     "output_type": "execute_result"
    }
   ],
   "source": [
    "np.random.randint(0,2,size=10)"
   ]
  },
  {
   "cell_type": "code",
   "execution_count": 20,
   "metadata": {},
   "outputs": [
    {
     "data": {
      "text/plain": [
       "0"
      ]
     },
     "execution_count": 20,
     "metadata": {},
     "output_type": "execute_result"
    }
   ],
   "source": [
    "np.random.choice([0,1])"
   ]
  },
  {
   "cell_type": "code",
   "execution_count": 21,
   "metadata": {},
   "outputs": [
    {
     "data": {
      "text/plain": [
       "array([1, 0, 1, 0, 0, 0, 1, 0, 0, 0])"
      ]
     },
     "execution_count": 21,
     "metadata": {},
     "output_type": "execute_result"
    }
   ],
   "source": [
    "np.random.choice([0,1],size=10)"
   ]
  },
  {
   "cell_type": "code",
   "execution_count": 24,
   "metadata": {},
   "outputs": [
    {
     "data": {
      "text/plain": [
       "0.4996"
      ]
     },
     "execution_count": 24,
     "metadata": {},
     "output_type": "execute_result"
    }
   ],
   "source": [
    "np.random.choice([0,1],size=10000).mean()"
   ]
  },
  {
   "cell_type": "code",
   "execution_count": 3,
   "metadata": {},
   "outputs": [
    {
     "data": {
      "text/plain": [
       "array([1, 0, 1, 1, 1, 1, 1, 1, 1, 0, 1, 1, 0, 1, 1, 1, 1, 1, 1, 1])"
      ]
     },
     "execution_count": 3,
     "metadata": {},
     "output_type": "execute_result"
    }
   ],
   "source": [
    "# biased: p(1)=0.9 and p(0)=0.1\n",
    "np.random.choice([1,0],size=20,p=[0.9,0.1])\n",
    "#more 1's as it is more biased to 1"
   ]
  },
  {
   "cell_type": "code",
   "execution_count": 28,
   "metadata": {},
   "outputs": [
    {
     "data": {
      "text/plain": [
       "0.0952"
      ]
     },
     "execution_count": 28,
     "metadata": {},
     "output_type": "execute_result"
    }
   ],
   "source": [
    "# biased: p(0)=0.9 and p(1)=0.1\n",
    "np.random.choice([0,1],size=10000,p=[0.9,0.1]).mean()"
   ]
  },
  {
   "cell_type": "code",
   "execution_count": 6,
   "metadata": {},
   "outputs": [
    {
     "name": "stdout",
     "output_type": "stream",
     "text": [
      "prob exactly two heads 0.25187\n"
     ]
    }
   ],
   "source": [
    "# Two fair coin flips produce exactly two heads\n",
    "test = np.random.randint(2,size=(100000,2))\n",
    "sum_test = test.sum(axis=1) #sum across columns\n",
    "sum_test==0 #exactly two heads\n",
    "print('prob exactly two heads',(sum_test==0).mean())"
   ]
  },
  {
   "cell_type": "code",
   "execution_count": 60,
   "metadata": {},
   "outputs": [
    {
     "data": {
      "text/plain": [
       "0.37668"
      ]
     },
     "execution_count": 60,
     "metadata": {},
     "output_type": "execute_result"
    }
   ],
   "source": [
    "#Three fair coin flips produce exactly one head\n",
    "test = np.random.randint(2,size=(100000,3))\n",
    "sum_test = test.sum(axis=1)\n",
    "(sum_test==2).mean()"
   ]
  },
  {
   "cell_type": "code",
   "execution_count": 66,
   "metadata": {},
   "outputs": [
    {
     "data": {
      "text/plain": [
       "0.2852"
      ]
     },
     "execution_count": 66,
     "metadata": {},
     "output_type": "execute_result"
    }
   ],
   "source": [
    "# Three biased coin flips with P(H) = 0.6 produce exactly one head\n",
    "test = np.random.choice([1,0],size=(10000,3),p=[0.6,0.4])\n",
    "test_sum = test.sum(axis=1)\n",
    "(test_sum==1).mean()"
   ]
  },
  {
   "cell_type": "code",
   "execution_count": 82,
   "metadata": {},
   "outputs": [
    {
     "name": "stdout",
     "output_type": "stream",
     "text": [
      "[3 4 5 5 5 6 6 6 1 2 3 4 3 6 1 6 6 1 2 1 3 3 1 1 4 5 4 4 6 5 3 3 4 5 1 1 2\n",
      " 2 4 4 5 2 3 3 6 6 2 4 1 1 6 3 3 3 2 5 1 4 1 5 2 3 4 5 6 3 1 1 5 1 6 5 3 1\n",
      " 4 2 5 4 4 4 5 3 1 2 1 4 4 6 6 3 4 2 6 1 5 3 1 5 4 3]\n",
      "[4 6 6 6 2 4 6 6 6 2 4 4 4 6 4 2 2 4 4 2 6 6 2 4 6 2 4 2 4 6 6 4 2 4 4 4 2\n",
      " 4 4 6 6 4 2 6 4]\n",
      "0.45\n"
     ]
    }
   ],
   "source": [
    "#A die rolls an even number\n",
    "#test = np.random.randint(1,7,size=100) or\n",
    "test = np.random.choice(np.arange(1,7),size=100)\n",
    "print(test)\n",
    "print(test[test%2==0])\n",
    "print((test%2==0).mean())\n",
    "#test"
   ]
  },
  {
   "cell_type": "code",
   "execution_count": 7,
   "metadata": {},
   "outputs": [
    {
     "name": "stdout",
     "output_type": "stream",
     "text": [
      "[1 2 3 4 5 6]\n",
      "4\n",
      "6\n",
      "1\n"
     ]
    }
   ],
   "source": [
    "print(np.arange(1,7))\n",
    "print(np.random.randint(1,7))\n",
    "print(np.random.choice([1,2,3,4,5,6]))\n",
    "print(np.random.choice(np.arange(1,7)))"
   ]
  },
  {
   "cell_type": "code",
   "execution_count": 94,
   "metadata": {},
   "outputs": [
    {
     "data": {
      "text/plain": [
       "0.2"
      ]
     },
     "execution_count": 94,
     "metadata": {},
     "output_type": "execute_result"
    }
   ],
   "source": [
    "#Two dice roll a double\n",
    "#test = np.random.choice(np.arange(1,7),size=(100,2))\n",
    "test_1 = np.random.choice(np.arange(1,7),size=100)\n",
    "test_2 = np.random.choice(np.arange(1,7),size=100)\n",
    "(test_1==test_2).mean()"
   ]
  },
  {
   "cell_type": "code",
   "execution_count": 11,
   "metadata": {},
   "outputs": [
    {
     "data": {
      "text/plain": [
       "5"
      ]
     },
     "execution_count": 11,
     "metadata": {},
     "output_type": "execute_result"
    }
   ],
   "source": [
    "np.random.binomial(n=10,p=0.5) # returns no of success"
   ]
  },
  {
   "cell_type": "code",
   "execution_count": 2,
   "metadata": {},
   "outputs": [
    {
     "data": {
      "text/plain": [
       "array([ 7,  5,  7,  4, 10,  6,  7,  5,  4,  6,  8,  5,  6,  6,  6,  6,  7,\n",
       "        5,  7,  4])"
      ]
     },
     "execution_count": 2,
     "metadata": {},
     "output_type": "execute_result"
    }
   ],
   "source": [
    "np.random.binomial(n=10,p=0.5,size=20) # repeat the experiment 20 times \n",
    "# toss the coin 10 times and report the number of success\n",
    "# create an array of these successes repeated 20 times"
   ]
  },
  {
   "cell_type": "code",
   "execution_count": 116,
   "metadata": {},
   "outputs": [
    {
     "data": {
      "text/plain": [
       "(array([   6.,  105.,  451., 1129., 2094., 2532., 2043., 1135.,  410.,\n",
       "          95.]),\n",
       " array([ 0.,  1.,  2.,  3.,  4.,  5.,  6.,  7.,  8.,  9., 10.]),\n",
       " <a list of 10 Patch objects>)"
      ]
     },
     "execution_count": 116,
     "metadata": {},
     "output_type": "execute_result"
    },
    {
     "data": {
      "image/png": "[encoded data removed]",
      "text/plain": [
       "<Figure size 432x288 with 1 Axes>"
      ]
     },
     "metadata": {
      "needs_background": "light"
     },
     "output_type": "display_data"
    }
   ],
   "source": [
    "plt.hist(np.random.binomial(n=10,p=0.5,size=10000),alpha=0.6)"
   ]
  },
  {
   "cell_type": "code",
   "execution_count": 117,
   "metadata": {},
   "outputs": [
    {
     "data": {
      "text/plain": [
       "4.45"
      ]
     },
     "execution_count": 117,
     "metadata": {},
     "output_type": "execute_result"
    }
   ],
   "source": [
    "np.random.binomial(n=10,p=0.5,size=20).mean()"
   ]
  },
  {
   "cell_type": "code",
   "execution_count": 123,
   "metadata": {},
   "outputs": [
    {
     "name": "stdout",
     "output_type": "stream",
     "text": [
      "0.54\n"
     ]
    }
   ],
   "source": [
    "#A fair coin flip produces heads\n",
    "test = np.random.binomial(n=1,p=0.5,size=100)\n",
    "print((test==1).mean())"
   ]
  },
  {
   "cell_type": "code",
   "execution_count": 13,
   "metadata": {},
   "outputs": [
    {
     "name": "stdout",
     "output_type": "stream",
     "text": [
      "[4 4 4 2 1 1 4 1 1 3]\n",
      "0.4\n"
     ]
    }
   ],
   "source": [
    "#Five fair coin flips produce exactly one head\n",
    "test = np.random.binomial(n=5,p=0.5,size=10)\n",
    "print(test)\n",
    "print((test==1).mean())"
   ]
  },
  {
   "cell_type": "code",
   "execution_count": 15,
   "metadata": {},
   "outputs": [
    {
     "name": "stdout",
     "output_type": "stream",
     "text": [
      "[4 5 3 4 6 1 7 5 4 4]\n",
      "0.4\n"
     ]
    }
   ],
   "source": [
    "#Ten fair coin flips produce exactly four heads\n",
    "test = np.random.binomial(n=10,p=0.5,size=10)\n",
    "print(test)\n",
    "print((test==4).mean())"
   ]
  },
  {
   "cell_type": "code",
   "execution_count": 16,
   "metadata": {},
   "outputs": [
    {
     "name": "stdout",
     "output_type": "stream",
     "text": [
      "[4 4 4 5 4 4 4 4 5 5 5 4 5 4 5 3 2 5 4 2]\n",
      "0.35\n"
     ]
    }
   ],
   "source": [
    "#Five biased coin flips with P(H) = 0.8 produce exactly five heads\n",
    "test = np.random.binomial(n=5,p=0.8,size=20)\n",
    "print(test)\n",
    "print((test==5).mean())"
   ]
  },
  {
   "cell_type": "code",
   "execution_count": 19,
   "metadata": {},
   "outputs": [
    {
     "name": "stdout",
     "output_type": "stream",
     "text": [
      "[3 1 3 0 0 2 0 1 1 0 1 0 3 2 1 0 4 4 1 0]\n",
      "0.25\n"
     ]
    }
   ],
   "source": [
    "# Ten biased coin flips with P(H) = 0.15 produce at least three heads\n",
    "test = np.random.binomial(n=10,p=0.15,size=20)\n",
    "print(test)\n",
    "print((test>=3).mean())"
   ]
  },
  {
   "cell_type": "code",
   "execution_count": 15,
   "metadata": {
    "collapsed": true
   },
   "outputs": [
    {
     "name": "stdout",
     "output_type": "stream",
     "text": [
      "9.9706\n"
     ]
    },
    {
     "data": {
      "text/plain": [
       "(array([0., 0., 0., 0., 0., 1., 0., 0., 0., 0.]),\n",
       " array([4.49526999, 4.59526999, 4.69526999, 4.79526999, 4.89526999,\n",
       "        4.99526999, 5.09526999, 5.19526999, 5.29526999, 5.39526999,\n",
       "        5.49526999]),\n",
       " <a list of 10 Patch objects>)"
      ]
     },
     "execution_count": 15,
     "metadata": {},
     "output_type": "execute_result"
    },
    {
     "data": {
      "image/png": "[encoded data removed]",
      "text/plain": [
       "<Figure size 432x288 with 1 Axes>"
      ]
     },
     "metadata": {
      "needs_background": "light"
     },
     "output_type": "display_data"
    }
   ],
   "source": [
    "print(np.random.binomial(n=20,p=0.5,size=10000).mean())\n",
    "# mean=10 maximizes p\n",
    "# sd=2.24\n",
    "plt.hist(np.random.binomial(n=20,p=0.5,size=10000),alpha=0.6)\n",
    "#plt.hist(np.random.normal(10,2.24,10000))"
   ]
  },
  {
   "cell_type": "markdown",
   "metadata": {},
   "source": [
    "# Bayes and Conditional Probability"
   ]
  },
  {
   "cell_type": "markdown",
   "metadata": {},
   "source": [
    "- How many patients are there in total?\n",
    "- How many patients have cancer?\n",
    "- How many patients do not have cancer?\n",
    "- What proportion of patients have cancer?\n",
    "- What proportion of patients don't have cancer?\n",
    "- What proportion of patients with cancer test positive?\n",
    "- What proportion of patients with cancer test negative?\n",
    "- What proportion of patients without cancer test positive?\n",
    "- What proportion of patients without cancer test negative?"
   ]
  },
  {
   "cell_type": "code",
   "execution_count": 24,
   "metadata": {},
   "outputs": [
    {
     "data": {
      "text/html": [
       "<div>\n",
       "<style scoped>\n",
       "    .dataframe tbody tr th:only-of-type {\n",
       "        vertical-align: middle;\n",
       "    }\n",
       "\n",
       "    .dataframe tbody tr th {\n",
       "        vertical-align: top;\n",
       "    }\n",
       "\n",
       "    .dataframe thead th {\n",
       "        text-align: right;\n",
       "    }\n",
       "</style>\n",
       "<table border=\"1\" class=\"dataframe\">\n",
       "  <thead>\n",
       "    <tr style=\"text-align: right;\">\n",
       "      <th></th>\n",
       "      <th>patient_id</th>\n",
       "      <th>test_result</th>\n",
       "      <th>has_cancer</th>\n",
       "    </tr>\n",
       "  </thead>\n",
       "  <tbody>\n",
       "    <tr>\n",
       "      <td>0</td>\n",
       "      <td>79452</td>\n",
       "      <td>Negative</td>\n",
       "      <td>False</td>\n",
       "    </tr>\n",
       "    <tr>\n",
       "      <td>1</td>\n",
       "      <td>81667</td>\n",
       "      <td>Positive</td>\n",
       "      <td>True</td>\n",
       "    </tr>\n",
       "    <tr>\n",
       "      <td>2</td>\n",
       "      <td>76297</td>\n",
       "      <td>Negative</td>\n",
       "      <td>False</td>\n",
       "    </tr>\n",
       "    <tr>\n",
       "      <td>3</td>\n",
       "      <td>36593</td>\n",
       "      <td>Negative</td>\n",
       "      <td>False</td>\n",
       "    </tr>\n",
       "    <tr>\n",
       "      <td>4</td>\n",
       "      <td>53717</td>\n",
       "      <td>Negative</td>\n",
       "      <td>False</td>\n",
       "    </tr>\n",
       "  </tbody>\n",
       "</table>\n",
       "</div>"
      ],
      "text/plain": [
       "   patient_id test_result  has_cancer\n",
       "0       79452    Negative       False\n",
       "1       81667    Positive        True\n",
       "2       76297    Negative       False\n",
       "3       36593    Negative       False\n",
       "4       53717    Negative       False"
      ]
     },
     "execution_count": 24,
     "metadata": {},
     "output_type": "execute_result"
    }
   ],
   "source": [
    "cancer_df = pd.read_csv('../data/cancer_test_data.csv')\n",
    "cancer_df.head()"
   ]
  },
  {
   "cell_type": "code",
   "execution_count": 147,
   "metadata": {
    "collapsed": true
   },
   "outputs": [
    {
     "name": "stdout",
     "output_type": "stream",
     "text": [
      "<class 'pandas.core.frame.DataFrame'>\n",
      "RangeIndex: 2914 entries, 0 to 2913\n",
      "Data columns (total 3 columns):\n",
      "patient_id     2914 non-null int64\n",
      "test_result    2914 non-null object\n",
      "has_cancer     2914 non-null bool\n",
      "dtypes: bool(1), int64(1), object(1)\n",
      "memory usage: 48.5+ KB\n"
     ]
    }
   ],
   "source": [
    "cancer_df.info()"
   ]
  },
  {
   "cell_type": "code",
   "execution_count": 25,
   "metadata": {},
   "outputs": [
    {
     "data": {
      "text/plain": [
       "Index(['patient_id', 'test_result', 'has_cancer'], dtype='object')"
      ]
     },
     "execution_count": 25,
     "metadata": {},
     "output_type": "execute_result"
    }
   ],
   "source": [
    "cancer_df.columns"
   ]
  },
  {
   "cell_type": "code",
   "execution_count": 26,
   "metadata": {},
   "outputs": [
    {
     "data": {
      "text/plain": [
       "(2914, 3)"
      ]
     },
     "execution_count": 26,
     "metadata": {},
     "output_type": "execute_result"
    }
   ],
   "source": [
    "cancer_df.shape"
   ]
  },
  {
   "cell_type": "code",
   "execution_count": 31,
   "metadata": {},
   "outputs": [
    {
     "data": {
      "text/plain": [
       "306"
      ]
     },
     "execution_count": 31,
     "metadata": {},
     "output_type": "execute_result"
    }
   ],
   "source": [
    "len(cancer_df[cancer_df['has_cancer']==True])\n",
    "cancer_df[cancer_df['has_cancer']==True].shape[0]"
   ]
  },
  {
   "cell_type": "code",
   "execution_count": 32,
   "metadata": {},
   "outputs": [
    {
     "data": {
      "text/plain": [
       "2608"
      ]
     },
     "execution_count": 32,
     "metadata": {},
     "output_type": "execute_result"
    }
   ],
   "source": [
    "cancer_df[cancer_df['has_cancer']==False].shape[0]"
   ]
  },
  {
   "cell_type": "code",
   "execution_count": 33,
   "metadata": {},
   "outputs": [
    {
     "data": {
      "text/plain": [
       "0.10501029512697323"
      ]
     },
     "execution_count": 33,
     "metadata": {},
     "output_type": "execute_result"
    }
   ],
   "source": [
    "# Patients with cancer: 0.105\n",
    "len(cancer_df[cancer_df['has_cancer']==True])/cancer_df.shape[0]"
   ]
  },
  {
   "cell_type": "code",
   "execution_count": 34,
   "metadata": {},
   "outputs": [
    {
     "data": {
      "text/plain": [
       "0.8949897048730268"
      ]
     },
     "execution_count": 34,
     "metadata": {},
     "output_type": "execute_result"
    }
   ],
   "source": [
    "# Patients without cancer: 0.895\n",
    "1-len(cancer_df[cancer_df['has_cancer']==True])/cancer_df.shape[0]"
   ]
  },
  {
   "cell_type": "code",
   "execution_count": 93,
   "metadata": {},
   "outputs": [
    {
     "data": {
      "text/html": [
       "<div>\n",
       "<style scoped>\n",
       "    .dataframe tbody tr th:only-of-type {\n",
       "        vertical-align: middle;\n",
       "    }\n",
       "\n",
       "    .dataframe tbody tr th {\n",
       "        vertical-align: top;\n",
       "    }\n",
       "\n",
       "    .dataframe thead th {\n",
       "        text-align: right;\n",
       "    }\n",
       "</style>\n",
       "<table border=\"1\" class=\"dataframe\">\n",
       "  <thead>\n",
       "    <tr style=\"text-align: right;\">\n",
       "      <th></th>\n",
       "      <th></th>\n",
       "      <th>patient_id</th>\n",
       "    </tr>\n",
       "    <tr>\n",
       "      <th>has_cancer</th>\n",
       "      <th>test_result</th>\n",
       "      <th></th>\n",
       "    </tr>\n",
       "  </thead>\n",
       "  <tbody>\n",
       "    <tr>\n",
       "      <td rowspan=\"2\" valign=\"top\">False</td>\n",
       "      <td>Negative</td>\n",
       "      <td>2077</td>\n",
       "    </tr>\n",
       "    <tr>\n",
       "      <td>Positive</td>\n",
       "      <td>531</td>\n",
       "    </tr>\n",
       "    <tr>\n",
       "      <td rowspan=\"2\" valign=\"top\">True</td>\n",
       "      <td>Negative</td>\n",
       "      <td>29</td>\n",
       "    </tr>\n",
       "    <tr>\n",
       "      <td>Positive</td>\n",
       "      <td>277</td>\n",
       "    </tr>\n",
       "  </tbody>\n",
       "</table>\n",
       "</div>"
      ],
      "text/plain": [
       "                        patient_id\n",
       "has_cancer test_result            \n",
       "False      Negative           2077\n",
       "           Positive            531\n",
       "True       Negative             29\n",
       "           Positive            277"
      ]
     },
     "execution_count": 93,
     "metadata": {},
     "output_type": "execute_result"
    }
   ],
   "source": [
    "cancer_df.groupby(['has_cancer','test_result']).count()"
   ]
  },
  {
   "cell_type": "code",
   "execution_count": 154,
   "metadata": {},
   "outputs": [
    {
     "data": {
      "text/plain": [
       "0.9052287581699346"
      ]
     },
     "execution_count": 154,
     "metadata": {},
     "output_type": "execute_result"
    }
   ],
   "source": [
    "# Patients with cancer who tested positive: 0.905\n",
    "# P(positive|cancer) = 0.905\tProbability a patient with cancer tests positive\n",
    "# len(cancer_df[(cancer_df['has_cancer']==True) & (cancer_df['test_result']=='Positive')])/(cancer_df.groupby('has_cancer').count()['test_result'][True])\n",
    "\n",
    "len(cancer_df[(cancer_df['has_cancer']==True) & (cancer_df['test_result']=='Positive')])/\\\n",
    "len(cancer_df[cancer_df['has_cancer']==True])"
   ]
  },
  {
   "cell_type": "code",
   "execution_count": 155,
   "metadata": {},
   "outputs": [
    {
     "data": {
      "text/plain": [
       "0.09477124183006536"
      ]
     },
     "execution_count": 155,
     "metadata": {},
     "output_type": "execute_result"
    }
   ],
   "source": [
    "# Patients with cancer who tested negative: 0.095\n",
    "len(cancer_df[(cancer_df['has_cancer']==True) & (cancer_df['test_result']=='Negative')])/\\\n",
    "len(cancer_df[cancer_df['has_cancer']==True])"
   ]
  },
  {
   "cell_type": "code",
   "execution_count": 137,
   "metadata": {},
   "outputs": [
    {
     "name": "stdout",
     "output_type": "stream",
     "text": [
      "2608\n",
      "306\n"
     ]
    },
    {
     "data": {
      "text/plain": [
       "has_cancer\n",
       "False    2608\n",
       "True      306\n",
       "Name: test_result, dtype: int64"
      ]
     },
     "execution_count": 137,
     "metadata": {},
     "output_type": "execute_result"
    }
   ],
   "source": [
    "print((cancer_df.groupby('has_cancer').count()['test_result'][False]))\n",
    "print((cancer_df.groupby('has_cancer').count()['test_result'][True]))\n",
    "(cancer_df.groupby('has_cancer').count()['test_result'])"
   ]
  },
  {
   "cell_type": "code",
   "execution_count": 156,
   "metadata": {},
   "outputs": [
    {
     "data": {
      "text/plain": [
       "0.2036042944785276"
      ]
     },
     "execution_count": 156,
     "metadata": {},
     "output_type": "execute_result"
    }
   ],
   "source": [
    "# Patients without cancer who tested positive: 0.204\n",
    "len(cancer_df[(cancer_df['has_cancer']==False) & (cancer_df['test_result']=='Positive')])/\\\n",
    "len(cancer_df[cancer_df['has_cancer']==False])"
   ]
  },
  {
   "cell_type": "code",
   "execution_count": 160,
   "metadata": {},
   "outputs": [
    {
     "data": {
      "text/plain": [
       "0.7963957055214724"
      ]
     },
     "execution_count": 160,
     "metadata": {},
     "output_type": "execute_result"
    }
   ],
   "source": [
    "# Patients without cancer who tested negative: 0.796\n",
    "len(cancer_df[(cancer_df['has_cancer']==False) & (cancer_df['test_result']=='Negative')])/\\\n",
    "len(cancer_df[cancer_df['has_cancer']==False])"
   ]
  },
  {
   "cell_type": "markdown",
   "metadata": {},
   "source": [
    "- Patients with cancer: 0.105\n",
    "- Patients without cancer: 0.895\n",
    "- Patients with cancer who tested positive: 0.905\n",
    "- Patients with cancer who tested negative: 0.095\n",
    "- Patients without cancer who tested positive: 0.204\n",
    "- Patients without cancer who tested negative: 0.796"
   ]
  },
  {
   "cell_type": "code",
   "execution_count": 139,
   "metadata": {},
   "outputs": [],
   "source": [
    "# Probability\tMeaning\n",
    "# P(cancer) = 0.105\tProbability a patient has cancer\n",
    "# P(~cancer) = 0.895\tProbability a patient does not have cancer\n",
    "# P(positive|cancer) = 0.905\tProbability a patient with cancer tests positive\n",
    "# P(negative|cancer) = 0.095\tProbability a patient with cancer tests negative\n",
    "# P(positive|~cancer) = 0.204\tProbability a patient without cancer tests positive\n",
    "# P(negative|~cancer) = 0.796\tProbability a patient without cancer tests negative"
   ]
  },
  {
   "cell_type": "code",
   "execution_count": 170,
   "metadata": {},
   "outputs": [],
   "source": [
    "# Probability a patient who tested positive has cancer, or P(cancer|positive)\n",
    "# Probability a patient who tested positive doesn't have cancer, or P(~cancer|positive)\n",
    "# Probability a patient who tested negative has cancer, or P(cancer|negative)\n",
    "# Probability a patient who tested negative doesn't have cancer, or P(~cancer|negative)"
   ]
  },
  {
   "cell_type": "code",
   "execution_count": 179,
   "metadata": {},
   "outputs": [
    {
     "data": {
      "text/plain": [
       "test_result\n",
       "Negative    0.013770\n",
       "Positive    0.342822\n",
       "Name: has_cancer, dtype: float64"
      ]
     },
     "execution_count": 179,
     "metadata": {},
     "output_type": "execute_result"
    }
   ],
   "source": [
    "#cancer_df.query('test_result == \"Positive\"')['has_cancer'].mean()\n",
    "len(cancer_df[(cancer_df['test_result']=='Positive')&(cancer_df['has_cancer']==True)])/\\\n",
    "len(cancer_df[cancer_df['test_result']=='Positive'])\n",
    "#cancer_df.groupby('test_result').mean()['has_cancer']['Positive']"
   ]
  },
  {
   "cell_type": "code",
   "execution_count": 167,
   "metadata": {},
   "outputs": [
    {
     "data": {
      "text/plain": [
       "0.6571782178217822"
      ]
     },
     "execution_count": 167,
     "metadata": {},
     "output_type": "execute_result"
    }
   ],
   "source": [
    "# len(cancer_df[(cancer_df['test_result']=='Positive')&(cancer_df['has_cancer']==False)])/\\\n",
    "# len(cancer_df[cancer_df['test_result']=='Positive'])\n",
    "# or\n",
    "1 - (len(cancer_df[(cancer_df['test_result']=='Positive')&(cancer_df['has_cancer']==True)])/\\\n",
    "len(cancer_df[cancer_df['test_result']=='Positive']))"
   ]
  },
  {
   "cell_type": "code",
   "execution_count": 168,
   "metadata": {},
   "outputs": [
    {
     "data": {
      "text/plain": [
       "0.013770180436847104"
      ]
     },
     "execution_count": 168,
     "metadata": {},
     "output_type": "execute_result"
    }
   ],
   "source": [
    "len(cancer_df[(cancer_df['test_result']=='Negative')&(cancer_df['has_cancer']==True)])/\\\n",
    "len(cancer_df[cancer_df['test_result']=='Negative'])"
   ]
  },
  {
   "cell_type": "code",
   "execution_count": 169,
   "metadata": {},
   "outputs": [
    {
     "data": {
      "text/plain": [
       "0.9862298195631529"
      ]
     },
     "execution_count": 169,
     "metadata": {},
     "output_type": "execute_result"
    }
   ],
   "source": [
    "1 - (len(cancer_df[(cancer_df['test_result']=='Negative')&(cancer_df['has_cancer']==True)])/\\\n",
    "len(cancer_df[cancer_df['test_result']=='Negative']))"
   ]
  }
 ],
 "metadata": {
  "kernelspec": {
   "display_name": "Python 3",
   "language": "python",
   "name": "python3"
  },
  "language_info": {
   "codemirror_mode": {
    "name": "ipython",
    "version": 3
   },
   "file_extension": ".py",
   "mimetype": "text/x-python",
   "name": "python",
   "nbconvert_exporter": "python",
   "pygments_lexer": "ipython3",
   "version": "3.7.4"
  }
 },
 "nbformat": 4,
 "nbformat_minor": 2
}

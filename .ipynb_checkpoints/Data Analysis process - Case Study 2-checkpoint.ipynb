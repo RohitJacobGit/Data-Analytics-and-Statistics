{
 "cells": [
  {
   "cell_type": "markdown",
   "metadata": {},
   "source": [
    "https://fueleconomy.gov/feg/download.shtml\n",
    "https://www.fueleconomy.gov/feg/EPAGreenGuide/GreenVehicleGuideDocumentation.pdf"
   ]
  },
  {
   "cell_type": "code",
   "execution_count": 1,
   "metadata": {},
   "outputs": [],
   "source": [
    "import pandas as pd\n",
    "import numpy as np\n",
    "import matplotlib.pyplot as plt\n",
    "import seaborn as sns\n",
    "%matplotlib inline"
   ]
  },
  {
   "cell_type": "code",
   "execution_count": 18,
   "metadata": {},
   "outputs": [],
   "source": [
    "df_2019 = pd.read_excel('../data/all_alpha_19.xlsx')\n",
    "#df_2019.head()\n",
    "df_2008 = pd.read_excel('../data/all_alpha_08.xls')\n",
    "#df_2008.head()"
   ]
  },
  {
   "cell_type": "code",
   "execution_count": 19,
   "metadata": {},
   "outputs": [
    {
     "data": {
      "text/plain": [
       "'Number of columns in df_2019: 18'"
      ]
     },
     "execution_count": 19,
     "metadata": {},
     "output_type": "execute_result"
    }
   ],
   "source": [
    "'Number of rows in df_2019: {0}'.format(df_2019.shape[0])\n",
    "'Number of columns in df_2019: {0}'.format(df_2019.shape[1])"
   ]
  },
  {
   "cell_type": "code",
   "execution_count": 20,
   "metadata": {},
   "outputs": [
    {
     "data": {
      "text/plain": [
       "'Number of columns in df_2019: 18'"
      ]
     },
     "execution_count": 20,
     "metadata": {},
     "output_type": "execute_result"
    }
   ],
   "source": [
    "'Number of rows in df_2019: {0}'.format(df_2008.shape[0])\n",
    "'Number of columns in df_2019: {0}'.format(df_2008.shape[1])"
   ]
  },
  {
   "cell_type": "code",
   "execution_count": 21,
   "metadata": {},
   "outputs": [
    {
     "data": {
      "text/plain": [
       "'Number of duplicate rows in 2019 is 0'"
      ]
     },
     "execution_count": 21,
     "metadata": {},
     "output_type": "execute_result"
    }
   ],
   "source": [
    "'Number of duplicate rows in 2008 is {0}'.format(sum(df_2008.duplicated()))\n",
    "'Number of duplicate rows in 2019 is {0}'.format(sum(df_2019.duplicated()))"
   ]
  },
  {
   "cell_type": "code",
   "execution_count": 22,
   "metadata": {
    "collapsed": true
   },
   "outputs": [
    {
     "name": "stdout",
     "output_type": "stream",
     "text": [
      "<class 'pandas.core.frame.DataFrame'>\n",
      "RangeIndex: 2404 entries, 0 to 2403\n",
      "Data columns (total 18 columns):\n",
      "Model                   2404 non-null object\n",
      "Displ                   2404 non-null float64\n",
      "Cyl                     2205 non-null object\n",
      "Trans                   2205 non-null object\n",
      "Drive                   2311 non-null object\n",
      "Fuel                    2404 non-null object\n",
      "Sales Area              2404 non-null object\n",
      "Stnd                    2404 non-null object\n",
      "Underhood ID            2404 non-null object\n",
      "Veh Class               2404 non-null object\n",
      "Air Pollution Score     2404 non-null object\n",
      "FE Calc Appr            2205 non-null object\n",
      "City MPG                2205 non-null object\n",
      "Hwy MPG                 2205 non-null object\n",
      "Cmb MPG                 2205 non-null object\n",
      "Unadj Cmb MPG           2205 non-null float64\n",
      "Greenhouse Gas Score    2205 non-null object\n",
      "SmartWay                2404 non-null object\n",
      "dtypes: float64(2), object(16)\n",
      "memory usage: 338.2+ KB\n"
     ]
    }
   ],
   "source": [
    "df_2008.info()"
   ]
  },
  {
   "cell_type": "code",
   "execution_count": 23,
   "metadata": {
    "collapsed": true
   },
   "outputs": [
    {
     "name": "stdout",
     "output_type": "stream",
     "text": [
      "<class 'pandas.core.frame.DataFrame'>\n",
      "RangeIndex: 2690 entries, 0 to 2689\n",
      "Data columns (total 18 columns):\n",
      "Model                   2690 non-null object\n",
      "Displ                   2610 non-null float64\n",
      "Cyl                     2610 non-null float64\n",
      "Trans                   2690 non-null object\n",
      "Drive                   2690 non-null object\n",
      "Fuel                    2690 non-null object\n",
      "Cert Region             2690 non-null object\n",
      "Stnd                    2690 non-null object\n",
      "Stnd Description        2690 non-null object\n",
      "Underhood ID            2690 non-null object\n",
      "Veh Class               2690 non-null object\n",
      "Air Pollution Score     2690 non-null int64\n",
      "City MPG                2690 non-null object\n",
      "Hwy MPG                 2690 non-null object\n",
      "Cmb MPG                 2690 non-null object\n",
      "Greenhouse Gas Score    2690 non-null int64\n",
      "SmartWay                2690 non-null object\n",
      "Comb CO2                2690 non-null object\n",
      "dtypes: float64(2), int64(2), object(14)\n",
      "memory usage: 378.4+ KB\n"
     ]
    }
   ],
   "source": [
    "df_2019.info()"
   ]
  },
  {
   "cell_type": "code",
   "execution_count": 24,
   "metadata": {
    "collapsed": true
   },
   "outputs": [
    {
     "data": {
      "text/plain": [
       "Model                   436\n",
       "Displ                    47\n",
       "Cyl                       8\n",
       "Trans                    14\n",
       "Drive                     2\n",
       "Fuel                      5\n",
       "Sales Area                3\n",
       "Stnd                     12\n",
       "Underhood ID            343\n",
       "Veh Class                 9\n",
       "Air Pollution Score      13\n",
       "FE Calc Appr              2\n",
       "City MPG                 39\n",
       "Hwy MPG                  43\n",
       "Cmb MPG                  38\n",
       "Unadj Cmb MPG           721\n",
       "Greenhouse Gas Score     20\n",
       "SmartWay                  2\n",
       "dtype: int64"
      ]
     },
     "execution_count": 24,
     "metadata": {},
     "output_type": "execute_result"
    }
   ],
   "source": [
    "df_2008.nunique()"
   ]
  },
  {
   "cell_type": "code",
   "execution_count": 3,
   "metadata": {
    "collapsed": true
   },
   "outputs": [
    {
     "data": {
      "text/plain": [
       "Model                   674\n",
       "Displ                    45\n",
       "Cyl                       9\n",
       "Trans                    28\n",
       "Drive                     2\n",
       "Fuel                      6\n",
       "Cert Region               2\n",
       "Stnd                     23\n",
       "Stnd Description         23\n",
       "Underhood ID            431\n",
       "Veh Class                10\n",
       "Air Pollution Score       7\n",
       "City MPG                116\n",
       "Hwy MPG                 119\n",
       "Cmb MPG                 118\n",
       "Greenhouse Gas Score     10\n",
       "SmartWay                  3\n",
       "Comb CO2                397\n",
       "dtype: int64"
      ]
     },
     "execution_count": 3,
     "metadata": {},
     "output_type": "execute_result"
    }
   ],
   "source": [
    "df_2019.nunique()"
   ]
  },
  {
   "cell_type": "code",
   "execution_count": 49,
   "metadata": {},
   "outputs": [],
   "source": [
    "# df_2019['Displ'].unique()\n",
    "# sum(df_2019['Displ'].isna())\n",
    "# sum(np.isnan(df_2019['Displ']))\n",
    "# df_2019['Displ'].fillna(df_2019['Displ'].mean(),inplace=True)\n",
    "# sum(np.isnan(df_2019['Displ']))"
   ]
  },
  {
   "cell_type": "code",
   "execution_count": 56,
   "metadata": {},
   "outputs": [
    {
     "data": {
      "text/plain": [
       "0"
      ]
     },
     "execution_count": 56,
     "metadata": {},
     "output_type": "execute_result"
    }
   ],
   "source": [
    "# df_2019['Cyl'].unique()\n",
    "# sum(df_2019['Cyl'].isna())\n",
    "# sum(np.isnan(df_2019['Cyl']))\n",
    "# df_2019['Cyl'].fillna(df_2019['Cyl'].mean(),inplace=True)\n",
    "# sum(np.isnan(df_2019['Cyl']))"
   ]
  },
  {
   "cell_type": "code",
   "execution_count": 25,
   "metadata": {},
   "outputs": [],
   "source": [
    "df_2008.drop(labels=['Stnd', 'Underhood ID', 'FE Calc Appr', 'Unadj Cmb MPG'],axis=1,inplace=True)\n",
    "df_2019.drop(labels=['Stnd', 'Stnd Description', 'Underhood ID', 'Comb CO2'],axis=1,inplace=True)"
   ]
  },
  {
   "cell_type": "code",
   "execution_count": 26,
   "metadata": {},
   "outputs": [],
   "source": [
    "df_2008.rename(columns={'Sales Area':'Cert Region'},inplace=True)"
   ]
  },
  {
   "cell_type": "code",
   "execution_count": 27,
   "metadata": {},
   "outputs": [],
   "source": [
    "df_2008.rename(columns=lambda x: x.strip().lower().replace(\" \", \"_\"), inplace=True)"
   ]
  },
  {
   "cell_type": "code",
   "execution_count": 28,
   "metadata": {},
   "outputs": [],
   "source": [
    "df_2019.rename(columns=lambda x: x.strip().lower().replace(' ','_'), inplace=True)"
   ]
  },
  {
   "cell_type": "code",
   "execution_count": 29,
   "metadata": {},
   "outputs": [
    {
     "data": {
      "text/plain": [
       "'abc++def'"
      ]
     },
     "execution_count": 29,
     "metadata": {},
     "output_type": "execute_result"
    }
   ],
   "source": [
    "'ABC dEf'.strip().lower().replace(' ','++')"
   ]
  },
  {
   "cell_type": "code",
   "execution_count": 30,
   "metadata": {},
   "outputs": [
    {
     "data": {
      "text/plain": [
       "array([ True,  True,  True,  True,  True,  True,  True,  True,  True,\n",
       "        True,  True,  True,  True,  True])"
      ]
     },
     "execution_count": 30,
     "metadata": {},
     "output_type": "execute_result"
    }
   ],
   "source": [
    "# Identical columns\n",
    "df_2008.columns == df_2019.columns"
   ]
  },
  {
   "cell_type": "code",
   "execution_count": 31,
   "metadata": {},
   "outputs": [
    {
     "data": {
      "text/plain": [
       "True"
      ]
     },
     "execution_count": 31,
     "metadata": {},
     "output_type": "execute_result"
    }
   ],
   "source": [
    "# Identical columns\n",
    "(df_2008.columns == df_2019.columns).all()"
   ]
  },
  {
   "cell_type": "code",
   "execution_count": 32,
   "metadata": {},
   "outputs": [
    {
     "data": {
      "text/plain": [
       "FA    1157\n",
       "CA    1084\n",
       "FC     163\n",
       "Name: cert_region, dtype: int64"
      ]
     },
     "execution_count": 32,
     "metadata": {},
     "output_type": "execute_result"
    }
   ],
   "source": [
    "df_2008['cert_region'].value_counts()"
   ]
  },
  {
   "cell_type": "code",
   "execution_count": 33,
   "metadata": {},
   "outputs": [
    {
     "data": {
      "text/plain": [
       "array(['CA', 'FA'], dtype=object)"
      ]
     },
     "execution_count": 33,
     "metadata": {},
     "output_type": "execute_result"
    }
   ],
   "source": [
    "df_2019['cert_region'].unique()"
   ]
  },
  {
   "cell_type": "code",
   "execution_count": 34,
   "metadata": {},
   "outputs": [],
   "source": [
    "# drop rows with any null values\n",
    "df_2008.dropna(axis=0,inplace=True)"
   ]
  },
  {
   "cell_type": "code",
   "execution_count": 35,
   "metadata": {},
   "outputs": [
    {
     "data": {
      "text/plain": [
       "(2205, 14)"
      ]
     },
     "execution_count": 35,
     "metadata": {},
     "output_type": "execute_result"
    }
   ],
   "source": [
    "df_2008.shape"
   ]
  },
  {
   "cell_type": "code",
   "execution_count": 36,
   "metadata": {
    "collapsed": true
   },
   "outputs": [
    {
     "data": {
      "text/plain": [
       "model                   0\n",
       "displ                   0\n",
       "cyl                     0\n",
       "trans                   0\n",
       "drive                   0\n",
       "fuel                    0\n",
       "cert_region             0\n",
       "veh_class               0\n",
       "air_pollution_score     0\n",
       "city_mpg                0\n",
       "hwy_mpg                 0\n",
       "cmb_mpg                 0\n",
       "greenhouse_gas_score    0\n",
       "smartway                0\n",
       "dtype: int64"
      ]
     },
     "execution_count": 36,
     "metadata": {},
     "output_type": "execute_result"
    }
   ],
   "source": [
    "#df_2008.info()\n",
    "df_2008.isnull().sum()"
   ]
  },
  {
   "cell_type": "code",
   "execution_count": 37,
   "metadata": {},
   "outputs": [
    {
     "data": {
      "text/plain": [
       "False"
      ]
     },
     "execution_count": 37,
     "metadata": {},
     "output_type": "execute_result"
    }
   ],
   "source": [
    "# checks if any of columns in 2008 have null values - should print False\n",
    "df_2008.isnull().sum().any()"
   ]
  },
  {
   "cell_type": "code",
   "execution_count": 38,
   "metadata": {},
   "outputs": [
    {
     "data": {
      "text/plain": [
       "63"
      ]
     },
     "execution_count": 38,
     "metadata": {},
     "output_type": "execute_result"
    }
   ],
   "source": [
    "sum(df_2008.duplicated())"
   ]
  },
  {
   "cell_type": "code",
   "execution_count": 39,
   "metadata": {},
   "outputs": [],
   "source": [
    "df_2008.drop_duplicates(inplace=True)"
   ]
  },
  {
   "cell_type": "code",
   "execution_count": 40,
   "metadata": {},
   "outputs": [
    {
     "data": {
      "text/plain": [
       "(2142, 14)"
      ]
     },
     "execution_count": 40,
     "metadata": {},
     "output_type": "execute_result"
    }
   ],
   "source": [
    "df_2008.shape"
   ]
  },
  {
   "cell_type": "code",
   "execution_count": 41,
   "metadata": {},
   "outputs": [
    {
     "data": {
      "text/plain": [
       "model                    object\n",
       "displ                   float64\n",
       "cyl                      object\n",
       "trans                    object\n",
       "drive                    object\n",
       "fuel                     object\n",
       "cert_region              object\n",
       "veh_class                object\n",
       "air_pollution_score      object\n",
       "city_mpg                 object\n",
       "hwy_mpg                  object\n",
       "cmb_mpg                  object\n",
       "greenhouse_gas_score     object\n",
       "smartway                 object\n",
       "dtype: object"
      ]
     },
     "execution_count": 41,
     "metadata": {},
     "output_type": "execute_result"
    }
   ],
   "source": [
    "df_2008.dtypes"
   ]
  },
  {
   "cell_type": "code",
   "execution_count": 42,
   "metadata": {},
   "outputs": [
    {
     "data": {
      "text/plain": [
       "model                    object\n",
       "displ                   float64\n",
       "cyl                     float64\n",
       "trans                    object\n",
       "drive                    object\n",
       "fuel                     object\n",
       "cert_region              object\n",
       "veh_class                object\n",
       "air_pollution_score       int64\n",
       "city_mpg                 object\n",
       "hwy_mpg                  object\n",
       "cmb_mpg                  object\n",
       "greenhouse_gas_score      int64\n",
       "smartway                 object\n",
       "dtype: object"
      ]
     },
     "execution_count": 42,
     "metadata": {},
     "output_type": "execute_result"
    }
   ],
   "source": [
    "df_2019.dtypes"
   ]
  },
  {
   "cell_type": "code",
   "execution_count": 45,
   "metadata": {
    "collapsed": true
   },
   "outputs": [
    {
     "data": {
      "text/plain": [
       "0       (6 cyl)\n",
       "1       (6 cyl)\n",
       "2       (4 cyl)\n",
       "3       (4 cyl)\n",
       "4       (6 cyl)\n",
       "         ...   \n",
       "2399    (6 cyl)\n",
       "2400    (8 cyl)\n",
       "2401    (6 cyl)\n",
       "2402    (6 cyl)\n",
       "2403    (8 cyl)\n",
       "Name: cyl, Length: 2142, dtype: object"
      ]
     },
     "execution_count": 45,
     "metadata": {},
     "output_type": "execute_result"
    }
   ],
   "source": [
    "# change datatypes to merge the two data frames\n",
    "df_2008['cyl']"
   ]
  },
  {
   "cell_type": "code",
   "execution_count": 46,
   "metadata": {},
   "outputs": [
    {
     "data": {
      "text/html": [
       "<div>\n",
       "<style scoped>\n",
       "    .dataframe tbody tr th:only-of-type {\n",
       "        vertical-align: middle;\n",
       "    }\n",
       "\n",
       "    .dataframe tbody tr th {\n",
       "        vertical-align: top;\n",
       "    }\n",
       "\n",
       "    .dataframe thead th {\n",
       "        text-align: right;\n",
       "    }\n",
       "</style>\n",
       "<table border=\"1\" class=\"dataframe\">\n",
       "  <thead>\n",
       "    <tr style=\"text-align: right;\">\n",
       "      <th></th>\n",
       "      <th>0</th>\n",
       "    </tr>\n",
       "  </thead>\n",
       "  <tbody>\n",
       "    <tr>\n",
       "      <td>0</td>\n",
       "      <td>6</td>\n",
       "    </tr>\n",
       "    <tr>\n",
       "      <td>1</td>\n",
       "      <td>6</td>\n",
       "    </tr>\n",
       "    <tr>\n",
       "      <td>2</td>\n",
       "      <td>4</td>\n",
       "    </tr>\n",
       "    <tr>\n",
       "      <td>3</td>\n",
       "      <td>4</td>\n",
       "    </tr>\n",
       "    <tr>\n",
       "      <td>4</td>\n",
       "      <td>6</td>\n",
       "    </tr>\n",
       "    <tr>\n",
       "      <td>...</td>\n",
       "      <td>...</td>\n",
       "    </tr>\n",
       "    <tr>\n",
       "      <td>2399</td>\n",
       "      <td>6</td>\n",
       "    </tr>\n",
       "    <tr>\n",
       "      <td>2400</td>\n",
       "      <td>8</td>\n",
       "    </tr>\n",
       "    <tr>\n",
       "      <td>2401</td>\n",
       "      <td>6</td>\n",
       "    </tr>\n",
       "    <tr>\n",
       "      <td>2402</td>\n",
       "      <td>6</td>\n",
       "    </tr>\n",
       "    <tr>\n",
       "      <td>2403</td>\n",
       "      <td>8</td>\n",
       "    </tr>\n",
       "  </tbody>\n",
       "</table>\n",
       "<p>2142 rows × 1 columns</p>\n",
       "</div>"
      ],
      "text/plain": [
       "      0\n",
       "0     6\n",
       "1     6\n",
       "2     4\n",
       "3     4\n",
       "4     6\n",
       "...  ..\n",
       "2399  6\n",
       "2400  8\n",
       "2401  6\n",
       "2402  6\n",
       "2403  8\n",
       "\n",
       "[2142 rows x 1 columns]"
      ]
     },
     "execution_count": 46,
     "metadata": {},
     "output_type": "execute_result"
    }
   ],
   "source": [
    "#df_2008['cyl'].str.replace('(','$')\n",
    "# extract int from string\n",
    "# convert object into str and perform operation and convert it to int\n",
    "df_2008['cyl'].str.extract('(\\d+)').astype(int)"
   ]
  },
  {
   "cell_type": "code",
   "execution_count": 47,
   "metadata": {},
   "outputs": [
    {
     "data": {
      "text/plain": [
       "0       4\n",
       "1       4\n",
       "2       6\n",
       "3       6\n",
       "4       6\n",
       "       ..\n",
       "2685    4\n",
       "2686    4\n",
       "2687    4\n",
       "2688    4\n",
       "2689    4\n",
       "Name: cyl, Length: 2690, dtype: int64"
      ]
     },
     "execution_count": 47,
     "metadata": {},
     "output_type": "execute_result"
    }
   ],
   "source": [
    "df_2019['cyl'].fillna(df_2019['cyl'].mean()).astype(int)"
   ]
  },
  {
   "cell_type": "code",
   "execution_count": 48,
   "metadata": {},
   "outputs": [
    {
     "data": {
      "text/plain": [
       "6      1418\n",
       "7       504\n",
       "9.5      80\n",
       "6/6      32\n",
       "3        31\n",
       "9        23\n",
       "3/3      20\n",
       "8        15\n",
       "7/7      12\n",
       "1         6\n",
       "6/4       1\n",
       "Name: air_pollution_score, dtype: int64"
      ]
     },
     "execution_count": 48,
     "metadata": {},
     "output_type": "execute_result"
    }
   ],
   "source": [
    "df_2008['air_pollution_score'].value_counts()"
   ]
  },
  {
   "cell_type": "code",
   "execution_count": 49,
   "metadata": {},
   "outputs": [
    {
     "data": {
      "text/html": [
       "<div>\n",
       "<style scoped>\n",
       "    .dataframe tbody tr th:only-of-type {\n",
       "        vertical-align: middle;\n",
       "    }\n",
       "\n",
       "    .dataframe tbody tr th {\n",
       "        vertical-align: top;\n",
       "    }\n",
       "\n",
       "    .dataframe thead th {\n",
       "        text-align: right;\n",
       "    }\n",
       "</style>\n",
       "<table border=\"1\" class=\"dataframe\">\n",
       "  <thead>\n",
       "    <tr style=\"text-align: right;\">\n",
       "      <th></th>\n",
       "      <th>model</th>\n",
       "      <th>displ</th>\n",
       "      <th>cyl</th>\n",
       "      <th>trans</th>\n",
       "      <th>drive</th>\n",
       "      <th>fuel</th>\n",
       "      <th>cert_region</th>\n",
       "      <th>veh_class</th>\n",
       "      <th>air_pollution_score</th>\n",
       "      <th>city_mpg</th>\n",
       "      <th>hwy_mpg</th>\n",
       "      <th>cmb_mpg</th>\n",
       "      <th>greenhouse_gas_score</th>\n",
       "      <th>smartway</th>\n",
       "    </tr>\n",
       "  </thead>\n",
       "  <tbody>\n",
       "    <tr>\n",
       "      <td>1550</td>\n",
       "      <td>MERCEDES-BENZ C300</td>\n",
       "      <td>3.0</td>\n",
       "      <td>(6 cyl)</td>\n",
       "      <td>Auto-L7</td>\n",
       "      <td>2WD</td>\n",
       "      <td>ethanol/gas</td>\n",
       "      <td>CA</td>\n",
       "      <td>small car</td>\n",
       "      <td>6/4</td>\n",
       "      <td>13/18</td>\n",
       "      <td>19/25</td>\n",
       "      <td>15/21</td>\n",
       "      <td>7/6</td>\n",
       "      <td>no</td>\n",
       "    </tr>\n",
       "  </tbody>\n",
       "</table>\n",
       "</div>"
      ],
      "text/plain": [
       "                   model  displ      cyl    trans drive         fuel  \\\n",
       "1550  MERCEDES-BENZ C300    3.0  (6 cyl)  Auto-L7   2WD  ethanol/gas   \n",
       "\n",
       "     cert_region  veh_class air_pollution_score city_mpg hwy_mpg cmb_mpg  \\\n",
       "1550          CA  small car                 6/4    13/18   19/25   15/21   \n",
       "\n",
       "     greenhouse_gas_score smartway  \n",
       "1550                  7/6       no  "
      ]
     },
     "execution_count": 49,
     "metadata": {},
     "output_type": "execute_result"
    }
   ],
   "source": [
    "df_2008[df_2008['air_pollution_score']=='6/4']"
   ]
  },
  {
   "cell_type": "code",
   "execution_count": 50,
   "metadata": {},
   "outputs": [],
   "source": [
    "hybrid_2008 = df_2008[df_2008['fuel'].str.contains('/')==True]"
   ]
  },
  {
   "cell_type": "code",
   "execution_count": 51,
   "metadata": {},
   "outputs": [
    {
     "data": {
      "text/html": [
       "<div>\n",
       "<style scoped>\n",
       "    .dataframe tbody tr th:only-of-type {\n",
       "        vertical-align: middle;\n",
       "    }\n",
       "\n",
       "    .dataframe tbody tr th {\n",
       "        vertical-align: top;\n",
       "    }\n",
       "\n",
       "    .dataframe thead th {\n",
       "        text-align: right;\n",
       "    }\n",
       "</style>\n",
       "<table border=\"1\" class=\"dataframe\">\n",
       "  <thead>\n",
       "    <tr style=\"text-align: right;\">\n",
       "      <th></th>\n",
       "      <th>model</th>\n",
       "      <th>displ</th>\n",
       "      <th>cyl</th>\n",
       "      <th>trans</th>\n",
       "      <th>drive</th>\n",
       "      <th>fuel</th>\n",
       "      <th>cert_region</th>\n",
       "      <th>veh_class</th>\n",
       "      <th>air_pollution_score</th>\n",
       "      <th>city_mpg</th>\n",
       "      <th>hwy_mpg</th>\n",
       "      <th>cmb_mpg</th>\n",
       "      <th>greenhouse_gas_score</th>\n",
       "      <th>smartway</th>\n",
       "    </tr>\n",
       "  </thead>\n",
       "  <tbody>\n",
       "    <tr>\n",
       "      <td>316</td>\n",
       "      <td>CHEVROLET Avalanche 1500</td>\n",
       "      <td>5.3</td>\n",
       "      <td>(8 cyl)</td>\n",
       "      <td>Auto-L4</td>\n",
       "      <td>2WD</td>\n",
       "      <td>ethanol/gas</td>\n",
       "      <td>FC</td>\n",
       "      <td>SUV</td>\n",
       "      <td>7/7</td>\n",
       "      <td>11/14</td>\n",
       "      <td>15/20</td>\n",
       "      <td>12/16</td>\n",
       "      <td>6/4</td>\n",
       "      <td>no</td>\n",
       "    </tr>\n",
       "    <tr>\n",
       "      <td>317</td>\n",
       "      <td>CHEVROLET Avalanche 1500</td>\n",
       "      <td>5.3</td>\n",
       "      <td>(8 cyl)</td>\n",
       "      <td>Auto-L4</td>\n",
       "      <td>4WD</td>\n",
       "      <td>ethanol/gas</td>\n",
       "      <td>FC</td>\n",
       "      <td>SUV</td>\n",
       "      <td>7/7</td>\n",
       "      <td>11/14</td>\n",
       "      <td>14/19</td>\n",
       "      <td>12/16</td>\n",
       "      <td>6/4</td>\n",
       "      <td>no</td>\n",
       "    </tr>\n",
       "    <tr>\n",
       "      <td>321</td>\n",
       "      <td>CHEVROLET Avalanche 1500</td>\n",
       "      <td>5.3</td>\n",
       "      <td>(8 cyl)</td>\n",
       "      <td>Auto-L4</td>\n",
       "      <td>2WD</td>\n",
       "      <td>ethanol/gas</td>\n",
       "      <td>FC</td>\n",
       "      <td>SUV</td>\n",
       "      <td>6/6</td>\n",
       "      <td>11/14</td>\n",
       "      <td>15/20</td>\n",
       "      <td>12/16</td>\n",
       "      <td>6/4</td>\n",
       "      <td>no</td>\n",
       "    </tr>\n",
       "    <tr>\n",
       "      <td>322</td>\n",
       "      <td>CHEVROLET Avalanche 1500</td>\n",
       "      <td>5.3</td>\n",
       "      <td>(8 cyl)</td>\n",
       "      <td>Auto-L4</td>\n",
       "      <td>4WD</td>\n",
       "      <td>ethanol/gas</td>\n",
       "      <td>FC</td>\n",
       "      <td>SUV</td>\n",
       "      <td>6/6</td>\n",
       "      <td>11/14</td>\n",
       "      <td>14/19</td>\n",
       "      <td>12/16</td>\n",
       "      <td>6/4</td>\n",
       "      <td>no</td>\n",
       "    </tr>\n",
       "    <tr>\n",
       "      <td>380</td>\n",
       "      <td>CHEVROLET Express 1500</td>\n",
       "      <td>5.3</td>\n",
       "      <td>(8 cyl)</td>\n",
       "      <td>Auto-L4</td>\n",
       "      <td>4WD</td>\n",
       "      <td>ethanol/gas</td>\n",
       "      <td>FC</td>\n",
       "      <td>van</td>\n",
       "      <td>6/6</td>\n",
       "      <td>9/12</td>\n",
       "      <td>12/16</td>\n",
       "      <td>10/14</td>\n",
       "      <td>4/2</td>\n",
       "      <td>no</td>\n",
       "    </tr>\n",
       "  </tbody>\n",
       "</table>\n",
       "</div>"
      ],
      "text/plain": [
       "                        model  displ      cyl    trans drive         fuel  \\\n",
       "316  CHEVROLET Avalanche 1500    5.3  (8 cyl)  Auto-L4   2WD  ethanol/gas   \n",
       "317  CHEVROLET Avalanche 1500    5.3  (8 cyl)  Auto-L4   4WD  ethanol/gas   \n",
       "321  CHEVROLET Avalanche 1500    5.3  (8 cyl)  Auto-L4   2WD  ethanol/gas   \n",
       "322  CHEVROLET Avalanche 1500    5.3  (8 cyl)  Auto-L4   4WD  ethanol/gas   \n",
       "380    CHEVROLET Express 1500    5.3  (8 cyl)  Auto-L4   4WD  ethanol/gas   \n",
       "\n",
       "    cert_region veh_class air_pollution_score city_mpg hwy_mpg cmb_mpg  \\\n",
       "316          FC       SUV                 7/7    11/14   15/20   12/16   \n",
       "317          FC       SUV                 7/7    11/14   14/19   12/16   \n",
       "321          FC       SUV                 6/6    11/14   15/20   12/16   \n",
       "322          FC       SUV                 6/6    11/14   14/19   12/16   \n",
       "380          FC       van                 6/6     9/12   12/16   10/14   \n",
       "\n",
       "    greenhouse_gas_score smartway  \n",
       "316                  6/4       no  \n",
       "317                  6/4       no  \n",
       "321                  6/4       no  \n",
       "322                  6/4       no  \n",
       "380                  4/2       no  "
      ]
     },
     "execution_count": 51,
     "metadata": {},
     "output_type": "execute_result"
    }
   ],
   "source": [
    "hybrid_2008.head()"
   ]
  },
  {
   "cell_type": "code",
   "execution_count": 26,
   "metadata": {},
   "outputs": [],
   "source": [
    "hybrid_2019 = df_2019[df_2019['fuel'].str.contains('/')]"
   ]
  },
  {
   "cell_type": "code",
   "execution_count": 52,
   "metadata": {},
   "outputs": [],
   "source": [
    "copy_1_hybrid_2008 = hybrid_2008.copy()\n",
    "copy_2_hybrid_2008 = hybrid_2008.copy()"
   ]
  },
  {
   "cell_type": "code",
   "execution_count": 53,
   "metadata": {},
   "outputs": [
    {
     "data": {
      "text/plain": [
       "316     [ethanol, gas]\n",
       "317     [ethanol, gas]\n",
       "321     [ethanol, gas]\n",
       "322     [ethanol, gas]\n",
       "380     [ethanol, gas]\n",
       "             ...      \n",
       "1734    [ethanol, gas]\n",
       "1764    [ethanol, gas]\n",
       "1765    [ethanol, gas]\n",
       "1808    [ethanol, gas]\n",
       "1809    [ethanol, gas]\n",
       "Name: fuel, Length: 65, dtype: object"
      ]
     },
     "execution_count": 53,
     "metadata": {},
     "output_type": "execute_result"
    }
   ],
   "source": [
    "hybrid_2008['fuel'].str.split('/')"
   ]
  },
  {
   "cell_type": "code",
   "execution_count": 43,
   "metadata": {},
   "outputs": [],
   "source": [
    "split_columns = ['fuel', 'air_pollution_score', 'city_mpg', 'hwy_mpg', 'cmb_mpg', 'greenhouse_gas_score']\n",
    "\n",
    "for col in split_columns:\n",
    "    copy_1_hybrid_2008[col] = copy_1_hybrid_2008[col].apply(lambda x:x.split('/')[0])\n",
    "    copy_2_hybrid_2008[col] = copy_2_hybrid_2008[col].apply(lambda x:x.split('/')[1])"
   ]
  },
  {
   "cell_type": "code",
   "execution_count": 38,
   "metadata": {
    "collapsed": true
   },
   "outputs": [
    {
     "data": {
      "text/plain": [
       "model                    object\n",
       "displ                   float64\n",
       "cyl                     float64\n",
       "trans                    object\n",
       "drive                    object\n",
       "fuel                     object\n",
       "cert_region              object\n",
       "veh_class                object\n",
       "air_pollution_score      object\n",
       "city_mpg                 object\n",
       "hwy_mpg                  object\n",
       "cmb_mpg                  object\n",
       "greenhouse_gas_score     object\n",
       "smartway                 object\n",
       "dtype: object"
      ]
     },
     "execution_count": 38,
     "metadata": {},
     "output_type": "execute_result"
    }
   ],
   "source": [
    "df_2019.dtypes\n",
    "df_2019['air_pollution_score'] = df_2019['air_pollution_score'].astype(object)\n",
    "df_2019['greenhouse_gas_score'] = df_2019['greenhouse_gas_score'].astype(object)"
   ]
  },
  {
   "cell_type": "code",
   "execution_count": 45,
   "metadata": {
    "collapsed": true
   },
   "outputs": [
    {
     "data": {
      "text/html": [
       "<div>\n",
       "<style scoped>\n",
       "    .dataframe tbody tr th:only-of-type {\n",
       "        vertical-align: middle;\n",
       "    }\n",
       "\n",
       "    .dataframe tbody tr th {\n",
       "        vertical-align: top;\n",
       "    }\n",
       "\n",
       "    .dataframe thead th {\n",
       "        text-align: right;\n",
       "    }\n",
       "</style>\n",
       "<table border=\"1\" class=\"dataframe\">\n",
       "  <thead>\n",
       "    <tr style=\"text-align: right;\">\n",
       "      <th></th>\n",
       "      <th>model</th>\n",
       "      <th>displ</th>\n",
       "      <th>cyl</th>\n",
       "      <th>trans</th>\n",
       "      <th>drive</th>\n",
       "      <th>fuel</th>\n",
       "      <th>cert_region</th>\n",
       "      <th>veh_class</th>\n",
       "      <th>air_pollution_score</th>\n",
       "      <th>city_mpg</th>\n",
       "      <th>hwy_mpg</th>\n",
       "      <th>cmb_mpg</th>\n",
       "      <th>greenhouse_gas_score</th>\n",
       "      <th>smartway</th>\n",
       "    </tr>\n",
       "  </thead>\n",
       "  <tbody>\n",
       "    <tr>\n",
       "      <td>316</td>\n",
       "      <td>CHEVROLET Avalanche 1500</td>\n",
       "      <td>5.3</td>\n",
       "      <td>(8 cyl)</td>\n",
       "      <td>Auto-L4</td>\n",
       "      <td>2WD</td>\n",
       "      <td>gas</td>\n",
       "      <td>FC</td>\n",
       "      <td>SUV</td>\n",
       "      <td>7</td>\n",
       "      <td>14</td>\n",
       "      <td>20</td>\n",
       "      <td>16</td>\n",
       "      <td>4</td>\n",
       "      <td>no</td>\n",
       "    </tr>\n",
       "    <tr>\n",
       "      <td>317</td>\n",
       "      <td>CHEVROLET Avalanche 1500</td>\n",
       "      <td>5.3</td>\n",
       "      <td>(8 cyl)</td>\n",
       "      <td>Auto-L4</td>\n",
       "      <td>4WD</td>\n",
       "      <td>gas</td>\n",
       "      <td>FC</td>\n",
       "      <td>SUV</td>\n",
       "      <td>7</td>\n",
       "      <td>14</td>\n",
       "      <td>19</td>\n",
       "      <td>16</td>\n",
       "      <td>4</td>\n",
       "      <td>no</td>\n",
       "    </tr>\n",
       "    <tr>\n",
       "      <td>321</td>\n",
       "      <td>CHEVROLET Avalanche 1500</td>\n",
       "      <td>5.3</td>\n",
       "      <td>(8 cyl)</td>\n",
       "      <td>Auto-L4</td>\n",
       "      <td>2WD</td>\n",
       "      <td>gas</td>\n",
       "      <td>FC</td>\n",
       "      <td>SUV</td>\n",
       "      <td>6</td>\n",
       "      <td>14</td>\n",
       "      <td>20</td>\n",
       "      <td>16</td>\n",
       "      <td>4</td>\n",
       "      <td>no</td>\n",
       "    </tr>\n",
       "    <tr>\n",
       "      <td>322</td>\n",
       "      <td>CHEVROLET Avalanche 1500</td>\n",
       "      <td>5.3</td>\n",
       "      <td>(8 cyl)</td>\n",
       "      <td>Auto-L4</td>\n",
       "      <td>4WD</td>\n",
       "      <td>gas</td>\n",
       "      <td>FC</td>\n",
       "      <td>SUV</td>\n",
       "      <td>6</td>\n",
       "      <td>14</td>\n",
       "      <td>19</td>\n",
       "      <td>16</td>\n",
       "      <td>4</td>\n",
       "      <td>no</td>\n",
       "    </tr>\n",
       "    <tr>\n",
       "      <td>380</td>\n",
       "      <td>CHEVROLET Express 1500</td>\n",
       "      <td>5.3</td>\n",
       "      <td>(8 cyl)</td>\n",
       "      <td>Auto-L4</td>\n",
       "      <td>4WD</td>\n",
       "      <td>gas</td>\n",
       "      <td>FC</td>\n",
       "      <td>van</td>\n",
       "      <td>6</td>\n",
       "      <td>12</td>\n",
       "      <td>16</td>\n",
       "      <td>14</td>\n",
       "      <td>2</td>\n",
       "      <td>no</td>\n",
       "    </tr>\n",
       "  </tbody>\n",
       "</table>\n",
       "</div>"
      ],
      "text/plain": [
       "                        model  displ      cyl    trans drive fuel cert_region  \\\n",
       "316  CHEVROLET Avalanche 1500    5.3  (8 cyl)  Auto-L4   2WD  gas          FC   \n",
       "317  CHEVROLET Avalanche 1500    5.3  (8 cyl)  Auto-L4   4WD  gas          FC   \n",
       "321  CHEVROLET Avalanche 1500    5.3  (8 cyl)  Auto-L4   2WD  gas          FC   \n",
       "322  CHEVROLET Avalanche 1500    5.3  (8 cyl)  Auto-L4   4WD  gas          FC   \n",
       "380    CHEVROLET Express 1500    5.3  (8 cyl)  Auto-L4   4WD  gas          FC   \n",
       "\n",
       "    veh_class air_pollution_score city_mpg hwy_mpg cmb_mpg  \\\n",
       "316       SUV                   7       14      20      16   \n",
       "317       SUV                   7       14      19      16   \n",
       "321       SUV                   6       14      20      16   \n",
       "322       SUV                   6       14      19      16   \n",
       "380       van                   6       12      16      14   \n",
       "\n",
       "    greenhouse_gas_score smartway  \n",
       "316                    4       no  \n",
       "317                    4       no  \n",
       "321                    4       no  \n",
       "322                    4       no  \n",
       "380                    2       no  "
      ]
     },
     "execution_count": 45,
     "metadata": {},
     "output_type": "execute_result"
    }
   ],
   "source": [
    "copy_2_hybrid_2008.head()"
   ]
  },
  {
   "cell_type": "code",
   "execution_count": 46,
   "metadata": {},
   "outputs": [],
   "source": [
    "new_rows = copy_1_hybrid_2008.append(copy_2_hybrid_2008)"
   ]
  },
  {
   "cell_type": "code",
   "execution_count": 47,
   "metadata": {},
   "outputs": [
    {
     "data": {
      "text/plain": [
       "(130, 14)"
      ]
     },
     "execution_count": 47,
     "metadata": {},
     "output_type": "execute_result"
    }
   ],
   "source": [
    "new_rows.shape"
   ]
  },
  {
   "cell_type": "code",
   "execution_count": 59,
   "metadata": {},
   "outputs": [
    {
     "data": {
      "text/html": [
       "<div>\n",
       "<style scoped>\n",
       "    .dataframe tbody tr th:only-of-type {\n",
       "        vertical-align: middle;\n",
       "    }\n",
       "\n",
       "    .dataframe tbody tr th {\n",
       "        vertical-align: top;\n",
       "    }\n",
       "\n",
       "    .dataframe thead th {\n",
       "        text-align: right;\n",
       "    }\n",
       "</style>\n",
       "<table border=\"1\" class=\"dataframe\">\n",
       "  <thead>\n",
       "    <tr style=\"text-align: right;\">\n",
       "      <th></th>\n",
       "      <th>model</th>\n",
       "      <th>displ</th>\n",
       "      <th>cyl</th>\n",
       "      <th>trans</th>\n",
       "      <th>drive</th>\n",
       "      <th>fuel</th>\n",
       "      <th>cert_region</th>\n",
       "      <th>veh_class</th>\n",
       "      <th>air_pollution_score</th>\n",
       "      <th>city_mpg</th>\n",
       "      <th>hwy_mpg</th>\n",
       "      <th>cmb_mpg</th>\n",
       "      <th>greenhouse_gas_score</th>\n",
       "      <th>smartway</th>\n",
       "    </tr>\n",
       "  </thead>\n",
       "  <tbody>\n",
       "    <tr>\n",
       "      <td>316</td>\n",
       "      <td>CHEVROLET Avalanche 1500</td>\n",
       "      <td>5.3</td>\n",
       "      <td>(8 cyl)</td>\n",
       "      <td>Auto-L4</td>\n",
       "      <td>2WD</td>\n",
       "      <td>ethanol/gas</td>\n",
       "      <td>FC</td>\n",
       "      <td>SUV</td>\n",
       "      <td>7/7</td>\n",
       "      <td>11/14</td>\n",
       "      <td>15/20</td>\n",
       "      <td>12/16</td>\n",
       "      <td>6/4</td>\n",
       "      <td>no</td>\n",
       "    </tr>\n",
       "    <tr>\n",
       "      <td>317</td>\n",
       "      <td>CHEVROLET Avalanche 1500</td>\n",
       "      <td>5.3</td>\n",
       "      <td>(8 cyl)</td>\n",
       "      <td>Auto-L4</td>\n",
       "      <td>4WD</td>\n",
       "      <td>ethanol/gas</td>\n",
       "      <td>FC</td>\n",
       "      <td>SUV</td>\n",
       "      <td>7/7</td>\n",
       "      <td>11/14</td>\n",
       "      <td>14/19</td>\n",
       "      <td>12/16</td>\n",
       "      <td>6/4</td>\n",
       "      <td>no</td>\n",
       "    </tr>\n",
       "    <tr>\n",
       "      <td>321</td>\n",
       "      <td>CHEVROLET Avalanche 1500</td>\n",
       "      <td>5.3</td>\n",
       "      <td>(8 cyl)</td>\n",
       "      <td>Auto-L4</td>\n",
       "      <td>2WD</td>\n",
       "      <td>ethanol/gas</td>\n",
       "      <td>FC</td>\n",
       "      <td>SUV</td>\n",
       "      <td>6/6</td>\n",
       "      <td>11/14</td>\n",
       "      <td>15/20</td>\n",
       "      <td>12/16</td>\n",
       "      <td>6/4</td>\n",
       "      <td>no</td>\n",
       "    </tr>\n",
       "    <tr>\n",
       "      <td>322</td>\n",
       "      <td>CHEVROLET Avalanche 1500</td>\n",
       "      <td>5.3</td>\n",
       "      <td>(8 cyl)</td>\n",
       "      <td>Auto-L4</td>\n",
       "      <td>4WD</td>\n",
       "      <td>ethanol/gas</td>\n",
       "      <td>FC</td>\n",
       "      <td>SUV</td>\n",
       "      <td>6/6</td>\n",
       "      <td>11/14</td>\n",
       "      <td>14/19</td>\n",
       "      <td>12/16</td>\n",
       "      <td>6/4</td>\n",
       "      <td>no</td>\n",
       "    </tr>\n",
       "    <tr>\n",
       "      <td>380</td>\n",
       "      <td>CHEVROLET Express 1500</td>\n",
       "      <td>5.3</td>\n",
       "      <td>(8 cyl)</td>\n",
       "      <td>Auto-L4</td>\n",
       "      <td>4WD</td>\n",
       "      <td>ethanol/gas</td>\n",
       "      <td>FC</td>\n",
       "      <td>van</td>\n",
       "      <td>6/6</td>\n",
       "      <td>9/12</td>\n",
       "      <td>12/16</td>\n",
       "      <td>10/14</td>\n",
       "      <td>4/2</td>\n",
       "      <td>no</td>\n",
       "    </tr>\n",
       "  </tbody>\n",
       "</table>\n",
       "</div>"
      ],
      "text/plain": [
       "                        model  displ      cyl    trans drive         fuel  \\\n",
       "316  CHEVROLET Avalanche 1500    5.3  (8 cyl)  Auto-L4   2WD  ethanol/gas   \n",
       "317  CHEVROLET Avalanche 1500    5.3  (8 cyl)  Auto-L4   4WD  ethanol/gas   \n",
       "321  CHEVROLET Avalanche 1500    5.3  (8 cyl)  Auto-L4   2WD  ethanol/gas   \n",
       "322  CHEVROLET Avalanche 1500    5.3  (8 cyl)  Auto-L4   4WD  ethanol/gas   \n",
       "380    CHEVROLET Express 1500    5.3  (8 cyl)  Auto-L4   4WD  ethanol/gas   \n",
       "\n",
       "    cert_region veh_class air_pollution_score city_mpg hwy_mpg cmb_mpg  \\\n",
       "316          FC       SUV                 7/7    11/14   15/20   12/16   \n",
       "317          FC       SUV                 7/7    11/14   14/19   12/16   \n",
       "321          FC       SUV                 6/6    11/14   15/20   12/16   \n",
       "322          FC       SUV                 6/6    11/14   14/19   12/16   \n",
       "380          FC       van                 6/6     9/12   12/16   10/14   \n",
       "\n",
       "    greenhouse_gas_score smartway  \n",
       "316                  6/4       no  \n",
       "317                  6/4       no  \n",
       "321                  6/4       no  \n",
       "322                  6/4       no  \n",
       "380                  4/2       no  "
      ]
     },
     "execution_count": 59,
     "metadata": {},
     "output_type": "execute_result"
    }
   ],
   "source": [
    "hybrid_2008.head()"
   ]
  },
  {
   "cell_type": "code",
   "execution_count": 51,
   "metadata": {},
   "outputs": [],
   "source": [
    "df_2008.drop(hybrid_2008.index,inplace=True) # drop rows with ethanol/gas as fuel in the original table"
   ]
  },
  {
   "cell_type": "code",
   "execution_count": 52,
   "metadata": {},
   "outputs": [
    {
     "data": {
      "text/plain": [
       "(2077, 14)"
      ]
     },
     "execution_count": 52,
     "metadata": {},
     "output_type": "execute_result"
    }
   ],
   "source": [
    "df_2008.shape"
   ]
  },
  {
   "cell_type": "code",
   "execution_count": 53,
   "metadata": {},
   "outputs": [],
   "source": [
    "df_2008 = df_2008.append(new_rows,ignore_index=True)"
   ]
  },
  {
   "cell_type": "code",
   "execution_count": 58,
   "metadata": {},
   "outputs": [
    {
     "data": {
      "text/plain": [
       "Gasoline    2067\n",
       "ethanol       66\n",
       "gas           65\n",
       "diesel         7\n",
       "CNG            2\n",
       "Name: fuel, dtype: int64"
      ]
     },
     "execution_count": 58,
     "metadata": {},
     "output_type": "execute_result"
    }
   ],
   "source": [
    "df_2008['fuel'].value_counts()"
   ]
  },
  {
   "cell_type": "code",
   "execution_count": 63,
   "metadata": {
    "collapsed": true
   },
   "outputs": [
    {
     "name": "stdout",
     "output_type": "stream",
     "text": [
      "<class 'pandas.core.frame.DataFrame'>\n",
      "RangeIndex: 2207 entries, 0 to 2206\n",
      "Data columns (total 14 columns):\n",
      "model                   2207 non-null object\n",
      "displ                   2207 non-null float64\n",
      "cyl                     2207 non-null object\n",
      "trans                   2207 non-null object\n",
      "drive                   2207 non-null object\n",
      "fuel                    2207 non-null object\n",
      "cert_region             2207 non-null object\n",
      "veh_class               2207 non-null object\n",
      "air_pollution_score     2207 non-null object\n",
      "city_mpg                2207 non-null float64\n",
      "hwy_mpg                 2207 non-null float64\n",
      "cmb_mpg                 2207 non-null float64\n",
      "greenhouse_gas_score    2207 non-null object\n",
      "smartway                2207 non-null object\n",
      "dtypes: float64(4), object(10)\n",
      "memory usage: 241.5+ KB\n"
     ]
    }
   ],
   "source": [
    "df_2008.info()"
   ]
  },
  {
   "cell_type": "code",
   "execution_count": 62,
   "metadata": {},
   "outputs": [],
   "source": [
    "for col in df_2008.columns:\n",
    "    if '_mpg' in col:\n",
    "        df_2008[col] = df_2008[col].astype(float)"
   ]
  },
  {
   "cell_type": "code",
   "execution_count": 70,
   "metadata": {},
   "outputs": [
    {
     "name": "stdout",
     "output_type": "stream",
     "text": [
      "-0.5508514151163793\n",
      "0.8331429307317718\n"
     ]
    },
    {
     "data": {
      "image/png": "[encoded data removed]",
      "text/plain": [
       "<Figure size 432x288 with 1 Axes>"
      ]
     },
     "metadata": {
      "needs_background": "light"
     },
     "output_type": "display_data"
    }
   ],
   "source": [
    "plt.hist(df_2008['greenhouse_gas_score'],alpha=0.5)\n",
    "plt.hist(df_2019['greenhouse_gas_score'],alpha=0.5)\n",
    "print(df_2008['greenhouse_gas_score'].skew())\n",
    "print(df_2019['greenhouse_gas_score'].skew())"
   ]
  },
  {
   "cell_type": "code",
   "execution_count": 72,
   "metadata": {
    "collapsed": true
   },
   "outputs": [
    {
     "name": "stdout",
     "output_type": "stream",
     "text": [
      "0.5405058050035592\n"
     ]
    },
    {
     "ename": "TypeError",
     "evalue": "could not convert string to float: '29/72'",
     "output_type": "error",
     "traceback": [
      "\u001b[0;31m---------------------------------------------------------------------------\u001b[0m",
      "\u001b[0;31mValueError\u001b[0m                                Traceback (most recent call last)",
      "\u001b[0;32m/Applications/Utilities/anaconda3/lib/python3.7/site-packages/pandas/core/nanops.py\u001b[0m in \u001b[0;36m_f\u001b[0;34m(*args, **kwargs)\u001b[0m\n\u001b[1;32m     69\u001b[0m                 \u001b[0;32mwith\u001b[0m \u001b[0mnp\u001b[0m\u001b[0;34m.\u001b[0m\u001b[0merrstate\u001b[0m\u001b[0;34m(\u001b[0m\u001b[0minvalid\u001b[0m\u001b[0;34m=\u001b[0m\u001b[0;34m\"ignore\"\u001b[0m\u001b[0;34m)\u001b[0m\u001b[0;34m:\u001b[0m\u001b[0;34m\u001b[0m\u001b[0;34m\u001b[0m\u001b[0m\n\u001b[0;32m---> 70\u001b[0;31m                     \u001b[0;32mreturn\u001b[0m \u001b[0mf\u001b[0m\u001b[0;34m(\u001b[0m\u001b[0;34m*\u001b[0m\u001b[0margs\u001b[0m\u001b[0;34m,\u001b[0m \u001b[0;34m**\u001b[0m\u001b[0mkwargs\u001b[0m\u001b[0;34m)\u001b[0m\u001b[0;34m\u001b[0m\u001b[0;34m\u001b[0m\u001b[0m\n\u001b[0m\u001b[1;32m     71\u001b[0m             \u001b[0;32mexcept\u001b[0m \u001b[0mValueError\u001b[0m \u001b[0;32mas\u001b[0m \u001b[0me\u001b[0m\u001b[0;34m:\u001b[0m\u001b[0;34m\u001b[0m\u001b[0;34m\u001b[0m\u001b[0m\n",
      "\u001b[0;32m/Applications/Utilities/anaconda3/lib/python3.7/site-packages/pandas/core/nanops.py\u001b[0m in \u001b[0;36mnanskew\u001b[0;34m(values, axis, skipna, mask)\u001b[0m\n\u001b[1;32m    948\u001b[0m     \u001b[0;32mif\u001b[0m \u001b[0;32mnot\u001b[0m \u001b[0mis_float_dtype\u001b[0m\u001b[0;34m(\u001b[0m\u001b[0mvalues\u001b[0m\u001b[0;34m.\u001b[0m\u001b[0mdtype\u001b[0m\u001b[0;34m)\u001b[0m\u001b[0;34m:\u001b[0m\u001b[0;34m\u001b[0m\u001b[0;34m\u001b[0m\u001b[0m\n\u001b[0;32m--> 949\u001b[0;31m         \u001b[0mvalues\u001b[0m \u001b[0;34m=\u001b[0m \u001b[0mvalues\u001b[0m\u001b[0;34m.\u001b[0m\u001b[0mastype\u001b[0m\u001b[0;34m(\u001b[0m\u001b[0;34m\"f8\"\u001b[0m\u001b[0;34m)\u001b[0m\u001b[0;34m\u001b[0m\u001b[0;34m\u001b[0m\u001b[0m\n\u001b[0m\u001b[1;32m    950\u001b[0m         \u001b[0mcount\u001b[0m \u001b[0;34m=\u001b[0m \u001b[0m_get_counts\u001b[0m\u001b[0;34m(\u001b[0m\u001b[0mvalues\u001b[0m\u001b[0;34m.\u001b[0m\u001b[0mshape\u001b[0m\u001b[0;34m,\u001b[0m \u001b[0mmask\u001b[0m\u001b[0;34m,\u001b[0m \u001b[0maxis\u001b[0m\u001b[0;34m)\u001b[0m\u001b[0;34m\u001b[0m\u001b[0;34m\u001b[0m\u001b[0m\n",
      "\u001b[0;31mValueError\u001b[0m: could not convert string to float: '29/72'",
      "\nDuring handling of the above exception, another exception occurred:\n",
      "\u001b[0;31mTypeError\u001b[0m                                 Traceback (most recent call last)",
      "\u001b[0;32m<ipython-input-72-438106dee6fe>\u001b[0m in \u001b[0;36m<module>\u001b[0;34m\u001b[0m\n\u001b[1;32m      2\u001b[0m \u001b[0mplt\u001b[0m\u001b[0;34m.\u001b[0m\u001b[0mhist\u001b[0m\u001b[0;34m(\u001b[0m\u001b[0mdf_2019\u001b[0m\u001b[0;34m[\u001b[0m\u001b[0;34m'cmb_mpg'\u001b[0m\u001b[0;34m]\u001b[0m\u001b[0;34m,\u001b[0m\u001b[0malpha\u001b[0m\u001b[0;34m=\u001b[0m\u001b[0;36m0.5\u001b[0m\u001b[0;34m)\u001b[0m\u001b[0;34m\u001b[0m\u001b[0;34m\u001b[0m\u001b[0m\n\u001b[1;32m      3\u001b[0m \u001b[0mprint\u001b[0m\u001b[0;34m(\u001b[0m\u001b[0mdf_2008\u001b[0m\u001b[0;34m[\u001b[0m\u001b[0;34m'cmb_mpg'\u001b[0m\u001b[0;34m]\u001b[0m\u001b[0;34m.\u001b[0m\u001b[0mskew\u001b[0m\u001b[0;34m(\u001b[0m\u001b[0;34m)\u001b[0m\u001b[0;34m)\u001b[0m\u001b[0;34m\u001b[0m\u001b[0;34m\u001b[0m\u001b[0m\n\u001b[0;32m----> 4\u001b[0;31m \u001b[0mprint\u001b[0m\u001b[0;34m(\u001b[0m\u001b[0mdf_2019\u001b[0m\u001b[0;34m[\u001b[0m\u001b[0;34m'cmb_mpg'\u001b[0m\u001b[0;34m]\u001b[0m\u001b[0;34m.\u001b[0m\u001b[0mskew\u001b[0m\u001b[0;34m(\u001b[0m\u001b[0;34m)\u001b[0m\u001b[0;34m)\u001b[0m\u001b[0;34m\u001b[0m\u001b[0;34m\u001b[0m\u001b[0m\n\u001b[0m",
      "\u001b[0;32m/Applications/Utilities/anaconda3/lib/python3.7/site-packages/pandas/core/generic.py\u001b[0m in \u001b[0;36mstat_func\u001b[0;34m(self, axis, skipna, level, numeric_only, **kwargs)\u001b[0m\n\u001b[1;32m  11616\u001b[0m             \u001b[0;32mreturn\u001b[0m \u001b[0mself\u001b[0m\u001b[0;34m.\u001b[0m\u001b[0m_agg_by_level\u001b[0m\u001b[0;34m(\u001b[0m\u001b[0mname\u001b[0m\u001b[0;34m,\u001b[0m \u001b[0maxis\u001b[0m\u001b[0;34m=\u001b[0m\u001b[0maxis\u001b[0m\u001b[0;34m,\u001b[0m \u001b[0mlevel\u001b[0m\u001b[0;34m=\u001b[0m\u001b[0mlevel\u001b[0m\u001b[0;34m,\u001b[0m \u001b[0mskipna\u001b[0m\u001b[0;34m=\u001b[0m\u001b[0mskipna\u001b[0m\u001b[0;34m)\u001b[0m\u001b[0;34m\u001b[0m\u001b[0;34m\u001b[0m\u001b[0m\n\u001b[1;32m  11617\u001b[0m         return self._reduce(\n\u001b[0;32m> 11618\u001b[0;31m             \u001b[0mf\u001b[0m\u001b[0;34m,\u001b[0m \u001b[0mname\u001b[0m\u001b[0;34m,\u001b[0m \u001b[0maxis\u001b[0m\u001b[0;34m=\u001b[0m\u001b[0maxis\u001b[0m\u001b[0;34m,\u001b[0m \u001b[0mskipna\u001b[0m\u001b[0;34m=\u001b[0m\u001b[0mskipna\u001b[0m\u001b[0;34m,\u001b[0m \u001b[0mnumeric_only\u001b[0m\u001b[0;34m=\u001b[0m\u001b[0mnumeric_only\u001b[0m\u001b[0;34m\u001b[0m\u001b[0;34m\u001b[0m\u001b[0m\n\u001b[0m\u001b[1;32m  11619\u001b[0m         )\n\u001b[1;32m  11620\u001b[0m \u001b[0;34m\u001b[0m\u001b[0m\n",
      "\u001b[0;32m/Applications/Utilities/anaconda3/lib/python3.7/site-packages/pandas/core/series.py\u001b[0m in \u001b[0;36m_reduce\u001b[0;34m(self, op, name, axis, skipna, numeric_only, filter_type, **kwds)\u001b[0m\n\u001b[1;32m   4085\u001b[0m                 )\n\u001b[1;32m   4086\u001b[0m             \u001b[0;32mwith\u001b[0m \u001b[0mnp\u001b[0m\u001b[0;34m.\u001b[0m\u001b[0merrstate\u001b[0m\u001b[0;34m(\u001b[0m\u001b[0mall\u001b[0m\u001b[0;34m=\u001b[0m\u001b[0;34m\"ignore\"\u001b[0m\u001b[0;34m)\u001b[0m\u001b[0;34m:\u001b[0m\u001b[0;34m\u001b[0m\u001b[0;34m\u001b[0m\u001b[0m\n\u001b[0;32m-> 4087\u001b[0;31m                 \u001b[0;32mreturn\u001b[0m \u001b[0mop\u001b[0m\u001b[0;34m(\u001b[0m\u001b[0mdelegate\u001b[0m\u001b[0;34m,\u001b[0m \u001b[0mskipna\u001b[0m\u001b[0;34m=\u001b[0m\u001b[0mskipna\u001b[0m\u001b[0;34m,\u001b[0m \u001b[0;34m**\u001b[0m\u001b[0mkwds\u001b[0m\u001b[0;34m)\u001b[0m\u001b[0;34m\u001b[0m\u001b[0;34m\u001b[0m\u001b[0m\n\u001b[0m\u001b[1;32m   4088\u001b[0m \u001b[0;34m\u001b[0m\u001b[0m\n\u001b[1;32m   4089\u001b[0m         \u001b[0;31m# TODO(EA) dispatch to Index\u001b[0m\u001b[0;34m\u001b[0m\u001b[0;34m\u001b[0m\u001b[0;34m\u001b[0m\u001b[0m\n",
      "\u001b[0;32m/Applications/Utilities/anaconda3/lib/python3.7/site-packages/pandas/core/nanops.py\u001b[0m in \u001b[0;36m_f\u001b[0;34m(*args, **kwargs)\u001b[0m\n\u001b[1;32m     75\u001b[0m                 \u001b[0;31m# object arrays that contain strings\u001b[0m\u001b[0;34m\u001b[0m\u001b[0;34m\u001b[0m\u001b[0;34m\u001b[0m\u001b[0m\n\u001b[1;32m     76\u001b[0m                 \u001b[0;32mif\u001b[0m \u001b[0mis_object_dtype\u001b[0m\u001b[0;34m(\u001b[0m\u001b[0margs\u001b[0m\u001b[0;34m[\u001b[0m\u001b[0;36m0\u001b[0m\u001b[0;34m]\u001b[0m\u001b[0;34m)\u001b[0m\u001b[0;34m:\u001b[0m\u001b[0;34m\u001b[0m\u001b[0;34m\u001b[0m\u001b[0m\n\u001b[0;32m---> 77\u001b[0;31m                     \u001b[0;32mraise\u001b[0m \u001b[0mTypeError\u001b[0m\u001b[0;34m(\u001b[0m\u001b[0me\u001b[0m\u001b[0;34m)\u001b[0m\u001b[0;34m\u001b[0m\u001b[0;34m\u001b[0m\u001b[0m\n\u001b[0m\u001b[1;32m     78\u001b[0m                 \u001b[0;32mraise\u001b[0m\u001b[0;34m\u001b[0m\u001b[0;34m\u001b[0m\u001b[0m\n\u001b[1;32m     79\u001b[0m \u001b[0;34m\u001b[0m\u001b[0m\n",
      "\u001b[0;31mTypeError\u001b[0m: could not convert string to float: '29/72'"
     ]
    },
    {
     "data": {
      "image/png": "[encoded data removed]",
      "text/plain": [
       "<Figure size 432x288 with 1 Axes>"
      ]
     },
     "metadata": {
      "needs_background": "light"
     },
     "output_type": "display_data"
    }
   ],
   "source": [
    "plt.hist(df_2008['cmb_mpg'],alpha=0.5)\n",
    "plt.hist(df_2019['cmb_mpg'],alpha=0.5) #split hybrid rows\n",
    "print(df_2008['cmb_mpg'].skew())\n",
    "print(df_2019['cmb_mpg'].skew()) #split hybrid rows"
   ]
  },
  {
   "cell_type": "code",
   "execution_count": 75,
   "metadata": {},
   "outputs": [
    {
     "data": {
      "text/plain": [
       "array([[ 1.        , -0.82178166],\n",
       "       [-0.82178166,  1.        ]])"
      ]
     },
     "execution_count": 75,
     "metadata": {},
     "output_type": "execute_result"
    }
   ],
   "source": [
    "np.corrcoef(df_2008['displ'],df_2008['cmb_mpg'])"
   ]
  },
  {
   "cell_type": "code",
   "execution_count": 77,
   "metadata": {},
   "outputs": [
    {
     "data": {
      "text/plain": [
       "array([[1.        , 0.89562688],\n",
       "       [0.89562688, 1.        ]])"
      ]
     },
     "execution_count": 77,
     "metadata": {},
     "output_type": "execute_result"
    }
   ],
   "source": [
    "df_2008['greenhouse_gas_score'] = df_2008['greenhouse_gas_score'].astype(float)\n",
    "np.corrcoef(df_2008['greenhouse_gas_score'],df_2008['cmb_mpg'])"
   ]
  },
  {
   "cell_type": "code",
   "execution_count": 83,
   "metadata": {},
   "outputs": [
    {
     "data": {
      "text/plain": [
       "411"
      ]
     },
     "execution_count": 83,
     "metadata": {},
     "output_type": "execute_result"
    }
   ],
   "source": [
    "df_2008['model'].value_counts()\n",
    "df_2008['model'].nunique()"
   ]
  },
  {
   "cell_type": "code",
   "execution_count": 85,
   "metadata": {},
   "outputs": [
    {
     "data": {
      "text/plain": [
       "Gasoline    2067\n",
       "ethanol       66\n",
       "gas           65\n",
       "diesel         7\n",
       "CNG            2\n",
       "Name: fuel, dtype: int64"
      ]
     },
     "execution_count": 85,
     "metadata": {},
     "output_type": "execute_result"
    }
   ],
   "source": [
    "df_2008['fuel'].value_counts()"
   ]
  },
  {
   "cell_type": "code",
   "execution_count": 86,
   "metadata": {},
   "outputs": [
    {
     "data": {
      "text/plain": [
       "Gasoline                2415\n",
       "Ethanol/Gas               73\n",
       "Electricity               72\n",
       "Gasoline/Electricity      64\n",
       "Diesel                    58\n",
       "Hydrogen                   8\n",
       "Name: fuel, dtype: int64"
      ]
     },
     "execution_count": 86,
     "metadata": {},
     "output_type": "execute_result"
    }
   ],
   "source": [
    "df_2019['fuel'].value_counts() #split the hybrid rows"
   ]
  },
  {
   "cell_type": "code",
   "execution_count": 95,
   "metadata": {},
   "outputs": [],
   "source": [
    "#alternate_2008 = df_2008[df_2008['fuel']=='ethanol'  df_2008['fuel']=='CNG']"
   ]
  },
  {
   "cell_type": "code",
   "execution_count": 91,
   "metadata": {
    "collapsed": true
   },
   "outputs": [
    {
     "data": {
      "text/html": [
       "<div>\n",
       "<style scoped>\n",
       "    .dataframe tbody tr th:only-of-type {\n",
       "        vertical-align: middle;\n",
       "    }\n",
       "\n",
       "    .dataframe tbody tr th {\n",
       "        vertical-align: top;\n",
       "    }\n",
       "\n",
       "    .dataframe thead th {\n",
       "        text-align: right;\n",
       "    }\n",
       "</style>\n",
       "<table border=\"1\" class=\"dataframe\">\n",
       "  <thead>\n",
       "    <tr style=\"text-align: right;\">\n",
       "      <th></th>\n",
       "      <th>model</th>\n",
       "      <th>displ</th>\n",
       "      <th>cyl</th>\n",
       "      <th>trans</th>\n",
       "      <th>drive</th>\n",
       "      <th>fuel</th>\n",
       "      <th>cert_region</th>\n",
       "      <th>veh_class</th>\n",
       "      <th>air_pollution_score</th>\n",
       "      <th>city_mpg</th>\n",
       "      <th>hwy_mpg</th>\n",
       "      <th>cmb_mpg</th>\n",
       "      <th>greenhouse_gas_score</th>\n",
       "      <th>smartway</th>\n",
       "    </tr>\n",
       "  </thead>\n",
       "  <tbody>\n",
       "    <tr>\n",
       "      <td>533</td>\n",
       "      <td>CHRYSLER Town &amp; Country</td>\n",
       "      <td>3.3</td>\n",
       "      <td>(6 cyl)</td>\n",
       "      <td>Auto-L4</td>\n",
       "      <td>2WD</td>\n",
       "      <td>ethanol</td>\n",
       "      <td>FC</td>\n",
       "      <td>minivan</td>\n",
       "      <td>6</td>\n",
       "      <td>11.0</td>\n",
       "      <td>17.0</td>\n",
       "      <td>13.0</td>\n",
       "      <td>6.0</td>\n",
       "      <td>no</td>\n",
       "    </tr>\n",
       "    <tr>\n",
       "      <td>2077</td>\n",
       "      <td>CHEVROLET Avalanche 1500</td>\n",
       "      <td>5.3</td>\n",
       "      <td>(8 cyl)</td>\n",
       "      <td>Auto-L4</td>\n",
       "      <td>2WD</td>\n",
       "      <td>ethanol</td>\n",
       "      <td>FC</td>\n",
       "      <td>SUV</td>\n",
       "      <td>7</td>\n",
       "      <td>11.0</td>\n",
       "      <td>15.0</td>\n",
       "      <td>12.0</td>\n",
       "      <td>6.0</td>\n",
       "      <td>no</td>\n",
       "    </tr>\n",
       "    <tr>\n",
       "      <td>2078</td>\n",
       "      <td>CHEVROLET Avalanche 1500</td>\n",
       "      <td>5.3</td>\n",
       "      <td>(8 cyl)</td>\n",
       "      <td>Auto-L4</td>\n",
       "      <td>4WD</td>\n",
       "      <td>ethanol</td>\n",
       "      <td>FC</td>\n",
       "      <td>SUV</td>\n",
       "      <td>7</td>\n",
       "      <td>11.0</td>\n",
       "      <td>14.0</td>\n",
       "      <td>12.0</td>\n",
       "      <td>6.0</td>\n",
       "      <td>no</td>\n",
       "    </tr>\n",
       "    <tr>\n",
       "      <td>2079</td>\n",
       "      <td>CHEVROLET Avalanche 1500</td>\n",
       "      <td>5.3</td>\n",
       "      <td>(8 cyl)</td>\n",
       "      <td>Auto-L4</td>\n",
       "      <td>2WD</td>\n",
       "      <td>ethanol</td>\n",
       "      <td>FC</td>\n",
       "      <td>SUV</td>\n",
       "      <td>6</td>\n",
       "      <td>11.0</td>\n",
       "      <td>15.0</td>\n",
       "      <td>12.0</td>\n",
       "      <td>6.0</td>\n",
       "      <td>no</td>\n",
       "    </tr>\n",
       "    <tr>\n",
       "      <td>2080</td>\n",
       "      <td>CHEVROLET Avalanche 1500</td>\n",
       "      <td>5.3</td>\n",
       "      <td>(8 cyl)</td>\n",
       "      <td>Auto-L4</td>\n",
       "      <td>4WD</td>\n",
       "      <td>ethanol</td>\n",
       "      <td>FC</td>\n",
       "      <td>SUV</td>\n",
       "      <td>6</td>\n",
       "      <td>11.0</td>\n",
       "      <td>14.0</td>\n",
       "      <td>12.0</td>\n",
       "      <td>6.0</td>\n",
       "      <td>no</td>\n",
       "    </tr>\n",
       "    <tr>\n",
       "      <td>...</td>\n",
       "      <td>...</td>\n",
       "      <td>...</td>\n",
       "      <td>...</td>\n",
       "      <td>...</td>\n",
       "      <td>...</td>\n",
       "      <td>...</td>\n",
       "      <td>...</td>\n",
       "      <td>...</td>\n",
       "      <td>...</td>\n",
       "      <td>...</td>\n",
       "      <td>...</td>\n",
       "      <td>...</td>\n",
       "      <td>...</td>\n",
       "      <td>...</td>\n",
       "    </tr>\n",
       "    <tr>\n",
       "      <td>2137</td>\n",
       "      <td>MITSUBISHI Raider</td>\n",
       "      <td>4.7</td>\n",
       "      <td>(8 cyl)</td>\n",
       "      <td>Auto-L5</td>\n",
       "      <td>4WD</td>\n",
       "      <td>ethanol</td>\n",
       "      <td>FA</td>\n",
       "      <td>pickup</td>\n",
       "      <td>3</td>\n",
       "      <td>9.0</td>\n",
       "      <td>12.0</td>\n",
       "      <td>10.0</td>\n",
       "      <td>4.0</td>\n",
       "      <td>no</td>\n",
       "    </tr>\n",
       "    <tr>\n",
       "      <td>2138</td>\n",
       "      <td>NISSAN Armada</td>\n",
       "      <td>5.6</td>\n",
       "      <td>(8 cyl)</td>\n",
       "      <td>Auto-L5</td>\n",
       "      <td>2WD</td>\n",
       "      <td>ethanol</td>\n",
       "      <td>FA</td>\n",
       "      <td>SUV</td>\n",
       "      <td>6</td>\n",
       "      <td>9.0</td>\n",
       "      <td>13.0</td>\n",
       "      <td>10.0</td>\n",
       "      <td>4.0</td>\n",
       "      <td>no</td>\n",
       "    </tr>\n",
       "    <tr>\n",
       "      <td>2139</td>\n",
       "      <td>NISSAN Armada</td>\n",
       "      <td>5.6</td>\n",
       "      <td>(8 cyl)</td>\n",
       "      <td>Auto-L5</td>\n",
       "      <td>4WD</td>\n",
       "      <td>ethanol</td>\n",
       "      <td>FA</td>\n",
       "      <td>SUV</td>\n",
       "      <td>6</td>\n",
       "      <td>9.0</td>\n",
       "      <td>13.0</td>\n",
       "      <td>10.0</td>\n",
       "      <td>4.0</td>\n",
       "      <td>no</td>\n",
       "    </tr>\n",
       "    <tr>\n",
       "      <td>2140</td>\n",
       "      <td>NISSAN Titan</td>\n",
       "      <td>5.6</td>\n",
       "      <td>(8 cyl)</td>\n",
       "      <td>Auto-L5</td>\n",
       "      <td>2WD</td>\n",
       "      <td>ethanol</td>\n",
       "      <td>FA</td>\n",
       "      <td>pickup</td>\n",
       "      <td>6</td>\n",
       "      <td>9.0</td>\n",
       "      <td>13.0</td>\n",
       "      <td>10.0</td>\n",
       "      <td>4.0</td>\n",
       "      <td>no</td>\n",
       "    </tr>\n",
       "    <tr>\n",
       "      <td>2141</td>\n",
       "      <td>NISSAN Titan</td>\n",
       "      <td>5.6</td>\n",
       "      <td>(8 cyl)</td>\n",
       "      <td>Auto-L5</td>\n",
       "      <td>4WD</td>\n",
       "      <td>ethanol</td>\n",
       "      <td>FA</td>\n",
       "      <td>pickup</td>\n",
       "      <td>6</td>\n",
       "      <td>9.0</td>\n",
       "      <td>12.0</td>\n",
       "      <td>10.0</td>\n",
       "      <td>4.0</td>\n",
       "      <td>no</td>\n",
       "    </tr>\n",
       "  </tbody>\n",
       "</table>\n",
       "<p>66 rows × 14 columns</p>\n",
       "</div>"
      ],
      "text/plain": [
       "                         model  displ      cyl    trans drive     fuel  \\\n",
       "533    CHRYSLER Town & Country    3.3  (6 cyl)  Auto-L4   2WD  ethanol   \n",
       "2077  CHEVROLET Avalanche 1500    5.3  (8 cyl)  Auto-L4   2WD  ethanol   \n",
       "2078  CHEVROLET Avalanche 1500    5.3  (8 cyl)  Auto-L4   4WD  ethanol   \n",
       "2079  CHEVROLET Avalanche 1500    5.3  (8 cyl)  Auto-L4   2WD  ethanol   \n",
       "2080  CHEVROLET Avalanche 1500    5.3  (8 cyl)  Auto-L4   4WD  ethanol   \n",
       "...                        ...    ...      ...      ...   ...      ...   \n",
       "2137         MITSUBISHI Raider    4.7  (8 cyl)  Auto-L5   4WD  ethanol   \n",
       "2138             NISSAN Armada    5.6  (8 cyl)  Auto-L5   2WD  ethanol   \n",
       "2139             NISSAN Armada    5.6  (8 cyl)  Auto-L5   4WD  ethanol   \n",
       "2140              NISSAN Titan    5.6  (8 cyl)  Auto-L5   2WD  ethanol   \n",
       "2141              NISSAN Titan    5.6  (8 cyl)  Auto-L5   4WD  ethanol   \n",
       "\n",
       "     cert_region veh_class air_pollution_score  city_mpg  hwy_mpg  cmb_mpg  \\\n",
       "533           FC   minivan                   6      11.0     17.0     13.0   \n",
       "2077          FC       SUV                   7      11.0     15.0     12.0   \n",
       "2078          FC       SUV                   7      11.0     14.0     12.0   \n",
       "2079          FC       SUV                   6      11.0     15.0     12.0   \n",
       "2080          FC       SUV                   6      11.0     14.0     12.0   \n",
       "...          ...       ...                 ...       ...      ...      ...   \n",
       "2137          FA    pickup                   3       9.0     12.0     10.0   \n",
       "2138          FA       SUV                   6       9.0     13.0     10.0   \n",
       "2139          FA       SUV                   6       9.0     13.0     10.0   \n",
       "2140          FA    pickup                   6       9.0     13.0     10.0   \n",
       "2141          FA    pickup                   6       9.0     12.0     10.0   \n",
       "\n",
       "      greenhouse_gas_score smartway  \n",
       "533                    6.0       no  \n",
       "2077                   6.0       no  \n",
       "2078                   6.0       no  \n",
       "2079                   6.0       no  \n",
       "2080                   6.0       no  \n",
       "...                    ...      ...  \n",
       "2137                   4.0       no  \n",
       "2138                   4.0       no  \n",
       "2139                   4.0       no  \n",
       "2140                   4.0       no  \n",
       "2141                   4.0       no  \n",
       "\n",
       "[66 rows x 14 columns]"
      ]
     },
     "execution_count": 91,
     "metadata": {},
     "output_type": "execute_result"
    }
   ],
   "source": [
    "alternate_2008"
   ]
  },
  {
   "cell_type": "code",
   "execution_count": 98,
   "metadata": {},
   "outputs": [
    {
     "data": {
      "image/png": "[encoded data removed]",
      "text/plain": [
       "<Figure size 432x288 with 1 Axes>"
      ]
     },
     "metadata": {
      "needs_background": "light"
     },
     "output_type": "display_data"
    }
   ],
   "source": [
    "plt.bar(['a','b'],[3,4])\n",
    "plt.show()"
   ]
  },
  {
   "cell_type": "code",
   "execution_count": 104,
   "metadata": {},
   "outputs": [],
   "source": [
    "fuel_eco_2008 = df_2008.groupby('veh_class').mean()['cmb_mpg']\n",
    "#fuel_eco_2019 = df_2019.groupby('veh_class').mean()['cmb_mpg']"
   ]
  },
  {
   "cell_type": "code",
   "execution_count": 110,
   "metadata": {},
   "outputs": [
    {
     "data": {
      "text/plain": [
       "<BarContainer object of 8 artists>"
      ]
     },
     "execution_count": 110,
     "metadata": {},
     "output_type": "execute_result"
    },
    {
     "data": {
      "image/png": "[encoded data removed]",
      "text/plain": [
       "<Figure size 720x360 with 1 Axes>"
      ]
     },
     "metadata": {
      "needs_background": "light"
     },
     "output_type": "display_data"
    }
   ],
   "source": [
    "plt.subplots(figsize=(10,5))\n",
    "plt.bar(fuel_eco_2008.index,fuel_eco_2008)"
   ]
  },
  {
   "cell_type": "code",
   "execution_count": 111,
   "metadata": {},
   "outputs": [],
   "source": [
    "df_2008.rename(columns=lambda x:x[:10]+'_2008', inplace=True)"
   ]
  },
  {
   "cell_type": "code",
   "execution_count": 112,
   "metadata": {},
   "outputs": [
    {
     "data": {
      "text/plain": [
       "Index(['model_2008', 'displ_2008', 'cyl_2008', 'trans_2008', 'drive_2008',\n",
       "       'fuel_2008', 'cert_regio_2008', 'veh_class_2008', 'air_pollut_2008',\n",
       "       'city_mpg_2008', 'hwy_mpg_2008', 'cmb_mpg_2008', 'greenhouse_2008',\n",
       "       'smartway_2008'],\n",
       "      dtype='object')"
      ]
     },
     "execution_count": 112,
     "metadata": {},
     "output_type": "execute_result"
    }
   ],
   "source": [
    "df_2008.columns"
   ]
  },
  {
   "cell_type": "code",
   "execution_count": 113,
   "metadata": {},
   "outputs": [
    {
     "data": {
      "text/html": [
       "<div>\n",
       "<style scoped>\n",
       "    .dataframe tbody tr th:only-of-type {\n",
       "        vertical-align: middle;\n",
       "    }\n",
       "\n",
       "    .dataframe tbody tr th {\n",
       "        vertical-align: top;\n",
       "    }\n",
       "\n",
       "    .dataframe thead th {\n",
       "        text-align: right;\n",
       "    }\n",
       "</style>\n",
       "<table border=\"1\" class=\"dataframe\">\n",
       "  <thead>\n",
       "    <tr style=\"text-align: right;\">\n",
       "      <th></th>\n",
       "      <th>model_2008</th>\n",
       "      <th>displ_2008</th>\n",
       "      <th>cyl_2008</th>\n",
       "      <th>trans_2008</th>\n",
       "      <th>drive_2008</th>\n",
       "      <th>fuel_2008</th>\n",
       "      <th>cert_regio_2008</th>\n",
       "      <th>veh_class_2008</th>\n",
       "      <th>air_pollut_2008</th>\n",
       "      <th>city_mpg_2008</th>\n",
       "      <th>...</th>\n",
       "      <th>drive</th>\n",
       "      <th>fuel</th>\n",
       "      <th>cert_region</th>\n",
       "      <th>veh_class</th>\n",
       "      <th>air_pollution_score</th>\n",
       "      <th>city_mpg</th>\n",
       "      <th>hwy_mpg</th>\n",
       "      <th>cmb_mpg</th>\n",
       "      <th>greenhouse_gas_score</th>\n",
       "      <th>smartway</th>\n",
       "    </tr>\n",
       "  </thead>\n",
       "  <tbody>\n",
       "    <tr>\n",
       "      <td>0</td>\n",
       "      <td>ACURA MDX</td>\n",
       "      <td>3.7</td>\n",
       "      <td>(6 cyl)</td>\n",
       "      <td>Auto-S5</td>\n",
       "      <td>4WD</td>\n",
       "      <td>Gasoline</td>\n",
       "      <td>CA</td>\n",
       "      <td>SUV</td>\n",
       "      <td>7</td>\n",
       "      <td>15.0</td>\n",
       "      <td>...</td>\n",
       "      <td>4WD</td>\n",
       "      <td>Gasoline</td>\n",
       "      <td>CA</td>\n",
       "      <td>small SUV</td>\n",
       "      <td>3</td>\n",
       "      <td>26</td>\n",
       "      <td>27</td>\n",
       "      <td>27</td>\n",
       "      <td>6</td>\n",
       "      <td>No</td>\n",
       "    </tr>\n",
       "    <tr>\n",
       "      <td>1</td>\n",
       "      <td>ACURA MDX</td>\n",
       "      <td>3.7</td>\n",
       "      <td>(6 cyl)</td>\n",
       "      <td>Auto-S5</td>\n",
       "      <td>4WD</td>\n",
       "      <td>Gasoline</td>\n",
       "      <td>CA</td>\n",
       "      <td>SUV</td>\n",
       "      <td>7</td>\n",
       "      <td>15.0</td>\n",
       "      <td>...</td>\n",
       "      <td>4WD</td>\n",
       "      <td>Gasoline</td>\n",
       "      <td>FA</td>\n",
       "      <td>small SUV</td>\n",
       "      <td>3</td>\n",
       "      <td>26</td>\n",
       "      <td>27</td>\n",
       "      <td>27</td>\n",
       "      <td>6</td>\n",
       "      <td>No</td>\n",
       "    </tr>\n",
       "    <tr>\n",
       "      <td>2</td>\n",
       "      <td>ACURA MDX</td>\n",
       "      <td>3.7</td>\n",
       "      <td>(6 cyl)</td>\n",
       "      <td>Auto-S5</td>\n",
       "      <td>4WD</td>\n",
       "      <td>Gasoline</td>\n",
       "      <td>CA</td>\n",
       "      <td>SUV</td>\n",
       "      <td>7</td>\n",
       "      <td>15.0</td>\n",
       "      <td>...</td>\n",
       "      <td>2WD</td>\n",
       "      <td>Gasoline</td>\n",
       "      <td>CA</td>\n",
       "      <td>small SUV</td>\n",
       "      <td>3</td>\n",
       "      <td>20</td>\n",
       "      <td>27</td>\n",
       "      <td>23</td>\n",
       "      <td>5</td>\n",
       "      <td>No</td>\n",
       "    </tr>\n",
       "    <tr>\n",
       "      <td>3</td>\n",
       "      <td>ACURA MDX</td>\n",
       "      <td>3.7</td>\n",
       "      <td>(6 cyl)</td>\n",
       "      <td>Auto-S5</td>\n",
       "      <td>4WD</td>\n",
       "      <td>Gasoline</td>\n",
       "      <td>CA</td>\n",
       "      <td>SUV</td>\n",
       "      <td>7</td>\n",
       "      <td>15.0</td>\n",
       "      <td>...</td>\n",
       "      <td>2WD</td>\n",
       "      <td>Gasoline</td>\n",
       "      <td>FA</td>\n",
       "      <td>small SUV</td>\n",
       "      <td>3</td>\n",
       "      <td>20</td>\n",
       "      <td>27</td>\n",
       "      <td>23</td>\n",
       "      <td>5</td>\n",
       "      <td>No</td>\n",
       "    </tr>\n",
       "    <tr>\n",
       "      <td>4</td>\n",
       "      <td>ACURA MDX</td>\n",
       "      <td>3.7</td>\n",
       "      <td>(6 cyl)</td>\n",
       "      <td>Auto-S5</td>\n",
       "      <td>4WD</td>\n",
       "      <td>Gasoline</td>\n",
       "      <td>CA</td>\n",
       "      <td>SUV</td>\n",
       "      <td>7</td>\n",
       "      <td>15.0</td>\n",
       "      <td>...</td>\n",
       "      <td>4WD</td>\n",
       "      <td>Gasoline</td>\n",
       "      <td>CA</td>\n",
       "      <td>small SUV</td>\n",
       "      <td>3</td>\n",
       "      <td>19</td>\n",
       "      <td>26</td>\n",
       "      <td>22</td>\n",
       "      <td>4</td>\n",
       "      <td>No</td>\n",
       "    </tr>\n",
       "    <tr>\n",
       "      <td>...</td>\n",
       "      <td>...</td>\n",
       "      <td>...</td>\n",
       "      <td>...</td>\n",
       "      <td>...</td>\n",
       "      <td>...</td>\n",
       "      <td>...</td>\n",
       "      <td>...</td>\n",
       "      <td>...</td>\n",
       "      <td>...</td>\n",
       "      <td>...</td>\n",
       "      <td>...</td>\n",
       "      <td>...</td>\n",
       "      <td>...</td>\n",
       "      <td>...</td>\n",
       "      <td>...</td>\n",
       "      <td>...</td>\n",
       "      <td>...</td>\n",
       "      <td>...</td>\n",
       "      <td>...</td>\n",
       "      <td>...</td>\n",
       "      <td>...</td>\n",
       "    </tr>\n",
       "    <tr>\n",
       "      <td>5711</td>\n",
       "      <td>FORD F150 FFV</td>\n",
       "      <td>5.4</td>\n",
       "      <td>(8 cyl)</td>\n",
       "      <td>Auto-L4</td>\n",
       "      <td>4WD</td>\n",
       "      <td>gas</td>\n",
       "      <td>FA</td>\n",
       "      <td>pickup</td>\n",
       "      <td>3</td>\n",
       "      <td>13.0</td>\n",
       "      <td>...</td>\n",
       "      <td>4WD</td>\n",
       "      <td>Ethanol/Gas</td>\n",
       "      <td>CA</td>\n",
       "      <td>pickup</td>\n",
       "      <td>3</td>\n",
       "      <td>12/15</td>\n",
       "      <td>15/20</td>\n",
       "      <td>13/17</td>\n",
       "      <td>3</td>\n",
       "      <td>No</td>\n",
       "    </tr>\n",
       "    <tr>\n",
       "      <td>5712</td>\n",
       "      <td>FORD F150 FFV</td>\n",
       "      <td>5.4</td>\n",
       "      <td>(8 cyl)</td>\n",
       "      <td>Auto-L4</td>\n",
       "      <td>4WD</td>\n",
       "      <td>gas</td>\n",
       "      <td>FA</td>\n",
       "      <td>pickup</td>\n",
       "      <td>3</td>\n",
       "      <td>13.0</td>\n",
       "      <td>...</td>\n",
       "      <td>4WD</td>\n",
       "      <td>Ethanol/Gas</td>\n",
       "      <td>CA</td>\n",
       "      <td>pickup</td>\n",
       "      <td>3</td>\n",
       "      <td>12/16</td>\n",
       "      <td>15/22</td>\n",
       "      <td>13/18</td>\n",
       "      <td>3</td>\n",
       "      <td>No</td>\n",
       "    </tr>\n",
       "    <tr>\n",
       "      <td>5713</td>\n",
       "      <td>FORD F150 FFV</td>\n",
       "      <td>5.4</td>\n",
       "      <td>(8 cyl)</td>\n",
       "      <td>Auto-L4</td>\n",
       "      <td>4WD</td>\n",
       "      <td>gas</td>\n",
       "      <td>FA</td>\n",
       "      <td>pickup</td>\n",
       "      <td>3</td>\n",
       "      <td>13.0</td>\n",
       "      <td>...</td>\n",
       "      <td>4WD</td>\n",
       "      <td>Ethanol/Gas</td>\n",
       "      <td>FA</td>\n",
       "      <td>pickup</td>\n",
       "      <td>3</td>\n",
       "      <td>11/14</td>\n",
       "      <td>14/19</td>\n",
       "      <td>12/16</td>\n",
       "      <td>2</td>\n",
       "      <td>No</td>\n",
       "    </tr>\n",
       "    <tr>\n",
       "      <td>5714</td>\n",
       "      <td>FORD F150 FFV</td>\n",
       "      <td>5.4</td>\n",
       "      <td>(8 cyl)</td>\n",
       "      <td>Auto-L4</td>\n",
       "      <td>4WD</td>\n",
       "      <td>gas</td>\n",
       "      <td>FA</td>\n",
       "      <td>pickup</td>\n",
       "      <td>3</td>\n",
       "      <td>13.0</td>\n",
       "      <td>...</td>\n",
       "      <td>4WD</td>\n",
       "      <td>Ethanol/Gas</td>\n",
       "      <td>FA</td>\n",
       "      <td>pickup</td>\n",
       "      <td>3</td>\n",
       "      <td>12/15</td>\n",
       "      <td>15/20</td>\n",
       "      <td>13/17</td>\n",
       "      <td>3</td>\n",
       "      <td>No</td>\n",
       "    </tr>\n",
       "    <tr>\n",
       "      <td>5715</td>\n",
       "      <td>FORD F150 FFV</td>\n",
       "      <td>5.4</td>\n",
       "      <td>(8 cyl)</td>\n",
       "      <td>Auto-L4</td>\n",
       "      <td>4WD</td>\n",
       "      <td>gas</td>\n",
       "      <td>FA</td>\n",
       "      <td>pickup</td>\n",
       "      <td>3</td>\n",
       "      <td>13.0</td>\n",
       "      <td>...</td>\n",
       "      <td>4WD</td>\n",
       "      <td>Ethanol/Gas</td>\n",
       "      <td>FA</td>\n",
       "      <td>pickup</td>\n",
       "      <td>3</td>\n",
       "      <td>12/16</td>\n",
       "      <td>15/22</td>\n",
       "      <td>13/18</td>\n",
       "      <td>3</td>\n",
       "      <td>No</td>\n",
       "    </tr>\n",
       "  </tbody>\n",
       "</table>\n",
       "<p>5716 rows × 28 columns</p>\n",
       "</div>"
      ],
      "text/plain": [
       "         model_2008  displ_2008 cyl_2008 trans_2008 drive_2008 fuel_2008  \\\n",
       "0         ACURA MDX         3.7  (6 cyl)    Auto-S5        4WD  Gasoline   \n",
       "1         ACURA MDX         3.7  (6 cyl)    Auto-S5        4WD  Gasoline   \n",
       "2         ACURA MDX         3.7  (6 cyl)    Auto-S5        4WD  Gasoline   \n",
       "3         ACURA MDX         3.7  (6 cyl)    Auto-S5        4WD  Gasoline   \n",
       "4         ACURA MDX         3.7  (6 cyl)    Auto-S5        4WD  Gasoline   \n",
       "...             ...         ...      ...        ...        ...       ...   \n",
       "5711  FORD F150 FFV         5.4  (8 cyl)    Auto-L4        4WD       gas   \n",
       "5712  FORD F150 FFV         5.4  (8 cyl)    Auto-L4        4WD       gas   \n",
       "5713  FORD F150 FFV         5.4  (8 cyl)    Auto-L4        4WD       gas   \n",
       "5714  FORD F150 FFV         5.4  (8 cyl)    Auto-L4        4WD       gas   \n",
       "5715  FORD F150 FFV         5.4  (8 cyl)    Auto-L4        4WD       gas   \n",
       "\n",
       "     cert_regio_2008 veh_class_2008 air_pollut_2008  city_mpg_2008  ...  \\\n",
       "0                 CA            SUV               7           15.0  ...   \n",
       "1                 CA            SUV               7           15.0  ...   \n",
       "2                 CA            SUV               7           15.0  ...   \n",
       "3                 CA            SUV               7           15.0  ...   \n",
       "4                 CA            SUV               7           15.0  ...   \n",
       "...              ...            ...             ...            ...  ...   \n",
       "5711              FA         pickup               3           13.0  ...   \n",
       "5712              FA         pickup               3           13.0  ...   \n",
       "5713              FA         pickup               3           13.0  ...   \n",
       "5714              FA         pickup               3           13.0  ...   \n",
       "5715              FA         pickup               3           13.0  ...   \n",
       "\n",
       "      drive         fuel  cert_region  veh_class air_pollution_score  \\\n",
       "0       4WD     Gasoline           CA  small SUV                   3   \n",
       "1       4WD     Gasoline           FA  small SUV                   3   \n",
       "2       2WD     Gasoline           CA  small SUV                   3   \n",
       "3       2WD     Gasoline           FA  small SUV                   3   \n",
       "4       4WD     Gasoline           CA  small SUV                   3   \n",
       "...     ...          ...          ...        ...                 ...   \n",
       "5711    4WD  Ethanol/Gas           CA     pickup                   3   \n",
       "5712    4WD  Ethanol/Gas           CA     pickup                   3   \n",
       "5713    4WD  Ethanol/Gas           FA     pickup                   3   \n",
       "5714    4WD  Ethanol/Gas           FA     pickup                   3   \n",
       "5715    4WD  Ethanol/Gas           FA     pickup                   3   \n",
       "\n",
       "      city_mpg  hwy_mpg cmb_mpg greenhouse_gas_score smartway  \n",
       "0           26       27      27                    6       No  \n",
       "1           26       27      27                    6       No  \n",
       "2           20       27      23                    5       No  \n",
       "3           20       27      23                    5       No  \n",
       "4           19       26      22                    4       No  \n",
       "...        ...      ...     ...                  ...      ...  \n",
       "5711     12/15    15/20   13/17                    3       No  \n",
       "5712     12/16    15/22   13/18                    3       No  \n",
       "5713     11/14    14/19   12/16                    2       No  \n",
       "5714     12/15    15/20   13/17                    3       No  \n",
       "5715     12/16    15/22   13/18                    3       No  \n",
       "\n",
       "[5716 rows x 28 columns]"
      ]
     },
     "execution_count": 113,
     "metadata": {},
     "output_type": "execute_result"
    }
   ],
   "source": [
    "pd.merge(df_2008,df_2019,left_on='model_2008',right_on='model',how='inner')\n",
    "# https://pandas.pydata.org/pandas-docs/stable/user_guide/merging.html"
   ]
  },
  {
   "cell_type": "code",
   "execution_count": null,
   "metadata": {},
   "outputs": [],
   "source": []
  }
 ],
 "metadata": {
  "kernelspec": {
   "display_name": "Python 3",
   "language": "python",
   "name": "python3"
  },
  "language_info": {
   "codemirror_mode": {
    "name": "ipython",
    "version": 3
   },
   "file_extension": ".py",
   "mimetype": "text/x-python",
   "name": "python",
   "nbconvert_exporter": "python",
   "pygments_lexer": "ipython3",
   "version": "3.7.4"
  }
 },
 "nbformat": 4,
 "nbformat_minor": 2
}

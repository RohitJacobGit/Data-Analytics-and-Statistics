{
 "cells": [
  {
   "cell_type": "markdown",
   "metadata": {},
   "source": [
    "# Sampling"
   ]
  },
  {
   "cell_type": "code",
   "execution_count": 7,
   "metadata": {},
   "outputs": [],
   "source": [
    "import numpy as np\n",
    "import matplotlib.pyplot as plt\n",
    "np.random.seed(42)\n",
    "\n",
    "students = np.array([1,0,1,1,1,1,0,0,0,0,1,1,1,1,1,1,1,1,1,1,0])"
   ]
  },
  {
   "cell_type": "code",
   "execution_count": 3,
   "metadata": {},
   "outputs": [],
   "source": [
    "# Find the proportion of students who drink coffee in the above array. Store this value in a variable p.\n",
    "p = students.mean()"
   ]
  },
  {
   "cell_type": "code",
   "execution_count": 4,
   "metadata": {},
   "outputs": [
    {
     "data": {
      "text/plain": [
       "0.6"
      ]
     },
     "execution_count": 4,
     "metadata": {},
     "output_type": "execute_result"
    }
   ],
   "source": [
    "np.random.choice(students,size=5).mean()"
   ]
  },
  {
   "cell_type": "code",
   "execution_count": 13,
   "metadata": {},
   "outputs": [
    {
     "data": {
      "text/plain": [
       "(array([  20.,    0.,  195.,    0., 1179., 2982.,    0.,    0., 3783.,\n",
       "        1841.]),\n",
       " array([0. , 0.1, 0.2, 0.3, 0.4, 0.5, 0.6, 0.7, 0.8, 0.9, 1. ]),\n",
       " <a list of 10 Patch objects>)"
      ]
     },
     "execution_count": 13,
     "metadata": {},
     "output_type": "execute_result"
    },
    {
     "data": {
      "image/png": "[encoded data removed]",
      "text/plain": [
       "<Figure size 432x288 with 1 Axes>"
      ]
     },
     "metadata": {
      "needs_background": "light"
     },
     "output_type": "display_data"
    }
   ],
   "source": [
    "sample_props = []\n",
    "for i in range(10000):\n",
    "    #print(np.random.choice(students,size=5))\n",
    "    sample_props.append(np.random.choice(students,size=5).mean())\n",
    "#sample mean\n",
    "np.mean(sample_props)\n",
    "\n",
    "# sample_mean_list = [] \n",
    "\n",
    "# for i in range(10000): #200 samples normally distributed\n",
    "#     sample = np.random.choice(students,200)\n",
    "#     sample_mean_list.append(sample.mean())\n",
    "\n",
    "# np.mean(sample_mean_list)\n",
    "\n",
    "plt.hist(sample_props)"
   ]
  },
  {
   "cell_type": "code",
   "execution_count": 61,
   "metadata": {},
   "outputs": [
    {
     "data": {
      "text/plain": [
       "0.45175395145262565"
      ]
     },
     "execution_count": 61,
     "metadata": {},
     "output_type": "execute_result"
    }
   ],
   "source": [
    "students.std()"
   ]
  },
  {
   "cell_type": "code",
   "execution_count": 62,
   "metadata": {},
   "outputs": [
    {
     "data": {
      "text/plain": [
       "0.20408163265306126"
      ]
     },
     "execution_count": 62,
     "metadata": {},
     "output_type": "execute_result"
    }
   ],
   "source": [
    "students.var()"
   ]
  },
  {
   "cell_type": "code",
   "execution_count": 63,
   "metadata": {},
   "outputs": [
    {
     "data": {
      "text/plain": [
       "0.17238843419701325"
      ]
     },
     "execution_count": 63,
     "metadata": {},
     "output_type": "execute_result"
    }
   ],
   "source": [
    "#print(sample_props)\n",
    "np.std(sample_props)"
   ]
  },
  {
   "cell_type": "code",
   "execution_count": 64,
   "metadata": {},
   "outputs": [
    {
     "data": {
      "text/plain": [
       "0.029717772244897963"
      ]
     },
     "execution_count": 64,
     "metadata": {},
     "output_type": "execute_result"
    }
   ],
   "source": [
    "np.var(sample_props)"
   ]
  },
  {
   "cell_type": "code",
   "execution_count": 73,
   "metadata": {},
   "outputs": [
    {
     "data": {
      "image/png": "[encoded data removed]",
      "text/plain": [
       "<Figure size 432x288 with 1 Axes>"
      ]
     },
     "metadata": {
      "needs_background": "light"
     },
     "output_type": "display_data"
    }
   ],
   "source": [
    "pop_data = np.random.gamma(1,100,3000)\n",
    "plt.hist(pop_data);"
   ]
  },
  {
   "cell_type": "code",
   "execution_count": 71,
   "metadata": {},
   "outputs": [
    {
     "data": {
      "text/plain": [
       "(3000,)"
      ]
     },
     "execution_count": 71,
     "metadata": {},
     "output_type": "execute_result"
    }
   ],
   "source": [
    "pop_data.shape"
   ]
  },
  {
   "cell_type": "code",
   "execution_count": 74,
   "metadata": {},
   "outputs": [
    {
     "data": {
      "text/plain": [
       "102.2413608134018"
      ]
     },
     "execution_count": 74,
     "metadata": {},
     "output_type": "execute_result"
    }
   ],
   "source": [
    "pop_data.mean()"
   ]
  },
  {
   "cell_type": "code",
   "execution_count": 75,
   "metadata": {},
   "outputs": [
    {
     "data": {
      "text/plain": [
       "array([82.73469286, 51.09542201,  0.76716875, 29.09298836, 23.37193403])"
      ]
     },
     "execution_count": 75,
     "metadata": {},
     "output_type": "execute_result"
    }
   ],
   "source": [
    "sample = np.random.choice(pop_data,size=5)"
   ]
  },
  {
   "cell_type": "code",
   "execution_count": 76,
   "metadata": {},
   "outputs": [
    {
     "data": {
      "text/plain": [
       "0.8"
      ]
     },
     "execution_count": 76,
     "metadata": {},
     "output_type": "execute_result"
    }
   ],
   "source": [
    "sample.mean()"
   ]
  },
  {
   "cell_type": "code",
   "execution_count": 77,
   "metadata": {},
   "outputs": [],
   "source": [
    "sample = np.random.choice(pop_data,size=20)"
   ]
  },
  {
   "cell_type": "code",
   "execution_count": 78,
   "metadata": {},
   "outputs": [
    {
     "data": {
      "text/plain": [
       "94.06927428717003"
      ]
     },
     "execution_count": 78,
     "metadata": {},
     "output_type": "execute_result"
    }
   ],
   "source": [
    "sample.mean()"
   ]
  },
  {
   "cell_type": "code",
   "execution_count": 79,
   "metadata": {},
   "outputs": [],
   "source": [
    "sample = np.random.choice(pop_data,size=100)"
   ]
  },
  {
   "cell_type": "code",
   "execution_count": 85,
   "metadata": {},
   "outputs": [
    {
     "data": {
      "text/plain": [
       "92.95506764674397"
      ]
     },
     "execution_count": 85,
     "metadata": {},
     "output_type": "execute_result"
    }
   ],
   "source": [
    "sample\n",
    "sample.mean()"
   ]
  },
  {
   "cell_type": "code",
   "execution_count": 83,
   "metadata": {},
   "outputs": [
    {
     "data": {
      "text/plain": [
       "(array([  30.,  293., 1317., 2721., 2975., 1818.,  666.,  156.,   20.,\n",
       "           4.]), array([ 68.20656303,  76.17245723,  84.13835142,  92.10424562,\n",
       "        100.07013981, 108.03603401, 116.0019282 , 123.9678224 ,\n",
       "        131.93371659, 139.89961079, 147.86550498]), <a list of 10 Patch objects>)"
      ]
     },
     "execution_count": 83,
     "metadata": {},
     "output_type": "execute_result"
    },
    {
     "data": {
      "image/png": "[encoded data removed]",
      "text/plain": [
       "<Figure size 432x288 with 1 Axes>"
      ]
     },
     "metadata": {
      "needs_background": "light"
     },
     "output_type": "display_data"
    }
   ],
   "source": [
    "sample_props = []\n",
    "for i in range(10000):\n",
    "    #print(np.random.choice(students,size=5))\n",
    "    sample_props.append(np.random.choice(pop_data,size=100).mean())\n",
    "#sample mean\n",
    "np.mean(sample_props)\n",
    "plt.hist(sample_props)"
   ]
  },
  {
   "cell_type": "code",
   "execution_count": 94,
   "metadata": {},
   "outputs": [
    {
     "name": "stdout",
     "output_type": "stream",
     "text": [
      "sample [ 11.10911272   2.21453739 110.59854567]\n",
      "sample mean 41.30739859555894\n",
      "pop mean 102.2413608134018\n",
      "sample mean 102.34825675433893\n"
     ]
    },
    {
     "data": {
      "text/plain": [
       "(array([1.716e+03, 3.451e+03, 2.611e+03, 1.350e+03, 5.620e+02, 2.210e+02,\n",
       "        6.300e+01, 2.100e+01, 4.000e+00, 1.000e+00]),\n",
       " array([  3.14605336,  49.01600662,  94.88595989, 140.75591315,\n",
       "        186.62586642, 232.49581969, 278.36577295, 324.23572622,\n",
       "        370.10567949, 415.97563275, 461.84558602]),\n",
       " <a list of 10 Patch objects>)"
      ]
     },
     "execution_count": 94,
     "metadata": {},
     "output_type": "execute_result"
    },
    {
     "data": {
      "image/png": "[encoded data removed]",
      "text/plain": [
       "<Figure size 432x288 with 1 Axes>"
      ]
     },
     "metadata": {
      "needs_background": "light"
     },
     "output_type": "display_data"
    }
   ],
   "source": [
    "sample = np.random.choice(pop_data,size=3)\n",
    "print('sample', sample)\n",
    "print('sample mean', sample.mean())\n",
    "means_size_3 = []\n",
    "for i in range(10000):\n",
    "    sample = np.random.choice(pop_data,size=3) #sample size = 3\n",
    "    means_size_3.append(sample.mean())\n",
    "\n",
    "print('pop mean', pop_data.mean())\n",
    "print('sample mean', np.mean(means_size_3))\n",
    "plt.hist(means_size_3)\n"
   ]
  },
  {
   "cell_type": "code",
   "execution_count": 95,
   "metadata": {},
   "outputs": [
    {
     "data": {
      "text/plain": [
       "57.44099880523986"
      ]
     },
     "execution_count": 95,
     "metadata": {},
     "output_type": "execute_result"
    }
   ],
   "source": [
    "np.std(means_size_3)"
   ]
  },
  {
   "cell_type": "code",
   "execution_count": 96,
   "metadata": {},
   "outputs": [
    {
     "data": {
      "text/plain": [
       "100.03377278325999"
      ]
     },
     "execution_count": 96,
     "metadata": {},
     "output_type": "execute_result"
    }
   ],
   "source": [
    "np.std(pop_data)"
   ]
  },
  {
   "cell_type": "code",
   "execution_count": 102,
   "metadata": {},
   "outputs": [
    {
     "name": "stdout",
     "output_type": "stream",
     "text": [
      "pop mean 102.2413608134018\n",
      "sample mean 102.1123598652903\n"
     ]
    },
    {
     "data": {
      "text/plain": [
       "(array([  27.,  278., 1228., 2478., 2950., 1970.,  782.,  235.,   43.,\n",
       "           9.]), array([ 69.25096718,  76.79926176,  84.34755634,  91.89585091,\n",
       "         99.44414549, 106.99244007, 114.54073465, 122.08902922,\n",
       "        129.6373238 , 137.18561838, 144.73391295]), <a list of 10 Patch objects>)"
      ]
     },
     "execution_count": 102,
     "metadata": {},
     "output_type": "execute_result"
    },
    {
     "data": {
      "image/png": "[encoded data removed]",
      "text/plain": [
       "<Figure size 432x288 with 1 Axes>"
      ]
     },
     "metadata": {
      "needs_background": "light"
     },
     "output_type": "display_data"
    }
   ],
   "source": [
    "means_size_100 = []\n",
    "for i in range(10000):\n",
    "    sample = np.random.choice(pop_data,size=100) #sample size = 100\n",
    "    means_size_100.append(sample.mean())\n",
    "\n",
    "print('pop mean', pop_data.mean())\n",
    "print('sample mean', np.mean(means_size_100))\n",
    "plt.hist(means_size_100)"
   ]
  },
  {
   "cell_type": "code",
   "execution_count": 100,
   "metadata": {},
   "outputs": [
    {
     "data": {
      "text/plain": [
       "100.68399927671356"
      ]
     },
     "execution_count": 100,
     "metadata": {},
     "output_type": "execute_result"
    }
   ],
   "source": [
    "np.var(means_size_3)"
   ]
  },
  {
   "cell_type": "code",
   "execution_count": 101,
   "metadata": {},
   "outputs": [
    {
     "data": {
      "text/plain": [
       "10006.755697252887"
      ]
     },
     "execution_count": 101,
     "metadata": {},
     "output_type": "execute_result"
    }
   ],
   "source": [
    "np.var(pop_data)"
   ]
  },
  {
   "cell_type": "code",
   "execution_count": 103,
   "metadata": {},
   "outputs": [
    {
     "name": "stdout",
     "output_type": "stream",
     "text": [
      "pop var 102.2413608134018\n",
      "sample var 9870.551254298716\n"
     ]
    },
    {
     "data": {
      "text/plain": [
       "(array([ 164., 1133., 2389., 2720., 1933., 1023.,  427.,  159.,   34.,\n",
       "          18.]),\n",
       " array([ 3746.35230163,  5442.89647214,  7139.44064266,  8835.98481318,\n",
       "        10532.5289837 , 12229.07315422, 13925.61732474, 15622.16149526,\n",
       "        17318.70566578, 19015.2498363 , 20711.79400682]),\n",
       " <a list of 10 Patch objects>)"
      ]
     },
     "execution_count": 103,
     "metadata": {},
     "output_type": "execute_result"
    },
    {
     "data": {
      "image/png": "[encoded data removed]",
      "text/plain": [
       "<Figure size 432x288 with 1 Axes>"
      ]
     },
     "metadata": {
      "needs_background": "light"
     },
     "output_type": "display_data"
    }
   ],
   "source": [
    "var_size_100 = []\n",
    "for i in range(10000):\n",
    "    sample = np.random.choice(pop_data,size=100) #sample size = 100\n",
    "    var_size_100.append(sample.var())\n",
    "\n",
    "print('pop var', pop_data.mean())\n",
    "print('sample var', np.mean(var_size_100))\n",
    "plt.hist(var_size_100)\n",
    "\n",
    "# Not normal distribution"
   ]
  },
  {
   "cell_type": "code",
   "execution_count": 104,
   "metadata": {},
   "outputs": [
    {
     "name": "stdout",
     "output_type": "stream",
     "text": [
      "pop mean 102.2413608134018\n",
      "sample mean 102.24033550477691\n"
     ]
    },
    {
     "data": {
      "text/plain": [
       "(array([  51.,  590., 1951., 2933., 2480., 1327.,  514.,  124.,   25.,\n",
       "           5.]), array([ 38.2263342 ,  54.6208368 ,  71.01533941,  87.40984202,\n",
       "        103.80434462, 120.19884723, 136.59334984, 152.98785244,\n",
       "        169.38235505, 185.77685766, 202.17136026]), <a list of 10 Patch objects>)"
      ]
     },
     "execution_count": 104,
     "metadata": {},
     "output_type": "execute_result"
    },
    {
     "data": {
      "image/png": "[encoded data removed]",
      "text/plain": [
       "<Figure size 432x288 with 1 Axes>"
      ]
     },
     "metadata": {
      "needs_background": "light"
     },
     "output_type": "display_data"
    }
   ],
   "source": [
    "#bootstrpping - sampling with replacement\n",
    "means_size_21 = []\n",
    "for i in range(10000):\n",
    "    sample = np.random.choice(pop_data,size=21) #sample size = 21, same as pop size\n",
    "    means_size_21.append(sample.mean())\n",
    "\n",
    "print('pop mean', pop_data.mean())\n",
    "print('sample mean', np.mean(means_size_21))\n",
    "plt.hist(means_size_21)\n"
   ]
  },
  {
   "cell_type": "code",
   "execution_count": null,
   "metadata": {},
   "outputs": [],
   "source": [
    "# Sampling\n",
    "\n",
    "import numpy as np\n",
    "np.random.seed(42)\n",
    "\n",
    "students = np.array([1,0,1,1,1,1,0,0,0,0,1,1,1,1,1,1,1,1,1,1,0])\n",
    "\n",
    "# Find the proportion of students who drink coffee in the above array. Store this value in a variable p.\n",
    "p = students.mean()\n",
    "\n",
    "np.random.choice(students,size=5).mean()\n",
    "\n",
    "sample_props = []\n",
    "for i in range(10000):\n",
    "    #print(np.random.choice(students,size=5))\n",
    "    sample_props.append(np.random.choice(students,size=5).mean())\n",
    "#sample mean\n",
    "np.mean(sample_props)\n",
    "\n",
    "# sample_mean_list = [] \n",
    "\n",
    "# for i in range(10000): #200 samples\n",
    "#     sample = np.random.choice(students,5)\n",
    "#     sample_mean_list.append(sample.mean())\n",
    "\n",
    "# np.mean(sample_mean_list)\n",
    "\n",
    "#plt.hist(sample_props)\n",
    "\n",
    "students.std()\n",
    "\n",
    "students.var()\n",
    "\n",
    "#print(sample_props)\n",
    "np.std(sample_props)\n",
    "\n",
    "np.var(sample_props)\n",
    "\n",
    "pop_data = np.random.gamma(1,100,3000)\n",
    "plt.hist(pop_data);\n",
    "\n",
    "pop_data.shape\n",
    "\n",
    "pop_data.mean()\n",
    "\n",
    "sample = np.random.choice(pop_data,size=5)\n",
    "\n",
    "sample.mean()\n",
    "\n",
    "sample = np.random.choice(pop_data,size=20)\n",
    "\n",
    "sample.mean()\n",
    "\n",
    "sample = np.random.choice(pop_data,size=100)\n",
    "\n",
    "sample\n",
    "sample.mean()\n",
    "\n",
    "sample_props = []\n",
    "for i in range(10000):\n",
    "    #print(np.random.choice(students,size=5))\n",
    "    sample_props.append(np.random.choice(pop_data,size=100).mean())\n",
    "#sample mean\n",
    "np.mean(sample_props)\n",
    "plt.hist(sample_props)\n",
    "\n",
    "sample = np.random.choice(pop_data,size=3)\n",
    "print('sample', sample)\n",
    "print('sample mean', sample.mean())\n",
    "means_size_3 = []\n",
    "for i in range(10000):\n",
    "    sample = np.random.choice(pop_data,size=3) #sample size = 3\n",
    "    means_size_3.append(sample.mean())\n",
    "\n",
    "print('pop mean', pop_data.mean())\n",
    "print('sample mean', np.mean(means_size_3))\n",
    "plt.hist(means_size_3)\n",
    "\n",
    "\n",
    "np.std(means_size_3)\n",
    "\n",
    "np.std(pop_data)\n",
    "\n",
    "means_size_100 = []\n",
    "for i in range(10000):\n",
    "    sample = np.random.choice(pop_data,size=100) #sample size = 100\n",
    "    means_size_100.append(sample.mean())\n",
    "\n",
    "print('pop mean', pop_data.mean())\n",
    "print('sample mean', np.mean(means_size_100))\n",
    "plt.hist(means_size_100)\n",
    "\n",
    "np.var(means_size_3)\n",
    "\n",
    "np.var(pop_data)\n",
    "\n",
    "var_size_100 = []\n",
    "for i in range(10000):\n",
    "    sample = np.random.choice(pop_data,size=100) #sample size = 100\n",
    "    var_size_100.append(sample.var())\n",
    "\n",
    "print('pop var', pop_data.mean())\n",
    "print('sample var', np.mean(var_size_100))\n",
    "plt.hist(var_size_100)\n",
    "\n",
    "# Not normal distribution\n",
    "\n",
    "#bootstrpping - sampling with replacement\n",
    "means_size_21 = []\n",
    "for i in range(10000):\n",
    "    sample = np.random.choice(pop_data,size=21) #sample size = 21, same as pop size\n",
    "    means_size_21.append(sample.mean())\n",
    "\n",
    "print('pop mean', pop_data.mean())\n",
    "print('sample mean', np.mean(means_size_21))\n",
    "plt.hist(means_size_21)\n"
   ]
  },
  {
   "cell_type": "markdown",
   "metadata": {},
   "source": [
    "# Another practise"
   ]
  },
  {
   "cell_type": "code",
   "execution_count": 3,
   "metadata": {},
   "outputs": [],
   "source": [
    "import numpy as np\n",
    "import seaborn as sns\n",
    "import pandas as pd\n",
    "import matplotlib.pyplot as plt\n",
    "%matplotlib inline"
   ]
  },
  {
   "cell_type": "code",
   "execution_count": 2,
   "metadata": {},
   "outputs": [],
   "source": [
    "np.random.seed(42)\n",
    "students = np.array([1,0,1,1,1,1,0,0,0,0,1,1,1,1,1,1,1,1,1,1,0])"
   ]
  },
  {
   "cell_type": "code",
   "execution_count": 3,
   "metadata": {},
   "outputs": [
    {
     "name": "stdout",
     "output_type": "stream",
     "text": [
      "0.7142857142857143\n"
     ]
    }
   ],
   "source": [
    "# # Find the proportion of students who drink coffee in the above array. Store this value in a variable p.\n",
    "\n",
    "sum = 0\n",
    "\n",
    "for i in range(len(students)):\n",
    "    if students[i]==1:\n",
    "        sum = sum+1\n",
    "        \n",
    "print(sum/len(students))"
   ]
  },
  {
   "cell_type": "code",
   "execution_count": 4,
   "metadata": {},
   "outputs": [
    {
     "data": {
      "text/plain": [
       "0.7142857142857143"
      ]
     },
     "execution_count": 4,
     "metadata": {},
     "output_type": "execute_result"
    }
   ],
   "source": [
    "# # Find the proportion of students who drink coffee in the above array. Store this value in a variable p.\n",
    "\n",
    "students.mean()"
   ]
  },
  {
   "cell_type": "code",
   "execution_count": 5,
   "metadata": {},
   "outputs": [
    {
     "name": "stdout",
     "output_type": "stream",
     "text": [
      "[0 1 1 1 0]\n",
      "0.6\n"
     ]
    }
   ],
   "source": [
    "# Use numpy's random.choice to simulate 5 draws from the students array. \n",
    "# What is proportion of your sample drink coffee?\n",
    "\n",
    "five_draws = np.random.choice(students, size=5)\n",
    "print(five_draws)\n",
    "print(five_draws.mean())"
   ]
  },
  {
   "cell_type": "code",
   "execution_count": 6,
   "metadata": {},
   "outputs": [],
   "source": [
    "# Repeat the above to obtain 10,000 additional proportions, where each sample was of size 5. \n",
    "# Store these in a variable called sample_props.\n",
    "\n",
    "sample_props = []\n",
    "for i in range(10000):\n",
    "    sample_mean_size_five = np.random.choice(students, size=5).mean()\n",
    "    sample_props.append(sample_mean_size_five)"
   ]
  },
  {
   "cell_type": "code",
   "execution_count": 7,
   "metadata": {},
   "outputs": [
    {
     "data": {
      "text/plain": [
       "<matplotlib.axes._subplots.AxesSubplot at 0x1a1e742150>"
      ]
     },
     "execution_count": 7,
     "metadata": {},
     "output_type": "execute_result"
    },
    {
     "data": {
      "image/png": "[encoded data removed]",
      "text/plain": [
       "<Figure size 432x288 with 1 Axes>"
      ]
     },
     "metadata": {
      "needs_background": "light"
     },
     "output_type": "display_data"
    }
   ],
   "source": [
    "#plt.hist(sample_props);\n",
    "sns.distplot(sample_props)"
   ]
  },
  {
   "cell_type": "code",
   "execution_count": 8,
   "metadata": {},
   "outputs": [
    {
     "name": "stdout",
     "output_type": "stream",
     "text": [
      "0.714\n"
     ]
    }
   ],
   "source": [
    "# What is the mean proportion of all 10,000 of these proportions? \n",
    "# This is often called the mean of the sampling distribution.\n",
    "\n",
    "print(np.mean(sample_props))"
   ]
  },
  {
   "cell_type": "code",
   "execution_count": 9,
   "metadata": {},
   "outputs": [
    {
     "name": "stdout",
     "output_type": "stream",
     "text": [
      "0.45175395145262565\n",
      "0.20408163265306126\n"
     ]
    }
   ],
   "source": [
    "# What are the variance and standard deviation for the original 21 data values?\n",
    "\n",
    "print(np.std(students))\n",
    "print(np.var(students))"
   ]
  },
  {
   "cell_type": "code",
   "execution_count": 10,
   "metadata": {},
   "outputs": [
    {
     "name": "stdout",
     "output_type": "stream",
     "text": [
      "0.2043624231604235\n",
      "0.041763999999999996\n"
     ]
    }
   ],
   "source": [
    "# What are the variance and standard deviation for the 10,000 proportions you created?\n",
    "\n",
    "print(np.std(sample_props))\n",
    "print(np.var(sample_props))"
   ]
  },
  {
   "cell_type": "code",
   "execution_count": 11,
   "metadata": {},
   "outputs": [],
   "source": [
    "sample_props = []\n",
    "for i in range(10000):\n",
    "    sample_mean_size_five = np.random.choice(students, size=20).mean()\n",
    "    sample_props.append(sample_mean_size_five)"
   ]
  },
  {
   "cell_type": "code",
   "execution_count": 12,
   "metadata": {},
   "outputs": [
    {
     "data": {
      "text/plain": [
       "<matplotlib.axes._subplots.AxesSubplot at 0x1a1efc21d0>"
      ]
     },
     "execution_count": 12,
     "metadata": {},
     "output_type": "execute_result"
    },
    {
     "data": {
      "image/png": "[encoded data removed]",
      "text/plain": [
       "<Figure size 432x288 with 1 Axes>"
      ]
     },
     "metadata": {
      "needs_background": "light"
     },
     "output_type": "display_data"
    }
   ],
   "source": [
    "#plt.hist(sample_props);\n",
    "sns.distplot(sample_props)\n",
    "# With more sample size, the histogram becomes more normal"
   ]
  },
  {
   "cell_type": "code",
   "execution_count": 13,
   "metadata": {},
   "outputs": [
    {
     "name": "stdout",
     "output_type": "stream",
     "text": [
      "0.714925\n"
     ]
    }
   ],
   "source": [
    "print(np.mean(sample_props))"
   ]
  },
  {
   "cell_type": "code",
   "execution_count": 14,
   "metadata": {},
   "outputs": [
    {
     "name": "stdout",
     "output_type": "stream",
     "text": [
      "0.10149381446669545\n",
      "0.010300994374999999\n"
     ]
    }
   ],
   "source": [
    "print(np.std(sample_props))\n",
    "print(np.var(sample_props))"
   ]
  },
  {
   "cell_type": "code",
   "execution_count": 15,
   "metadata": {},
   "outputs": [
    {
     "name": "stdout",
     "output_type": "stream",
     "text": [
      "0.010204081632653062\n"
     ]
    }
   ],
   "source": [
    "print(np.var(students)/20)\n",
    "# In notation, we say if we have a random variable, X , with variance of (sigma squared), \n",
    "# then mean of samples will have a variance of sigma squared/n"
   ]
  },
  {
   "cell_type": "code",
   "execution_count": 16,
   "metadata": {},
   "outputs": [],
   "source": [
    "# Parameters do not change for the population\n",
    "# Statistic may change depending upon the sample we select"
   ]
  },
  {
   "cell_type": "code",
   "execution_count": 21,
   "metadata": {},
   "outputs": [
    {
     "data": {
      "image/png": "[encoded data removed]",
      "text/plain": [
       "<Figure size 432x288 with 1 Axes>"
      ]
     },
     "metadata": {
      "needs_background": "light"
     },
     "output_type": "display_data"
    }
   ],
   "source": [
    "pop_data = np.random.gamma(1,100,3000)\n",
    "plt.hist(pop_data);"
   ]
  },
  {
   "cell_type": "code",
   "execution_count": 23,
   "metadata": {},
   "outputs": [
    {
     "data": {
      "text/plain": [
       "(3000,)"
      ]
     },
     "execution_count": 23,
     "metadata": {},
     "output_type": "execute_result"
    }
   ],
   "source": [
    "# What is the the number of data values in our population dataset?\n",
    "len(pop_data)\n",
    "pop_data.shape"
   ]
  },
  {
   "cell_type": "code",
   "execution_count": 24,
   "metadata": {},
   "outputs": [
    {
     "data": {
      "text/plain": [
       "97.8840772167266"
      ]
     },
     "execution_count": 24,
     "metadata": {},
     "output_type": "execute_result"
    }
   ],
   "source": [
    "# What is the population mean?\n",
    "pop_data.mean()"
   ]
  },
  {
   "cell_type": "code",
   "execution_count": 26,
   "metadata": {},
   "outputs": [
    {
     "data": {
      "text/plain": [
       "76.73504836802218"
      ]
     },
     "execution_count": 26,
     "metadata": {},
     "output_type": "execute_result"
    }
   ],
   "source": [
    "# Use numpy's random.choice to simulate 5 draws from the pop_data array. What is sample mean?\n",
    "np.random.choice(pop_data,size=5).mean()"
   ]
  },
  {
   "cell_type": "code",
   "execution_count": 28,
   "metadata": {},
   "outputs": [
    {
     "data": {
      "text/plain": [
       "67.58450398880387"
      ]
     },
     "execution_count": 28,
     "metadata": {},
     "output_type": "execute_result"
    }
   ],
   "source": [
    "# Use numpy's random.choice to simulate 20 draws from the pop_data array. What is sample mean?\n",
    "np.random.choice(pop_data,size=20).mean()"
   ]
  },
  {
   "cell_type": "code",
   "execution_count": 29,
   "metadata": {},
   "outputs": [
    {
     "data": {
      "text/plain": [
       "91.21908158034395"
      ]
     },
     "execution_count": 29,
     "metadata": {},
     "output_type": "execute_result"
    }
   ],
   "source": [
    "# Use numpy's random.choice to simulate 100 draws from the pop_data array. What is sample mean?\n",
    "np.random.choice(pop_data,size=100).mean()"
   ]
  },
  {
   "cell_type": "markdown",
   "metadata": {},
   "source": [
    "`1.` In order to create the sampling distribution for the average of 3 draws of this distribution(np.random.gamma(1,100,3000)), follow these steps:\n",
    "\n",
    "`a.` Use numpy's **random.choice** to simulate 3 draws from the `pop_data` array.   <br><br>\n",
    "`b.` Compute the mean of these 3 draws. <br><br>\n",
    "`c.` Write a loop to simulate this process 10,000 times, and store each mean into an array called **means_size_3**.<br><br>\n",
    "`d.` Plot a histogram of your sample means.<br><br>\n",
    "`e.` Use **means_size_3** and **pop_data** to answer the quiz questions below."
   ]
  },
  {
   "cell_type": "code",
   "execution_count": 30,
   "metadata": {},
   "outputs": [
    {
     "data": {
      "text/plain": [
       "183.8410755869235"
      ]
     },
     "execution_count": 30,
     "metadata": {},
     "output_type": "execute_result"
    }
   ],
   "source": [
    "np.random.choice(pop_data,size=5).mean()"
   ]
  },
  {
   "cell_type": "code",
   "execution_count": 33,
   "metadata": {},
   "outputs": [
    {
     "data": {
      "text/plain": [
       "<matplotlib.axes._subplots.AxesSubplot at 0x1a206df790>"
      ]
     },
     "execution_count": 33,
     "metadata": {},
     "output_type": "execute_result"
    },
    {
     "data": {
      "image/png": "[encoded data removed]",
      "text/plain": [
       "<Figure size 432x288 with 1 Axes>"
      ]
     },
     "metadata": {
      "needs_background": "light"
     },
     "output_type": "display_data"
    }
   ],
   "source": [
    "means_size_3 = []\n",
    "for i in range(1000):\n",
    "    each_mean = np.random.choice(pop_data,size=3).mean()\n",
    "    means_size_3.append(each_mean)\n",
    "\n",
    "#plt.hist(means_size_3)\n",
    "sns.distplot(means_size_3)"
   ]
  },
  {
   "cell_type": "markdown",
   "metadata": {},
   "source": [
    "`1.` In order to create the sampling distribution for the average of 100 draws of this distribution, follow these steps:\n",
    "\n",
    "`a.` Use numpy's **random.choice** to simulate 100 draws from the `pop_data` array.   <br><br>\n",
    "`b.` Compute the mean of these 100 draws. <br><br>\n",
    "`c.` Write a loop to simulate this process 10,000 times, and store each mean into an array called **means_size_100**.<br><br>\n",
    "`d.` Plot a histogram of your sample means.<br><br>\n",
    "`e.` Use **means_size_100** and **pop_data** to answer the quiz questions below."
   ]
  },
  {
   "cell_type": "code",
   "execution_count": 37,
   "metadata": {},
   "outputs": [
    {
     "name": "stdout",
     "output_type": "stream",
     "text": [
      "88.13636154219621\n",
      "7541.4706886211015\n"
     ]
    }
   ],
   "source": [
    "sample = np.random.choice(pop_data,size=100)\n",
    "print(np.mean(sample))\n",
    "print(np.var(sample))"
   ]
  },
  {
   "cell_type": "code",
   "execution_count": 41,
   "metadata": {},
   "outputs": [
    {
     "data": {
      "text/plain": [
       "<matplotlib.axes._subplots.AxesSubplot at 0x1a214d4310>"
      ]
     },
     "execution_count": 41,
     "metadata": {},
     "output_type": "execute_result"
    },
    {
     "data": {
      "image/png": "[encoded data removed]",
      "text/plain": [
       "<Figure size 432x288 with 1 Axes>"
      ]
     },
     "metadata": {
      "needs_background": "light"
     },
     "output_type": "display_data"
    }
   ],
   "source": [
    "means_size_100 = []\n",
    "for i in range(10000):\n",
    "    each_mean = np.random.choice(pop_data,size=100).mean()\n",
    "    means_size_100.append(each_mean)\n",
    "\n",
    "#plt.hist(means_size_3)\n",
    "sns.distplot(means_size_100)"
   ]
  },
  {
   "cell_type": "code",
   "execution_count": 49,
   "metadata": {},
   "outputs": [
    {
     "data": {
      "text/plain": [
       "0    0.14293\n",
       "dtype: float64"
      ]
     },
     "execution_count": 49,
     "metadata": {},
     "output_type": "execute_result"
    }
   ],
   "source": [
    "pd.DataFrame(means_size_100).skew() #normal"
   ]
  },
  {
   "cell_type": "markdown",
   "metadata": {},
   "source": [
    "- The Law of Large Numbers says that as our sample size increases, the sample mean gets closer to the population mean\n",
    "- The Central Limit Theorem states that with a large enough sample size the sampling distribution of the mean will be normally distributed."
   ]
  },
  {
   "cell_type": "code",
   "execution_count": 42,
   "metadata": {},
   "outputs": [
    {
     "name": "stdout",
     "output_type": "stream",
     "text": [
      "75.41470688621102\n",
      "90.46638469781244\n"
     ]
    }
   ],
   "source": [
    "print(np.var(sample)/100)\n",
    "print(np.var(means_size_100))"
   ]
  },
  {
   "cell_type": "markdown",
   "metadata": {},
   "source": [
    "- CLT doesnt apply for variance\n",
    "\n",
    "`1.` In order to create the sampling distribution for the variance of 100 draws of this distribution, follow these steps:\n",
    "\n",
    "`a.` Use numpy's **random.choice** to simulate 100 draws from the `pop_data` array.   <br><br>\n",
    "`b.` Compute the variance of these 100 draws. <br><br>\n",
    "`c.` Write a loop to simulate this process 10,000 times, and store each variance into an array called **var_size_100**.<br><br>\n",
    "`d.` Plot a histogram of your sample variances.<br><br>\n",
    "`e.` Use **var_size_100** and **pop_data** to answer the quiz questions below. "
   ]
  },
  {
   "cell_type": "code",
   "execution_count": 50,
   "metadata": {},
   "outputs": [
    {
     "data": {
      "text/plain": [
       "5314.317367923279"
      ]
     },
     "execution_count": 50,
     "metadata": {},
     "output_type": "execute_result"
    }
   ],
   "source": [
    "np.random.seed(42)\n",
    "np.random.choice(pop_data,size=100).var()"
   ]
  },
  {
   "cell_type": "code",
   "execution_count": 51,
   "metadata": {},
   "outputs": [
    {
     "data": {
      "text/plain": [
       "<matplotlib.axes._subplots.AxesSubplot at 0x1a212cca50>"
      ]
     },
     "execution_count": 51,
     "metadata": {},
     "output_type": "execute_result"
    },
    {
     "data": {
      "image/png": "[encoded data removed]",
      "text/plain": [
       "<Figure size 432x288 with 1 Axes>"
      ]
     },
     "metadata": {
      "needs_background": "light"
     },
     "output_type": "display_data"
    }
   ],
   "source": [
    "var_size_100 = []\n",
    "for i in range(10000):\n",
    "    each_var = np.random.choice(pop_data,size=100).var()\n",
    "    var_size_100.append(each_var)\n",
    "\n",
    "#plt.hist(var_size_100)\n",
    "sns.distplot(var_size_100)"
   ]
  },
  {
   "cell_type": "code",
   "execution_count": 48,
   "metadata": {},
   "outputs": [
    {
     "data": {
      "text/plain": [
       "0    0.381907\n",
       "dtype: float64"
      ]
     },
     "execution_count": 48,
     "metadata": {},
     "output_type": "execute_result"
    }
   ],
   "source": [
    "pd.DataFrame(var_size_100).skew() #right skewed, not normal"
   ]
  },
  {
   "cell_type": "markdown",
   "metadata": {},
   "source": [
    "# Bootstrapping\n",
    "- Sampling with replacement\n",
    "- It turns out, we can do a pretty good job of finding out where a parameter is by using a sampling distribution created from bootstrapping from only one sample."
   ]
  },
  {
   "cell_type": "code",
   "execution_count": 1,
   "metadata": {},
   "outputs": [],
   "source": [
    "# Till now, whatever we did with np.random.choice was bootstrapping, with replacement"
   ]
  },
  {
   "cell_type": "code",
   "execution_count": 4,
   "metadata": {},
   "outputs": [
    {
     "data": {
      "text/plain": [
       "array([3, 6, 6, 1, 2, 6, 5, 2, 6, 5, 6, 6, 1, 6, 5, 6, 5, 5, 6, 5])"
      ]
     },
     "execution_count": 4,
     "metadata": {},
     "output_type": "execute_result"
    }
   ],
   "source": [
    "die_vals = np.array([1,2,3,4,5,6])\n",
    "np.random.choice(die_vals, size=20)"
   ]
  },
  {
   "cell_type": "code",
   "execution_count": 10,
   "metadata": {},
   "outputs": [
    {
     "data": {
      "text/plain": [
       "array([4, 3, 1, 6, 2])"
      ]
     },
     "execution_count": 10,
     "metadata": {},
     "output_type": "execute_result"
    }
   ],
   "source": [
    "np.random.choice(die_vals, replace=False, size=5)\n",
    "# Cannot Cannot take a sample size larger sample than population when 'replace=False' because we are not replacing \n",
    "# the value once picked(so once picked it gets exhausted)"
   ]
  },
  {
   "cell_type": "code",
   "execution_count": null,
   "metadata": {},
   "outputs": [],
   "source": [
    "# Confidence Intervals"
   ]
  }
 ],
 "metadata": {
  "kernelspec": {
   "display_name": "Python 3",
   "language": "python",
   "name": "python3"
  },
  "language_info": {
   "codemirror_mode": {
    "name": "ipython",
    "version": 3
   },
   "file_extension": ".py",
   "mimetype": "text/x-python",
   "name": "python",
   "nbconvert_exporter": "python",
   "pygments_lexer": "ipython3",
   "version": "3.7.4"
  }
 },
 "nbformat": 4,
 "nbformat_minor": 2
}
